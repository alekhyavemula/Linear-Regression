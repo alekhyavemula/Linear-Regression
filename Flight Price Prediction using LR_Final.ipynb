{
 "cells": [
  {
   "cell_type": "markdown",
   "metadata": {},
   "source": [
    "## Table of Content\n",
    "\n",
    "- **[Problem Statement](#prob)**\n",
    "1. **[Dataset Description](#data)**\n",
    "2. **[Data Preparation](#prep)**\n",
    "3.  **[Assumptions Before MLR Model](#before)**\n",
    "    - 3.1.1 - **[Assumption on Dependent Variable](#dep_num)**\n",
    "    - 3.1.2 - **[No or Little Multicollinearity](#no_multi)**\n",
    "    -  3.1.2.1 - **[Correlation Matrix](#corr)**\n",
    "4. **[Train-Test Split](#split)**\n",
    "5.  **[Model Building](#model)** \n",
    "   -  5.1 - **[MLR Full Model](#full)**\n",
    "   - 5.2 - **[MLR Model after Removing Insignificant Variables](#signi_var)**\n",
    "   - 5.3 - **[MLR Model with PCA Technique](#pca)**\n",
    "    - 5.4 - **[MLR Model with RFE Technique](#rfe)**\n",
    "    - 5.5 - **[MLR Model with Forward selection Technique](#fwd)**\n",
    "    - 5.6 - **[MLR Model with Backward selection Technique](#bwd)**\n",
    "        \n",
    "6.  **[Assumptions After MLR Model](#assum)**\n",
    "       - 6.1 - **[Linear Relationship between Dependent and Independent Variable](#linear_reln)**\n",
    "       - 6.2 - **[Autocorrelation](#auto)**\n",
    "       - 6.3 - **[Heteroskedasticity](#sked)**\n",
    "       - 6.4 - **[Tests for Normality](#normality)**\n",
    "   \n",
    "7. **[Model Evaluation](#eval)**\n",
    "      \n",
    "8. **[K Fold Cross Validation](#kfold)**\n",
    "    "
   ]
  },
  {
   "cell_type": "markdown",
   "metadata": {},
   "source": [
    "<a id=\"prob\"></a>\n",
    "## Problem Statement"
   ]
  },
  {
   "cell_type": "markdown",
   "metadata": {},
   "source": [
    "**Ticket booking agent wants help to predict the flight price. He gave us the dataset to work on and we decided to use the Linear Regression Model. Created a model that will help him to estimate the price for more profit.**"
   ]
  },
  {
   "cell_type": "markdown",
   "metadata": {},
   "source": [
    "<a id=\"data\"></a>\n",
    "## Data Set Description"
   ]
  },
  {
   "cell_type": "markdown",
   "metadata": {},
   "source": [
    "The data definition which comes with the data is as follows:\n",
    "\n",
    "**Airline:** Name of a Airline company\n",
    "    \n",
    "**Date_of_Journey:** Journey Date\n",
    "    \n",
    "**Source:** From where the flight departed\n",
    "\n",
    "**Route:** Which route the flight is following\n",
    "\n",
    "**Dep_Time:** At what time the flight departure\n",
    "\n",
    "**Arrival_Time:** At what time the flight arrived\n",
    "\n",
    "**Duration:** Duration of the Journey\n",
    "\n",
    "**Total_Stops:** No of stops flight has during the journey\n",
    "\n",
    "**Additional_Info:** Information such as meal or check in package is included or not\n",
    "\n",
    "**Price:** Price of the flight ticket\n"
   ]
  },
  {
   "cell_type": "code",
   "execution_count": 290,
   "metadata": {},
   "outputs": [],
   "source": [
    "##importing necessary libraries\n",
    "# import 'Pandas' \n",
    "import pandas as pd \n",
    "\n",
    "# import 'Numpy' \n",
    "import numpy as np\n",
    "\n",
    "# import subpackage of Matplotlib\n",
    "import matplotlib.pyplot as plt\n",
    "\n",
    "# import 'Seaborn' \n",
    "import seaborn as sns\n",
    "\n",
    "# to suppress warnings \n",
    "from warnings import filterwarnings\n",
    "filterwarnings('ignore')\n",
    "\n",
    "# display all columns of the dataframe\n",
    "pd.options.display.max_columns = None\n",
    "\n",
    "# display all rows of the dataframe\n",
    "pd.options.display.max_rows = None\n",
    " \n",
    "# to display the float values upto 6 decimal places     \n",
    "pd.options.display.float_format = '{:.6f}'.format\n",
    "\n",
    "# import train-test split \n",
    "from sklearn.model_selection import train_test_split\n",
    "\n",
    "# import various functions from statsmodel to perform linear regression\n",
    "import statsmodels\n",
    "import statsmodels.api as sm\n",
    "import statsmodels.stats.api as sms\n",
    "from statsmodels.compat import lzip\n",
    "from statsmodels.stats.outliers_influence import variance_inflation_factor\n",
    "from statsmodels.graphics.gofplots import qqplot\n",
    "from statsmodels.stats.anova import anova_lm\n",
    "from statsmodels.formula.api import ols\n",
    "from statsmodels.tools.eval_measures import rmse\n",
    "\n",
    "# import various functions from scipy\n",
    "from scipy import stats\n",
    "from scipy.stats import shapiro\n",
    "\n",
    "# 'metrics' from sklearn is used for evaluating the model performance\n",
    "from sklearn.metrics import mean_absolute_error\n",
    "from sklearn.metrics import mean_squared_error\n",
    "\n",
    "# import function for ridge regression\n",
    "from sklearn.linear_model import Ridge\n",
    "\n",
    "# import function for lasso regression\n",
    "from sklearn.linear_model import Lasso\n",
    "\n",
    "# import function for elastic net regression\n",
    "from sklearn.linear_model import ElasticNet\n",
    "\n",
    "# import function to perform GridSearchCV\n",
    "from sklearn.model_selection import GridSearchCV\n",
    "\n",
    "# import functions to perform cross validation\n",
    "from sklearn.model_selection import LeaveOneOut\n",
    "from sklearn.model_selection import cross_val_score\n",
    "from sklearn.model_selection import KFold\n"
   ]
  },
  {
   "cell_type": "code",
   "execution_count": 291,
   "metadata": {},
   "outputs": [
    {
     "data": {
      "text/html": [
       "<div>\n",
       "<style scoped>\n",
       "    .dataframe tbody tr th:only-of-type {\n",
       "        vertical-align: middle;\n",
       "    }\n",
       "\n",
       "    .dataframe tbody tr th {\n",
       "        vertical-align: top;\n",
       "    }\n",
       "\n",
       "    .dataframe thead th {\n",
       "        text-align: right;\n",
       "    }\n",
       "</style>\n",
       "<table border=\"1\" class=\"dataframe\">\n",
       "  <thead>\n",
       "    <tr style=\"text-align: right;\">\n",
       "      <th></th>\n",
       "      <th>Airline</th>\n",
       "      <th>Date_of_Journey</th>\n",
       "      <th>Source</th>\n",
       "      <th>Destination</th>\n",
       "      <th>Route</th>\n",
       "      <th>Dep_Time</th>\n",
       "      <th>Arrival_Time</th>\n",
       "      <th>Duration</th>\n",
       "      <th>Total_Stops</th>\n",
       "      <th>Additional_Info</th>\n",
       "      <th>Price</th>\n",
       "    </tr>\n",
       "  </thead>\n",
       "  <tbody>\n",
       "    <tr>\n",
       "      <th>0</th>\n",
       "      <td>IndiGo</td>\n",
       "      <td>24/03/2019</td>\n",
       "      <td>Banglore</td>\n",
       "      <td>New Delhi</td>\n",
       "      <td>BLR → DEL</td>\n",
       "      <td>22:20</td>\n",
       "      <td>01:10 22 Mar</td>\n",
       "      <td>2h 50m</td>\n",
       "      <td>non-stop</td>\n",
       "      <td>No info</td>\n",
       "      <td>3897.000000</td>\n",
       "    </tr>\n",
       "    <tr>\n",
       "      <th>1</th>\n",
       "      <td>Air India</td>\n",
       "      <td>1/05/2019</td>\n",
       "      <td>Kolkata</td>\n",
       "      <td>Banglore</td>\n",
       "      <td>CCU → IXR → BBI → BLR</td>\n",
       "      <td>05:50</td>\n",
       "      <td>13:15</td>\n",
       "      <td>7h 25m</td>\n",
       "      <td>2 stops</td>\n",
       "      <td>No info</td>\n",
       "      <td>7662.000000</td>\n",
       "    </tr>\n",
       "    <tr>\n",
       "      <th>2</th>\n",
       "      <td>Jet Airways</td>\n",
       "      <td>9/06/2019</td>\n",
       "      <td>Delhi</td>\n",
       "      <td>Cochin</td>\n",
       "      <td>DEL → LKO → BOM → COK</td>\n",
       "      <td>09:25</td>\n",
       "      <td>04:25 10 Jun</td>\n",
       "      <td>19h</td>\n",
       "      <td>2 stops</td>\n",
       "      <td>No info</td>\n",
       "      <td>13882.000000</td>\n",
       "    </tr>\n",
       "    <tr>\n",
       "      <th>3</th>\n",
       "      <td>IndiGo</td>\n",
       "      <td>12/05/2019</td>\n",
       "      <td>Kolkata</td>\n",
       "      <td>Banglore</td>\n",
       "      <td>CCU → NAG → BLR</td>\n",
       "      <td>18:05</td>\n",
       "      <td>23:30</td>\n",
       "      <td>5h 25m</td>\n",
       "      <td>1 stop</td>\n",
       "      <td>No info</td>\n",
       "      <td>6218.000000</td>\n",
       "    </tr>\n",
       "    <tr>\n",
       "      <th>4</th>\n",
       "      <td>IndiGo</td>\n",
       "      <td>01/03/2019</td>\n",
       "      <td>Banglore</td>\n",
       "      <td>New Delhi</td>\n",
       "      <td>BLR → NAG → DEL</td>\n",
       "      <td>16:50</td>\n",
       "      <td>21:35</td>\n",
       "      <td>4h 45m</td>\n",
       "      <td>1 stop</td>\n",
       "      <td>No info</td>\n",
       "      <td>13302.000000</td>\n",
       "    </tr>\n",
       "  </tbody>\n",
       "</table>\n",
       "</div>"
      ],
      "text/plain": [
       "       Airline Date_of_Journey    Source Destination                  Route  \\\n",
       "0       IndiGo      24/03/2019  Banglore   New Delhi              BLR → DEL   \n",
       "1    Air India       1/05/2019   Kolkata    Banglore  CCU → IXR → BBI → BLR   \n",
       "2  Jet Airways       9/06/2019     Delhi      Cochin  DEL → LKO → BOM → COK   \n",
       "3       IndiGo      12/05/2019   Kolkata    Banglore        CCU → NAG → BLR   \n",
       "4       IndiGo      01/03/2019  Banglore   New Delhi        BLR → NAG → DEL   \n",
       "\n",
       "  Dep_Time  Arrival_Time Duration Total_Stops Additional_Info        Price  \n",
       "0    22:20  01:10 22 Mar   2h 50m    non-stop         No info  3897.000000  \n",
       "1    05:50         13:15   7h 25m     2 stops         No info  7662.000000  \n",
       "2    09:25  04:25 10 Jun      19h     2 stops         No info 13882.000000  \n",
       "3    18:05         23:30   5h 25m      1 stop         No info  6218.000000  \n",
       "4    16:50         21:35   4h 45m      1 stop         No info 13302.000000  "
      ]
     },
     "execution_count": 291,
     "metadata": {},
     "output_type": "execute_result"
    }
   ],
   "source": [
    "##load dataset\n",
    "df = pd.read_excel(\"FlightPrice_All.xlsx\")\n",
    "df.head()"
   ]
  },
  {
   "cell_type": "markdown",
   "metadata": {},
   "source": [
    "<a id=\"prep\"></a>\n",
    "### <span style=\"font-family: Arial; font-weight:bold;font-size:1.5em;color:black;\">Data Preparation\n"
   ]
  },
  {
   "cell_type": "code",
   "execution_count": 292,
   "metadata": {},
   "outputs": [
    {
     "name": "stdout",
     "output_type": "stream",
     "text": [
      "<class 'pandas.core.frame.DataFrame'>\n",
      "RangeIndex: 13354 entries, 0 to 13353\n",
      "Data columns (total 11 columns):\n",
      " #   Column           Non-Null Count  Dtype  \n",
      "---  ------           --------------  -----  \n",
      " 0   Airline          13354 non-null  object \n",
      " 1   Date_of_Journey  13354 non-null  object \n",
      " 2   Source           13354 non-null  object \n",
      " 3   Destination      13354 non-null  object \n",
      " 4   Route            13353 non-null  object \n",
      " 5   Dep_Time         13354 non-null  object \n",
      " 6   Arrival_Time     13354 non-null  object \n",
      " 7   Duration         13354 non-null  object \n",
      " 8   Total_Stops      13353 non-null  object \n",
      " 9   Additional_Info  13354 non-null  object \n",
      " 10  Price            10683 non-null  float64\n",
      "dtypes: float64(1), object(10)\n",
      "memory usage: 1.1+ MB\n"
     ]
    }
   ],
   "source": [
    "df.info()"
   ]
  },
  {
   "cell_type": "code",
   "execution_count": 293,
   "metadata": {},
   "outputs": [
    {
     "data": {
      "text/plain": [
       "(13354, 11)"
      ]
     },
     "execution_count": 293,
     "metadata": {},
     "output_type": "execute_result"
    }
   ],
   "source": [
    "df.shape"
   ]
  },
  {
   "cell_type": "code",
   "execution_count": 294,
   "metadata": {},
   "outputs": [],
   "source": [
    "df.dropna(axis=0,inplace=True)"
   ]
  },
  {
   "cell_type": "code",
   "execution_count": 295,
   "metadata": {},
   "outputs": [],
   "source": [
    "df['Date_of_Journey'] = pd.to_datetime(df['Date_of_Journey'])\n",
    "df['Dep_Time'] = pd.to_datetime(df['Dep_Time'])\n",
    "df['Arrival_Time'] = pd.to_datetime(df['Arrival_Time'])"
   ]
  },
  {
   "cell_type": "code",
   "execution_count": 296,
   "metadata": {},
   "outputs": [
    {
     "name": "stdout",
     "output_type": "stream",
     "text": [
      "<class 'pandas.core.frame.DataFrame'>\n",
      "Int64Index: 10682 entries, 0 to 10682\n",
      "Data columns (total 11 columns):\n",
      " #   Column           Non-Null Count  Dtype         \n",
      "---  ------           --------------  -----         \n",
      " 0   Airline          10682 non-null  object        \n",
      " 1   Date_of_Journey  10682 non-null  datetime64[ns]\n",
      " 2   Source           10682 non-null  object        \n",
      " 3   Destination      10682 non-null  object        \n",
      " 4   Route            10682 non-null  object        \n",
      " 5   Dep_Time         10682 non-null  datetime64[ns]\n",
      " 6   Arrival_Time     10682 non-null  datetime64[ns]\n",
      " 7   Duration         10682 non-null  object        \n",
      " 8   Total_Stops      10682 non-null  object        \n",
      " 9   Additional_Info  10682 non-null  object        \n",
      " 10  Price            10682 non-null  float64       \n",
      "dtypes: datetime64[ns](3), float64(1), object(7)\n",
      "memory usage: 1001.4+ KB\n"
     ]
    }
   ],
   "source": [
    "df.info()"
   ]
  },
  {
   "cell_type": "code",
   "execution_count": 297,
   "metadata": {},
   "outputs": [],
   "source": [
    "flight_data = df.copy()"
   ]
  },
  {
   "cell_type": "code",
   "execution_count": 298,
   "metadata": {},
   "outputs": [],
   "source": [
    "flight_data.drop('Additional_Info',axis=1,inplace=True)\n",
    "flight_data.drop('Route',axis=1,inplace=True)"
   ]
  },
  {
   "cell_type": "code",
   "execution_count": 299,
   "metadata": {},
   "outputs": [],
   "source": [
    "def hr_func(ts):\n",
    "    return ts.hour\n",
    "\n",
    "def min_func(ts):\n",
    "    return ts.minute"
   ]
  },
  {
   "cell_type": "code",
   "execution_count": 300,
   "metadata": {},
   "outputs": [],
   "source": [
    "flight_data['Dep_Hour'] = flight_data['Dep_Time'].apply(hr_func)\n",
    "flight_data['Dep_Minute'] = flight_data['Dep_Time'].apply(min_func)"
   ]
  },
  {
   "cell_type": "code",
   "execution_count": 301,
   "metadata": {},
   "outputs": [],
   "source": [
    "flight_data['Arrival_Hour'] = flight_data['Arrival_Time'].apply(hr_func)\n",
    "flight_data['Arrival_Minute'] = flight_data['Arrival_Time'].apply(min_func)"
   ]
  },
  {
   "cell_type": "code",
   "execution_count": 302,
   "metadata": {},
   "outputs": [],
   "source": [
    "flight_data['Journey_Weekday'] = flight_data['Date_of_Journey'].dt.dayofweek\n",
    "#flight_data['Weekday_Journey'] = flight_data['Date_of_Journey'].apply(lambda x: x.weekday())\n",
    "flight_data['Journey_Month'] = flight_data['Date_of_Journey'].dt.month\n",
    "flight_data['Journey_Date'] = flight_data['Date_of_Journey'].dt.day"
   ]
  },
  {
   "cell_type": "code",
   "execution_count": 303,
   "metadata": {},
   "outputs": [],
   "source": [
    "duration=list(flight_data['Duration'])\n",
    "\n",
    "for i in range(len(duration)):\n",
    "    if len(duration[i].split(' '))==2:\n",
    "        pass\n",
    "    else:\n",
    "        if 'h' in duration[i]:                   # Check if duration contains only hour\n",
    "            duration[i]=duration[i] + ' 0m'      # Adds 0 minute\n",
    "        else:\n",
    "            duration[i]='0h '+ duration[i]       # if duration contains only second, Adds 0 hour"
   ]
  },
  {
   "cell_type": "code",
   "execution_count": 304,
   "metadata": {},
   "outputs": [],
   "source": [
    "flight_data['Duration']=duration"
   ]
  },
  {
   "cell_type": "code",
   "execution_count": 305,
   "metadata": {},
   "outputs": [],
   "source": [
    "def hour(x):\n",
    "    return x.split(' ')[0][0:-1]\n",
    "\n",
    "def min(x):\n",
    "    return x.split(' ')[1][0:-1]"
   ]
  },
  {
   "cell_type": "code",
   "execution_count": 306,
   "metadata": {},
   "outputs": [],
   "source": [
    "flight_data['Duration_hours']=flight_data['Duration'].apply(hour)\n",
    "flight_data['Duration_mins']=flight_data['Duration'].apply(min)"
   ]
  },
  {
   "cell_type": "code",
   "execution_count": 307,
   "metadata": {},
   "outputs": [],
   "source": [
    "flight_data.drop('Date_of_Journey',axis=1,inplace=True)\n",
    "flight_data.drop('Arrival_Time',axis=1,inplace=True)\n",
    "flight_data.drop('Dep_Time',axis=1,inplace=True)\n",
    "flight_data.drop('Duration',axis=1,inplace=True)"
   ]
  },
  {
   "cell_type": "code",
   "execution_count": 308,
   "metadata": {},
   "outputs": [
    {
     "data": {
      "text/plain": [
       "1 stop      5625\n",
       "non-stop    3491\n",
       "2 stops     1520\n",
       "3 stops       45\n",
       "4 stops        1\n",
       "Name: Total_Stops, dtype: int64"
      ]
     },
     "execution_count": 308,
     "metadata": {},
     "output_type": "execute_result"
    }
   ],
   "source": [
    "flight_data['Total_Stops'].value_counts()"
   ]
  },
  {
   "cell_type": "code",
   "execution_count": 309,
   "metadata": {},
   "outputs": [],
   "source": [
    "dict = {'1 stop' : 1, 'non-stop': 0, '2 stops' : 2, '3 stops' : 3, '4 stops' : 4}\n",
    "flight_data['Total_Stops'] = flight_data['Total_Stops'].map(dict)"
   ]
  },
  {
   "cell_type": "code",
   "execution_count": 310,
   "metadata": {},
   "outputs": [
    {
     "data": {
      "text/plain": [
       "<AxesSubplot:xlabel='Total_Stops', ylabel='Price'>"
      ]
     },
     "execution_count": 310,
     "metadata": {},
     "output_type": "execute_result"
    },
    {
     "data": {
      "image/png": "[encoded data removed]",
      "text/plain": [
       "<Figure size 1080x504 with 1 Axes>"
      ]
     },
     "metadata": {
      "needs_background": "light"
     },
     "output_type": "display_data"
    }
   ],
   "source": [
    "plt.figure(figsize=(15,7))\n",
    "sns.boxplot(x=flight_data['Total_Stops'],y = flight_data['Price'])"
   ]
  },
  {
   "cell_type": "code",
   "execution_count": 311,
   "metadata": {
    "scrolled": false
   },
   "outputs": [
    {
     "data": {
      "text/plain": [
       "Jet Airways                          3849\n",
       "IndiGo                               2053\n",
       "Air India                            1751\n",
       "Multiple carriers                    1196\n",
       "SpiceJet                              818\n",
       "Vistara                               479\n",
       "Air Asia                              319\n",
       "GoAir                                 194\n",
       "Multiple carriers Premium economy      13\n",
       "Jet Airways Business                    6\n",
       "Vistara Premium economy                 3\n",
       "Trujet                                  1\n",
       "Name: Airline, dtype: int64"
      ]
     },
     "execution_count": 311,
     "metadata": {},
     "output_type": "execute_result"
    }
   ],
   "source": [
    "df.Airline.value_counts()"
   ]
  },
  {
   "cell_type": "code",
   "execution_count": 312,
   "metadata": {},
   "outputs": [
    {
     "data": {
      "image/png": "[encoded data removed]",
      "text/plain": [
       "<Figure size 1296x432 with 1 Axes>"
      ]
     },
     "metadata": {
      "needs_background": "light"
     },
     "output_type": "display_data"
    }
   ],
   "source": [
    "sns.catplot(y = \"Price\", x = \"Airline\", data = flight_data.sort_values(\"Price\", ascending = False), kind=\"boxen\", height = 6, aspect = 3)\n",
    "plt.show()"
   ]
  },
  {
   "cell_type": "code",
   "execution_count": 313,
   "metadata": {},
   "outputs": [
    {
     "data": {
      "image/png": "[encoded data removed]",
      "text/plain": [
       "<Figure size 864x288 with 1 Axes>"
      ]
     },
     "metadata": {
      "needs_background": "light"
     },
     "output_type": "display_data"
    }
   ],
   "source": [
    "sns.catplot(y = \"Price\", x = \"Source\", data = flight_data.sort_values(\"Price\", ascending = False), kind=\"boxen\", height = 4, aspect = 3)\n",
    "plt.show()"
   ]
  },
  {
   "cell_type": "code",
   "execution_count": 314,
   "metadata": {},
   "outputs": [
    {
     "data": {
      "image/png": "[encoded data removed]",
      "text/plain": [
       "<Figure size 864x288 with 1 Axes>"
      ]
     },
     "metadata": {
      "needs_background": "light"
     },
     "output_type": "display_data"
    }
   ],
   "source": [
    "sns.catplot(y = \"Price\", x = \"Destination\", data = flight_data.sort_values(\"Price\", ascending = False), kind=\"boxen\", height = 4, aspect = 3)\n",
    "plt.show()\n"
   ]
  },
  {
   "cell_type": "code",
   "execution_count": 315,
   "metadata": {},
   "outputs": [
    {
     "data": {
      "text/plain": [
       "<AxesSubplot:xlabel='Dep_Hour', ylabel='Price'>"
      ]
     },
     "execution_count": 315,
     "metadata": {},
     "output_type": "execute_result"
    },
    {
     "data": {
      "image/png": "[encoded data removed]",
      "text/plain": [
       "<Figure size 1080x504 with 1 Axes>"
      ]
     },
     "metadata": {
      "needs_background": "light"
     },
     "output_type": "display_data"
    }
   ],
   "source": [
    "plt.figure(figsize=(15,7))\n",
    "sns.boxplot(x=flight_data['Dep_Hour'],y=flight_data['Price'])"
   ]
  },
  {
   "cell_type": "code",
   "execution_count": 316,
   "metadata": {},
   "outputs": [
    {
     "data": {
      "text/plain": [
       "<AxesSubplot:xlabel='Arrival_Hour', ylabel='Price'>"
      ]
     },
     "execution_count": 316,
     "metadata": {},
     "output_type": "execute_result"
    },
    {
     "data": {
      "image/png": "[encoded data removed]",
      "text/plain": [
       "<Figure size 1080x504 with 1 Axes>"
      ]
     },
     "metadata": {
      "needs_background": "light"
     },
     "output_type": "display_data"
    }
   ],
   "source": [
    "plt.figure(figsize=(15,7))\n",
    "sns.boxplot(x=flight_data['Arrival_Hour'],y=flight_data['Price'])"
   ]
  },
  {
   "cell_type": "code",
   "execution_count": 317,
   "metadata": {},
   "outputs": [
    {
     "data": {
      "text/plain": [
       "<AxesSubplot:xlabel='Journey_Date', ylabel='Price'>"
      ]
     },
     "execution_count": 317,
     "metadata": {},
     "output_type": "execute_result"
    },
    {
     "data": {
      "image/png": "[encoded data removed]",
      "text/plain": [
       "<Figure size 1080x504 with 1 Axes>"
      ]
     },
     "metadata": {
      "needs_background": "light"
     },
     "output_type": "display_data"
    }
   ],
   "source": [
    "plt.figure(figsize=(15,7))\n",
    "sns.boxplot(x=flight_data['Journey_Date'],y=flight_data['Price'])"
   ]
  },
  {
   "cell_type": "code",
   "execution_count": 318,
   "metadata": {},
   "outputs": [
    {
     "data": {
      "text/plain": [
       "<AxesSubplot:xlabel='Journey_Month', ylabel='Price'>"
      ]
     },
     "execution_count": 318,
     "metadata": {},
     "output_type": "execute_result"
    },
    {
     "data": {
      "image/png": "[encoded data removed]",
      "text/plain": [
       "<Figure size 1080x504 with 1 Axes>"
      ]
     },
     "metadata": {
      "needs_background": "light"
     },
     "output_type": "display_data"
    }
   ],
   "source": [
    "plt.figure(figsize=(15,7))\n",
    "sns.boxplot(x=flight_data['Journey_Month'],y=flight_data['Price'])"
   ]
  },
  {
   "cell_type": "code",
   "execution_count": 319,
   "metadata": {},
   "outputs": [
    {
     "data": {
      "text/plain": [
       "<AxesSubplot:xlabel='Journey_Weekday', ylabel='Price'>"
      ]
     },
     "execution_count": 319,
     "metadata": {},
     "output_type": "execute_result"
    },
    {
     "data": {
      "image/png": "[encoded data removed]",
      "text/plain": [
       "<Figure size 1080x504 with 1 Axes>"
      ]
     },
     "metadata": {
      "needs_background": "light"
     },
     "output_type": "display_data"
    }
   ],
   "source": [
    "plt.figure(figsize=(15,7))\n",
    "sns.boxplot(x=flight_data['Journey_Weekday'],y=flight_data['Price'])"
   ]
  },
  {
   "cell_type": "code",
   "execution_count": 320,
   "metadata": {},
   "outputs": [
    {
     "data": {
      "text/plain": [
       "<AxesSubplot:xlabel='Duration_hours', ylabel='Price'>"
      ]
     },
     "execution_count": 320,
     "metadata": {},
     "output_type": "execute_result"
    },
    {
     "data": {
      "image/png": "[encoded data removed]",
      "text/plain": [
       "<Figure size 1440x504 with 1 Axes>"
      ]
     },
     "metadata": {
      "needs_background": "light"
     },
     "output_type": "display_data"
    }
   ],
   "source": [
    "plt.figure(figsize=(20,7))\n",
    "sns.boxplot(x=flight_data['Duration_hours'],y=flight_data['Price'])"
   ]
  },
  {
   "cell_type": "code",
   "execution_count": 321,
   "metadata": {},
   "outputs": [
    {
     "data": {
      "text/html": [
       "<div>\n",
       "<style scoped>\n",
       "    .dataframe tbody tr th:only-of-type {\n",
       "        vertical-align: middle;\n",
       "    }\n",
       "\n",
       "    .dataframe tbody tr th {\n",
       "        vertical-align: top;\n",
       "    }\n",
       "\n",
       "    .dataframe thead th {\n",
       "        text-align: right;\n",
       "    }\n",
       "</style>\n",
       "<table border=\"1\" class=\"dataframe\">\n",
       "  <thead>\n",
       "    <tr style=\"text-align: right;\">\n",
       "      <th></th>\n",
       "      <th>Airline</th>\n",
       "      <th>Source</th>\n",
       "      <th>Destination</th>\n",
       "      <th>Total_Stops</th>\n",
       "      <th>Price</th>\n",
       "      <th>Dep_Hour</th>\n",
       "      <th>Dep_Minute</th>\n",
       "      <th>Arrival_Hour</th>\n",
       "      <th>Arrival_Minute</th>\n",
       "      <th>Journey_Weekday</th>\n",
       "      <th>Journey_Month</th>\n",
       "      <th>Journey_Date</th>\n",
       "      <th>Duration_hours</th>\n",
       "      <th>Duration_mins</th>\n",
       "    </tr>\n",
       "  </thead>\n",
       "  <tbody>\n",
       "    <tr>\n",
       "      <th>0</th>\n",
       "      <td>IndiGo</td>\n",
       "      <td>Banglore</td>\n",
       "      <td>New Delhi</td>\n",
       "      <td>0</td>\n",
       "      <td>3897.000000</td>\n",
       "      <td>22</td>\n",
       "      <td>20</td>\n",
       "      <td>1</td>\n",
       "      <td>10</td>\n",
       "      <td>6</td>\n",
       "      <td>3</td>\n",
       "      <td>24</td>\n",
       "      <td>2</td>\n",
       "      <td>50</td>\n",
       "    </tr>\n",
       "    <tr>\n",
       "      <th>1</th>\n",
       "      <td>Air India</td>\n",
       "      <td>Kolkata</td>\n",
       "      <td>Banglore</td>\n",
       "      <td>2</td>\n",
       "      <td>7662.000000</td>\n",
       "      <td>5</td>\n",
       "      <td>50</td>\n",
       "      <td>13</td>\n",
       "      <td>15</td>\n",
       "      <td>5</td>\n",
       "      <td>1</td>\n",
       "      <td>5</td>\n",
       "      <td>7</td>\n",
       "      <td>25</td>\n",
       "    </tr>\n",
       "    <tr>\n",
       "      <th>2</th>\n",
       "      <td>Jet Airways</td>\n",
       "      <td>Delhi</td>\n",
       "      <td>Cochin</td>\n",
       "      <td>2</td>\n",
       "      <td>13882.000000</td>\n",
       "      <td>9</td>\n",
       "      <td>25</td>\n",
       "      <td>4</td>\n",
       "      <td>25</td>\n",
       "      <td>4</td>\n",
       "      <td>9</td>\n",
       "      <td>6</td>\n",
       "      <td>19</td>\n",
       "      <td>0</td>\n",
       "    </tr>\n",
       "    <tr>\n",
       "      <th>3</th>\n",
       "      <td>IndiGo</td>\n",
       "      <td>Kolkata</td>\n",
       "      <td>Banglore</td>\n",
       "      <td>1</td>\n",
       "      <td>6218.000000</td>\n",
       "      <td>18</td>\n",
       "      <td>5</td>\n",
       "      <td>23</td>\n",
       "      <td>30</td>\n",
       "      <td>3</td>\n",
       "      <td>12</td>\n",
       "      <td>5</td>\n",
       "      <td>5</td>\n",
       "      <td>25</td>\n",
       "    </tr>\n",
       "    <tr>\n",
       "      <th>4</th>\n",
       "      <td>IndiGo</td>\n",
       "      <td>Banglore</td>\n",
       "      <td>New Delhi</td>\n",
       "      <td>1</td>\n",
       "      <td>13302.000000</td>\n",
       "      <td>16</td>\n",
       "      <td>50</td>\n",
       "      <td>21</td>\n",
       "      <td>35</td>\n",
       "      <td>3</td>\n",
       "      <td>1</td>\n",
       "      <td>3</td>\n",
       "      <td>4</td>\n",
       "      <td>45</td>\n",
       "    </tr>\n",
       "  </tbody>\n",
       "</table>\n",
       "</div>"
      ],
      "text/plain": [
       "       Airline    Source Destination  Total_Stops        Price  Dep_Hour  \\\n",
       "0       IndiGo  Banglore   New Delhi            0  3897.000000        22   \n",
       "1    Air India   Kolkata    Banglore            2  7662.000000         5   \n",
       "2  Jet Airways     Delhi      Cochin            2 13882.000000         9   \n",
       "3       IndiGo   Kolkata    Banglore            1  6218.000000        18   \n",
       "4       IndiGo  Banglore   New Delhi            1 13302.000000        16   \n",
       "\n",
       "   Dep_Minute  Arrival_Hour  Arrival_Minute  Journey_Weekday  Journey_Month  \\\n",
       "0          20             1              10                6              3   \n",
       "1          50            13              15                5              1   \n",
       "2          25             4              25                4              9   \n",
       "3           5            23              30                3             12   \n",
       "4          50            21              35                3              1   \n",
       "\n",
       "   Journey_Date Duration_hours Duration_mins  \n",
       "0            24              2            50  \n",
       "1             5              7            25  \n",
       "2             6             19             0  \n",
       "3             5              5            25  \n",
       "4             3              4            45  "
      ]
     },
     "execution_count": 321,
     "metadata": {},
     "output_type": "execute_result"
    }
   ],
   "source": [
    "flight_data.head()"
   ]
  },
  {
   "cell_type": "code",
   "execution_count": 322,
   "metadata": {},
   "outputs": [],
   "source": [
    "flight_data['Duration_hours'] = flight_data['Duration_hours'].astype(int)\n",
    "flight_data['Duration_mins'] = flight_data['Duration_mins'].astype(int)"
   ]
  },
  {
   "cell_type": "code",
   "execution_count": 323,
   "metadata": {},
   "outputs": [],
   "source": [
    "flight_data.reset_index(drop = True,inplace=True)"
   ]
  },
  {
   "cell_type": "code",
   "execution_count": 324,
   "metadata": {},
   "outputs": [
    {
     "name": "stdout",
     "output_type": "stream",
     "text": [
      "<class 'pandas.core.frame.DataFrame'>\n",
      "RangeIndex: 10682 entries, 0 to 10681\n",
      "Data columns (total 14 columns):\n",
      " #   Column           Non-Null Count  Dtype  \n",
      "---  ------           --------------  -----  \n",
      " 0   Airline          10682 non-null  object \n",
      " 1   Source           10682 non-null  object \n",
      " 2   Destination      10682 non-null  object \n",
      " 3   Total_Stops      10682 non-null  int64  \n",
      " 4   Price            10682 non-null  float64\n",
      " 5   Dep_Hour         10682 non-null  int64  \n",
      " 6   Dep_Minute       10682 non-null  int64  \n",
      " 7   Arrival_Hour     10682 non-null  int64  \n",
      " 8   Arrival_Minute   10682 non-null  int64  \n",
      " 9   Journey_Weekday  10682 non-null  int64  \n",
      " 10  Journey_Month    10682 non-null  int64  \n",
      " 11  Journey_Date     10682 non-null  int64  \n",
      " 12  Duration_hours   10682 non-null  int32  \n",
      " 13  Duration_mins    10682 non-null  int32  \n",
      "dtypes: float64(1), int32(2), int64(8), object(3)\n",
      "memory usage: 1.1+ MB\n"
     ]
    }
   ],
   "source": [
    "flight_data.info()"
   ]
  },
  {
   "cell_type": "code",
   "execution_count": 325,
   "metadata": {},
   "outputs": [
    {
     "data": {
      "text/plain": [
       "(10682,)"
      ]
     },
     "execution_count": 325,
     "metadata": {},
     "output_type": "execute_result"
    }
   ],
   "source": [
    "y = flight_data['Price']\n",
    "y.shape"
   ]
  },
  {
   "cell_type": "code",
   "execution_count": 326,
   "metadata": {},
   "outputs": [
    {
     "data": {
      "text/plain": [
       "(10682, 10)"
      ]
     },
     "execution_count": 326,
     "metadata": {},
     "output_type": "execute_result"
    }
   ],
   "source": [
    "flight_data_num = flight_data.select_dtypes(include=np.number)\n",
    "flight_data_num.drop('Price',axis=1,inplace=True)\n",
    "flight_data_num.shape"
   ]
  },
  {
   "cell_type": "code",
   "execution_count": 327,
   "metadata": {},
   "outputs": [
    {
     "data": {
      "text/html": [
       "<div>\n",
       "<style scoped>\n",
       "    .dataframe tbody tr th:only-of-type {\n",
       "        vertical-align: middle;\n",
       "    }\n",
       "\n",
       "    .dataframe tbody tr th {\n",
       "        vertical-align: top;\n",
       "    }\n",
       "\n",
       "    .dataframe thead th {\n",
       "        text-align: right;\n",
       "    }\n",
       "</style>\n",
       "<table border=\"1\" class=\"dataframe\">\n",
       "  <thead>\n",
       "    <tr style=\"text-align: right;\">\n",
       "      <th></th>\n",
       "      <th>Total_Stops</th>\n",
       "      <th>Dep_Hour</th>\n",
       "      <th>Dep_Minute</th>\n",
       "      <th>Arrival_Hour</th>\n",
       "      <th>Arrival_Minute</th>\n",
       "      <th>Journey_Weekday</th>\n",
       "      <th>Journey_Month</th>\n",
       "      <th>Journey_Date</th>\n",
       "      <th>Duration_hours</th>\n",
       "      <th>Duration_mins</th>\n",
       "    </tr>\n",
       "  </thead>\n",
       "  <tbody>\n",
       "    <tr>\n",
       "      <th>0</th>\n",
       "      <td>0</td>\n",
       "      <td>22</td>\n",
       "      <td>20</td>\n",
       "      <td>1</td>\n",
       "      <td>10</td>\n",
       "      <td>6</td>\n",
       "      <td>3</td>\n",
       "      <td>24</td>\n",
       "      <td>2</td>\n",
       "      <td>50</td>\n",
       "    </tr>\n",
       "    <tr>\n",
       "      <th>1</th>\n",
       "      <td>2</td>\n",
       "      <td>5</td>\n",
       "      <td>50</td>\n",
       "      <td>13</td>\n",
       "      <td>15</td>\n",
       "      <td>5</td>\n",
       "      <td>1</td>\n",
       "      <td>5</td>\n",
       "      <td>7</td>\n",
       "      <td>25</td>\n",
       "    </tr>\n",
       "    <tr>\n",
       "      <th>2</th>\n",
       "      <td>2</td>\n",
       "      <td>9</td>\n",
       "      <td>25</td>\n",
       "      <td>4</td>\n",
       "      <td>25</td>\n",
       "      <td>4</td>\n",
       "      <td>9</td>\n",
       "      <td>6</td>\n",
       "      <td>19</td>\n",
       "      <td>0</td>\n",
       "    </tr>\n",
       "    <tr>\n",
       "      <th>3</th>\n",
       "      <td>1</td>\n",
       "      <td>18</td>\n",
       "      <td>5</td>\n",
       "      <td>23</td>\n",
       "      <td>30</td>\n",
       "      <td>3</td>\n",
       "      <td>12</td>\n",
       "      <td>5</td>\n",
       "      <td>5</td>\n",
       "      <td>25</td>\n",
       "    </tr>\n",
       "    <tr>\n",
       "      <th>4</th>\n",
       "      <td>1</td>\n",
       "      <td>16</td>\n",
       "      <td>50</td>\n",
       "      <td>21</td>\n",
       "      <td>35</td>\n",
       "      <td>3</td>\n",
       "      <td>1</td>\n",
       "      <td>3</td>\n",
       "      <td>4</td>\n",
       "      <td>45</td>\n",
       "    </tr>\n",
       "  </tbody>\n",
       "</table>\n",
       "</div>"
      ],
      "text/plain": [
       "   Total_Stops  Dep_Hour  Dep_Minute  Arrival_Hour  Arrival_Minute  \\\n",
       "0            0        22          20             1              10   \n",
       "1            2         5          50            13              15   \n",
       "2            2         9          25             4              25   \n",
       "3            1        18           5            23              30   \n",
       "4            1        16          50            21              35   \n",
       "\n",
       "   Journey_Weekday  Journey_Month  Journey_Date  Duration_hours  Duration_mins  \n",
       "0                6              3            24               2             50  \n",
       "1                5              1             5               7             25  \n",
       "2                4              9             6              19              0  \n",
       "3                3             12             5               5             25  \n",
       "4                3              1             3               4             45  "
      ]
     },
     "execution_count": 327,
     "metadata": {},
     "output_type": "execute_result"
    }
   ],
   "source": [
    "flight_data_num.head()"
   ]
  },
  {
   "cell_type": "code",
   "execution_count": 328,
   "metadata": {},
   "outputs": [],
   "source": [
    "from sklearn.preprocessing import StandardScaler"
   ]
  },
  {
   "cell_type": "code",
   "execution_count": 329,
   "metadata": {},
   "outputs": [
    {
     "data": {
      "text/plain": [
       "Index(['Total_Stops', 'Dep_Hour', 'Dep_Minute', 'Arrival_Hour',\n",
       "       'Arrival_Minute', 'Journey_Weekday', 'Journey_Month', 'Journey_Date',\n",
       "       'Duration_hours', 'Duration_mins'],\n",
       "      dtype='object')"
      ]
     },
     "execution_count": 329,
     "metadata": {},
     "output_type": "execute_result"
    }
   ],
   "source": [
    "scale = StandardScaler().fit_transform(flight_data_num)\n",
    "\n",
    "flight_data_num_scaled = pd.DataFrame(scale,columns=flight_data_num.columns)\n",
    "flight_data_num_scaled.head()\n",
    "flight_data_num_scaled.columns"
   ]
  },
  {
   "cell_type": "code",
   "execution_count": 330,
   "metadata": {},
   "outputs": [
    {
     "data": {
      "text/html": [
       "<div>\n",
       "<style scoped>\n",
       "    .dataframe tbody tr th:only-of-type {\n",
       "        vertical-align: middle;\n",
       "    }\n",
       "\n",
       "    .dataframe tbody tr th {\n",
       "        vertical-align: top;\n",
       "    }\n",
       "\n",
       "    .dataframe thead th {\n",
       "        text-align: right;\n",
       "    }\n",
       "</style>\n",
       "<table border=\"1\" class=\"dataframe\">\n",
       "  <thead>\n",
       "    <tr style=\"text-align: right;\">\n",
       "      <th></th>\n",
       "      <th>Total_Stops</th>\n",
       "      <th>Dep_Hour</th>\n",
       "      <th>Dep_Minute</th>\n",
       "      <th>Arrival_Hour</th>\n",
       "      <th>Arrival_Minute</th>\n",
       "      <th>Journey_Weekday</th>\n",
       "      <th>Journey_Month</th>\n",
       "      <th>Journey_Date</th>\n",
       "      <th>Duration_hours</th>\n",
       "      <th>Duration_mins</th>\n",
       "    </tr>\n",
       "  </thead>\n",
       "  <tbody>\n",
       "    <tr>\n",
       "      <th>0</th>\n",
       "      <td>-1.220666</td>\n",
       "      <td>1.654154</td>\n",
       "      <td>-0.234950</td>\n",
       "      <td>-1.800436</td>\n",
       "      <td>-0.890014</td>\n",
       "      <td>1.692538</td>\n",
       "      <td>-0.848450</td>\n",
       "      <td>1.285536</td>\n",
       "      <td>-0.970614</td>\n",
       "      <td>1.279041</td>\n",
       "    </tr>\n",
       "    <tr>\n",
       "      <th>1</th>\n",
       "      <td>1.741432</td>\n",
       "      <td>-1.303113</td>\n",
       "      <td>1.363607</td>\n",
       "      <td>-0.050909</td>\n",
       "      <td>-0.587094</td>\n",
       "      <td>1.147887</td>\n",
       "      <td>-1.517909</td>\n",
       "      <td>-0.872724</td>\n",
       "      <td>-0.381999</td>\n",
       "      <td>-0.196319</td>\n",
       "    </tr>\n",
       "    <tr>\n",
       "      <th>2</th>\n",
       "      <td>1.741432</td>\n",
       "      <td>-0.607286</td>\n",
       "      <td>0.031476</td>\n",
       "      <td>-1.363054</td>\n",
       "      <td>0.018745</td>\n",
       "      <td>0.603236</td>\n",
       "      <td>1.159928</td>\n",
       "      <td>-0.759131</td>\n",
       "      <td>1.030677</td>\n",
       "      <td>-1.671678</td>\n",
       "    </tr>\n",
       "    <tr>\n",
       "      <th>3</th>\n",
       "      <td>0.260383</td>\n",
       "      <td>0.958326</td>\n",
       "      <td>-1.034229</td>\n",
       "      <td>1.407030</td>\n",
       "      <td>0.321664</td>\n",
       "      <td>0.058585</td>\n",
       "      <td>2.164117</td>\n",
       "      <td>-0.872724</td>\n",
       "      <td>-0.617445</td>\n",
       "      <td>-0.196319</td>\n",
       "    </tr>\n",
       "    <tr>\n",
       "      <th>4</th>\n",
       "      <td>0.260383</td>\n",
       "      <td>0.610412</td>\n",
       "      <td>1.363607</td>\n",
       "      <td>1.115442</td>\n",
       "      <td>0.624584</td>\n",
       "      <td>0.058585</td>\n",
       "      <td>-1.517909</td>\n",
       "      <td>-1.099909</td>\n",
       "      <td>-0.735168</td>\n",
       "      <td>0.983969</td>\n",
       "    </tr>\n",
       "  </tbody>\n",
       "</table>\n",
       "</div>"
      ],
      "text/plain": [
       "   Total_Stops  Dep_Hour  Dep_Minute  Arrival_Hour  Arrival_Minute  \\\n",
       "0    -1.220666  1.654154   -0.234950     -1.800436       -0.890014   \n",
       "1     1.741432 -1.303113    1.363607     -0.050909       -0.587094   \n",
       "2     1.741432 -0.607286    0.031476     -1.363054        0.018745   \n",
       "3     0.260383  0.958326   -1.034229      1.407030        0.321664   \n",
       "4     0.260383  0.610412    1.363607      1.115442        0.624584   \n",
       "\n",
       "   Journey_Weekday  Journey_Month  Journey_Date  Duration_hours  Duration_mins  \n",
       "0         1.692538      -0.848450      1.285536       -0.970614       1.279041  \n",
       "1         1.147887      -1.517909     -0.872724       -0.381999      -0.196319  \n",
       "2         0.603236       1.159928     -0.759131        1.030677      -1.671678  \n",
       "3         0.058585       2.164117     -0.872724       -0.617445      -0.196319  \n",
       "4         0.058585      -1.517909     -1.099909       -0.735168       0.983969  "
      ]
     },
     "execution_count": 330,
     "metadata": {},
     "output_type": "execute_result"
    }
   ],
   "source": [
    "flight_data_num_scaled.head()"
   ]
  },
  {
   "cell_type": "code",
   "execution_count": 331,
   "metadata": {},
   "outputs": [
    {
     "data": {
      "text/plain": [
       "Total_Stops        0\n",
       "Dep_Hour           0\n",
       "Dep_Minute         0\n",
       "Arrival_Hour       0\n",
       "Arrival_Minute     0\n",
       "Journey_Weekday    0\n",
       "Journey_Month      0\n",
       "Journey_Date       0\n",
       "Duration_hours     0\n",
       "Duration_mins      0\n",
       "dtype: int64"
      ]
     },
     "execution_count": 331,
     "metadata": {},
     "output_type": "execute_result"
    }
   ],
   "source": [
    "flight_data_num_scaled.isnull().sum()"
   ]
  },
  {
   "cell_type": "markdown",
   "metadata": {},
   "source": [
    "# 3 .Assumptions Before MLR Model"
   ]
  },
  {
   "cell_type": "markdown",
   "metadata": {},
   "source": [
    "<a id=\"dep_num\"></a>\n",
    "### 3.1.1 Assumption on Dependent Variable"
   ]
  },
  {
   "cell_type": "markdown",
   "metadata": {},
   "source": [
    "The assumption for linear regression is that the dependent (target) variable should be numeric. In our dataset, the variable 'Price' saved as 'y' is the target/dependent variable. "
   ]
  },
  {
   "cell_type": "code",
   "execution_count": 332,
   "metadata": {},
   "outputs": [
    {
     "data": {
      "text/plain": [
       "dtype('float64')"
      ]
     },
     "execution_count": 332,
     "metadata": {},
     "output_type": "execute_result"
    }
   ],
   "source": [
    "y.dtype"
   ]
  },
  {
   "cell_type": "markdown",
   "metadata": {},
   "source": [
    "<a id=\"no_multi\"></a>\n",
    "### 3.1.2 No or Little Multicollinearity"
   ]
  },
  {
   "cell_type": "markdown",
   "metadata": {},
   "source": [
    "Whenever there are a large number of independent variables present in the dataset, there is a possibility that such independent variables will be strongly correlated. The presence of a strong correlation between the independent variables is called multicollinearity.\n",
    "\n",
    "The presence of multicollinearity can destabilize the model. Thus, the existence of multicollinearity must be detected and corrected actions should be taken.\n",
    "\n",
    "If we use dummy variables to encode a categorical variable and do not omit the parent column, then this results in a strong correlation between the dummy variables and the parent column."
   ]
  },
  {
   "cell_type": "markdown",
   "metadata": {},
   "source": [
    "<a id=\"corr\"></a>\n",
    "#### 3.1.2.1 Correlation Matrix"
   ]
  },
  {
   "cell_type": "markdown",
   "metadata": {},
   "source": [
    "Let us plot the heatmap to visualize the correlation matrix of the variables. The variables with a high correlation may induce multicollinearity in the data."
   ]
  },
  {
   "cell_type": "code",
   "execution_count": 333,
   "metadata": {},
   "outputs": [
    {
     "data": {
      "text/html": [
       "<div>\n",
       "<style scoped>\n",
       "    .dataframe tbody tr th:only-of-type {\n",
       "        vertical-align: middle;\n",
       "    }\n",
       "\n",
       "    .dataframe tbody tr th {\n",
       "        vertical-align: top;\n",
       "    }\n",
       "\n",
       "    .dataframe thead th {\n",
       "        text-align: right;\n",
       "    }\n",
       "</style>\n",
       "<table border=\"1\" class=\"dataframe\">\n",
       "  <thead>\n",
       "    <tr style=\"text-align: right;\">\n",
       "      <th></th>\n",
       "      <th>Total_Stops</th>\n",
       "      <th>Price</th>\n",
       "      <th>Dep_Hour</th>\n",
       "      <th>Dep_Minute</th>\n",
       "      <th>Arrival_Hour</th>\n",
       "      <th>Arrival_Minute</th>\n",
       "      <th>Journey_Weekday</th>\n",
       "      <th>Journey_Month</th>\n",
       "      <th>Journey_Date</th>\n",
       "      <th>Duration_hours</th>\n",
       "      <th>Duration_mins</th>\n",
       "    </tr>\n",
       "  </thead>\n",
       "  <tbody>\n",
       "    <tr>\n",
       "      <th>Total_Stops</th>\n",
       "      <td>1.000000</td>\n",
       "      <td>0.603897</td>\n",
       "      <td>-0.061476</td>\n",
       "      <td>-0.002618</td>\n",
       "      <td>0.038140</td>\n",
       "      <td>-0.106940</td>\n",
       "      <td>0.001585</td>\n",
       "      <td>0.065495</td>\n",
       "      <td>-0.024136</td>\n",
       "      <td>0.739916</td>\n",
       "      <td>-0.136706</td>\n",
       "    </tr>\n",
       "    <tr>\n",
       "      <th>Price</th>\n",
       "      <td>0.603897</td>\n",
       "      <td>1.000000</td>\n",
       "      <td>0.006799</td>\n",
       "      <td>-0.024458</td>\n",
       "      <td>0.024244</td>\n",
       "      <td>-0.086155</td>\n",
       "      <td>-0.007777</td>\n",
       "      <td>0.010705</td>\n",
       "      <td>-0.165448</td>\n",
       "      <td>0.508778</td>\n",
       "      <td>-0.124855</td>\n",
       "    </tr>\n",
       "    <tr>\n",
       "      <th>Dep_Hour</th>\n",
       "      <td>-0.061476</td>\n",
       "      <td>0.006799</td>\n",
       "      <td>1.000000</td>\n",
       "      <td>-0.024745</td>\n",
       "      <td>0.005180</td>\n",
       "      <td>0.067911</td>\n",
       "      <td>0.000791</td>\n",
       "      <td>0.028189</td>\n",
       "      <td>-0.002301</td>\n",
       "      <td>0.002869</td>\n",
       "      <td>-0.023707</td>\n",
       "    </tr>\n",
       "    <tr>\n",
       "      <th>Dep_Minute</th>\n",
       "      <td>-0.002618</td>\n",
       "      <td>-0.024458</td>\n",
       "      <td>-0.024745</td>\n",
       "      <td>1.000000</td>\n",
       "      <td>0.043122</td>\n",
       "      <td>-0.017597</td>\n",
       "      <td>0.002068</td>\n",
       "      <td>0.002136</td>\n",
       "      <td>-0.016433</td>\n",
       "      <td>-0.022104</td>\n",
       "      <td>0.092485</td>\n",
       "    </tr>\n",
       "    <tr>\n",
       "      <th>Arrival_Hour</th>\n",
       "      <td>0.038140</td>\n",
       "      <td>0.024244</td>\n",
       "      <td>0.005180</td>\n",
       "      <td>0.043122</td>\n",
       "      <td>1.000000</td>\n",
       "      <td>-0.154363</td>\n",
       "      <td>0.006989</td>\n",
       "      <td>-0.004329</td>\n",
       "      <td>-0.002176</td>\n",
       "      <td>0.055276</td>\n",
       "      <td>-0.118309</td>\n",
       "    </tr>\n",
       "    <tr>\n",
       "      <th>Arrival_Minute</th>\n",
       "      <td>-0.106940</td>\n",
       "      <td>-0.086155</td>\n",
       "      <td>0.067911</td>\n",
       "      <td>-0.017597</td>\n",
       "      <td>-0.154363</td>\n",
       "      <td>1.000000</td>\n",
       "      <td>0.011243</td>\n",
       "      <td>-0.025786</td>\n",
       "      <td>-0.021423</td>\n",
       "      <td>-0.074450</td>\n",
       "      <td>0.151628</td>\n",
       "    </tr>\n",
       "    <tr>\n",
       "      <th>Journey_Weekday</th>\n",
       "      <td>0.001585</td>\n",
       "      <td>-0.007777</td>\n",
       "      <td>0.000791</td>\n",
       "      <td>0.002068</td>\n",
       "      <td>0.006989</td>\n",
       "      <td>0.011243</td>\n",
       "      <td>1.000000</td>\n",
       "      <td>-0.167985</td>\n",
       "      <td>-0.097096</td>\n",
       "      <td>0.016983</td>\n",
       "      <td>0.034400</td>\n",
       "    </tr>\n",
       "    <tr>\n",
       "      <th>Journey_Month</th>\n",
       "      <td>0.065495</td>\n",
       "      <td>0.010705</td>\n",
       "      <td>0.028189</td>\n",
       "      <td>0.002136</td>\n",
       "      <td>-0.004329</td>\n",
       "      <td>-0.025786</td>\n",
       "      <td>-0.167985</td>\n",
       "      <td>1.000000</td>\n",
       "      <td>-0.264896</td>\n",
       "      <td>0.055552</td>\n",
       "      <td>-0.018597</td>\n",
       "    </tr>\n",
       "    <tr>\n",
       "      <th>Journey_Date</th>\n",
       "      <td>-0.024136</td>\n",
       "      <td>-0.165448</td>\n",
       "      <td>-0.002301</td>\n",
       "      <td>-0.016433</td>\n",
       "      <td>-0.002176</td>\n",
       "      <td>-0.021423</td>\n",
       "      <td>-0.097096</td>\n",
       "      <td>-0.264896</td>\n",
       "      <td>1.000000</td>\n",
       "      <td>-0.037964</td>\n",
       "      <td>-0.007708</td>\n",
       "    </tr>\n",
       "    <tr>\n",
       "      <th>Duration_hours</th>\n",
       "      <td>0.739916</td>\n",
       "      <td>0.508778</td>\n",
       "      <td>0.002869</td>\n",
       "      <td>-0.022104</td>\n",
       "      <td>0.055276</td>\n",
       "      <td>-0.074450</td>\n",
       "      <td>0.016983</td>\n",
       "      <td>0.055552</td>\n",
       "      <td>-0.037964</td>\n",
       "      <td>1.000000</td>\n",
       "      <td>-0.126468</td>\n",
       "    </tr>\n",
       "    <tr>\n",
       "      <th>Duration_mins</th>\n",
       "      <td>-0.136706</td>\n",
       "      <td>-0.124855</td>\n",
       "      <td>-0.023707</td>\n",
       "      <td>0.092485</td>\n",
       "      <td>-0.118309</td>\n",
       "      <td>0.151628</td>\n",
       "      <td>0.034400</td>\n",
       "      <td>-0.018597</td>\n",
       "      <td>-0.007708</td>\n",
       "      <td>-0.126468</td>\n",
       "      <td>1.000000</td>\n",
       "    </tr>\n",
       "  </tbody>\n",
       "</table>\n",
       "</div>"
      ],
      "text/plain": [
       "                 Total_Stops     Price  Dep_Hour  Dep_Minute  Arrival_Hour  \\\n",
       "Total_Stops         1.000000  0.603897 -0.061476   -0.002618      0.038140   \n",
       "Price               0.603897  1.000000  0.006799   -0.024458      0.024244   \n",
       "Dep_Hour           -0.061476  0.006799  1.000000   -0.024745      0.005180   \n",
       "Dep_Minute         -0.002618 -0.024458 -0.024745    1.000000      0.043122   \n",
       "Arrival_Hour        0.038140  0.024244  0.005180    0.043122      1.000000   \n",
       "Arrival_Minute     -0.106940 -0.086155  0.067911   -0.017597     -0.154363   \n",
       "Journey_Weekday     0.001585 -0.007777  0.000791    0.002068      0.006989   \n",
       "Journey_Month       0.065495  0.010705  0.028189    0.002136     -0.004329   \n",
       "Journey_Date       -0.024136 -0.165448 -0.002301   -0.016433     -0.002176   \n",
       "Duration_hours      0.739916  0.508778  0.002869   -0.022104      0.055276   \n",
       "Duration_mins      -0.136706 -0.124855 -0.023707    0.092485     -0.118309   \n",
       "\n",
       "                 Arrival_Minute  Journey_Weekday  Journey_Month  Journey_Date  \\\n",
       "Total_Stops           -0.106940         0.001585       0.065495     -0.024136   \n",
       "Price                 -0.086155        -0.007777       0.010705     -0.165448   \n",
       "Dep_Hour               0.067911         0.000791       0.028189     -0.002301   \n",
       "Dep_Minute            -0.017597         0.002068       0.002136     -0.016433   \n",
       "Arrival_Hour          -0.154363         0.006989      -0.004329     -0.002176   \n",
       "Arrival_Minute         1.000000         0.011243      -0.025786     -0.021423   \n",
       "Journey_Weekday        0.011243         1.000000      -0.167985     -0.097096   \n",
       "Journey_Month         -0.025786        -0.167985       1.000000     -0.264896   \n",
       "Journey_Date          -0.021423        -0.097096      -0.264896      1.000000   \n",
       "Duration_hours        -0.074450         0.016983       0.055552     -0.037964   \n",
       "Duration_mins          0.151628         0.034400      -0.018597     -0.007708   \n",
       "\n",
       "                 Duration_hours  Duration_mins  \n",
       "Total_Stops            0.739916      -0.136706  \n",
       "Price                  0.508778      -0.124855  \n",
       "Dep_Hour               0.002869      -0.023707  \n",
       "Dep_Minute            -0.022104       0.092485  \n",
       "Arrival_Hour           0.055276      -0.118309  \n",
       "Arrival_Minute        -0.074450       0.151628  \n",
       "Journey_Weekday        0.016983       0.034400  \n",
       "Journey_Month          0.055552      -0.018597  \n",
       "Journey_Date          -0.037964      -0.007708  \n",
       "Duration_hours         1.000000      -0.126468  \n",
       "Duration_mins         -0.126468       1.000000  "
      ]
     },
     "execution_count": 333,
     "metadata": {},
     "output_type": "execute_result"
    }
   ],
   "source": [
    "flight_data.corr()"
   ]
  },
  {
   "cell_type": "code",
   "execution_count": 334,
   "metadata": {},
   "outputs": [
    {
     "data": {
      "text/plain": [
       "<AxesSubplot:>"
      ]
     },
     "execution_count": 334,
     "metadata": {},
     "output_type": "execute_result"
    },
    {
     "data": {
      "image/png": "[encoded data removed]",
      "text/plain": [
       "<Figure size 1080x504 with 2 Axes>"
      ]
     },
     "metadata": {
      "needs_background": "light"
     },
     "output_type": "display_data"
    }
   ],
   "source": [
    "plt.figure(figsize = (15,7))\n",
    "sns.heatmap(flight_data_num_scaled.corr()[flight_data_num_scaled.corr()>0.6],annot=True)"
   ]
  },
  {
   "cell_type": "code",
   "execution_count": 335,
   "metadata": {},
   "outputs": [],
   "source": [
    "flight_data_num_scaled.drop('Duration_hours',axis=1,inplace=True)"
   ]
  },
  {
   "cell_type": "code",
   "execution_count": 336,
   "metadata": {},
   "outputs": [
    {
     "data": {
      "text/plain": [
       "<AxesSubplot:>"
      ]
     },
     "execution_count": 336,
     "metadata": {},
     "output_type": "execute_result"
    },
    {
     "data": {
      "image/png": "[encoded data removed]",
      "text/plain": [
       "<Figure size 1080x504 with 2 Axes>"
      ]
     },
     "metadata": {
      "needs_background": "light"
     },
     "output_type": "display_data"
    }
   ],
   "source": [
    "plt.figure(figsize = (15,7))\n",
    "sns.heatmap(flight_data_num_scaled.corr()[flight_data_num_scaled.corr()>0.6],annot=True)"
   ]
  },
  {
   "cell_type": "code",
   "execution_count": 337,
   "metadata": {},
   "outputs": [
    {
     "data": {
      "text/html": [
       "<div>\n",
       "<style scoped>\n",
       "    .dataframe tbody tr th:only-of-type {\n",
       "        vertical-align: middle;\n",
       "    }\n",
       "\n",
       "    .dataframe tbody tr th {\n",
       "        vertical-align: top;\n",
       "    }\n",
       "\n",
       "    .dataframe thead th {\n",
       "        text-align: right;\n",
       "    }\n",
       "</style>\n",
       "<table border=\"1\" class=\"dataframe\">\n",
       "  <thead>\n",
       "    <tr style=\"text-align: right;\">\n",
       "      <th></th>\n",
       "      <th>Airline</th>\n",
       "      <th>Source</th>\n",
       "      <th>Destination</th>\n",
       "    </tr>\n",
       "  </thead>\n",
       "  <tbody>\n",
       "    <tr>\n",
       "      <th>0</th>\n",
       "      <td>IndiGo</td>\n",
       "      <td>Banglore</td>\n",
       "      <td>New Delhi</td>\n",
       "    </tr>\n",
       "    <tr>\n",
       "      <th>1</th>\n",
       "      <td>Air India</td>\n",
       "      <td>Kolkata</td>\n",
       "      <td>Banglore</td>\n",
       "    </tr>\n",
       "    <tr>\n",
       "      <th>2</th>\n",
       "      <td>Jet Airways</td>\n",
       "      <td>Delhi</td>\n",
       "      <td>Cochin</td>\n",
       "    </tr>\n",
       "    <tr>\n",
       "      <th>3</th>\n",
       "      <td>IndiGo</td>\n",
       "      <td>Kolkata</td>\n",
       "      <td>Banglore</td>\n",
       "    </tr>\n",
       "    <tr>\n",
       "      <th>4</th>\n",
       "      <td>IndiGo</td>\n",
       "      <td>Banglore</td>\n",
       "      <td>New Delhi</td>\n",
       "    </tr>\n",
       "  </tbody>\n",
       "</table>\n",
       "</div>"
      ],
      "text/plain": [
       "       Airline    Source Destination\n",
       "0       IndiGo  Banglore   New Delhi\n",
       "1    Air India   Kolkata    Banglore\n",
       "2  Jet Airways     Delhi      Cochin\n",
       "3       IndiGo   Kolkata    Banglore\n",
       "4       IndiGo  Banglore   New Delhi"
      ]
     },
     "execution_count": 337,
     "metadata": {},
     "output_type": "execute_result"
    }
   ],
   "source": [
    "flight_data_dummies = flight_data.select_dtypes(include='object').reset_index()\n",
    "flight_data_dummies = pd.DataFrame(flight_data_dummies)\n",
    "flight_data_dummies.drop('index',axis=1,inplace=True)\n",
    "flight_data_dummies.head()"
   ]
  },
  {
   "cell_type": "code",
   "execution_count": 338,
   "metadata": {},
   "outputs": [
    {
     "data": {
      "text/plain": [
       "Index(['Airline_Air Asia', 'Airline_Air India', 'Airline_GoAir',\n",
       "       'Airline_IndiGo', 'Airline_Jet Airways', 'Airline_Jet Airways Business',\n",
       "       'Airline_Multiple carriers',\n",
       "       'Airline_Multiple carriers Premium economy', 'Airline_SpiceJet',\n",
       "       'Airline_Trujet', 'Airline_Vistara', 'Airline_Vistara Premium economy',\n",
       "       'Source_Banglore', 'Source_Chennai', 'Source_Delhi', 'Source_Kolkata',\n",
       "       'Source_Mumbai', 'Destination_Banglore', 'Destination_Cochin',\n",
       "       'Destination_Delhi', 'Destination_Hyderabad', 'Destination_Kolkata',\n",
       "       'Destination_New Delhi'],\n",
       "      dtype='object')"
      ]
     },
     "execution_count": 338,
     "metadata": {},
     "output_type": "execute_result"
    }
   ],
   "source": [
    "flight_data_dummies = pd.get_dummies(flight_data_dummies)\n",
    "flight_data_dummies.head()\n",
    "flight_data_dummies.columns"
   ]
  },
  {
   "cell_type": "code",
   "execution_count": 339,
   "metadata": {},
   "outputs": [
    {
     "data": {
      "text/plain": [
       "Airline_Air Asia                             0\n",
       "Airline_Air India                            0\n",
       "Airline_GoAir                                0\n",
       "Airline_IndiGo                               0\n",
       "Airline_Jet Airways                          0\n",
       "Airline_Jet Airways Business                 0\n",
       "Airline_Multiple carriers                    0\n",
       "Airline_Multiple carriers Premium economy    0\n",
       "Airline_SpiceJet                             0\n",
       "Airline_Trujet                               0\n",
       "Airline_Vistara                              0\n",
       "Airline_Vistara Premium economy              0\n",
       "Source_Banglore                              0\n",
       "Source_Chennai                               0\n",
       "Source_Delhi                                 0\n",
       "Source_Kolkata                               0\n",
       "Source_Mumbai                                0\n",
       "Destination_Banglore                         0\n",
       "Destination_Cochin                           0\n",
       "Destination_Delhi                            0\n",
       "Destination_Hyderabad                        0\n",
       "Destination_Kolkata                          0\n",
       "Destination_New Delhi                        0\n",
       "dtype: int64"
      ]
     },
     "execution_count": 339,
     "metadata": {},
     "output_type": "execute_result"
    }
   ],
   "source": [
    "flight_data_dummies.isnull().sum()"
   ]
  },
  {
   "cell_type": "code",
   "execution_count": 340,
   "metadata": {},
   "outputs": [
    {
     "data": {
      "text/plain": [
       "(10682, 32)"
      ]
     },
     "execution_count": 340,
     "metadata": {},
     "output_type": "execute_result"
    }
   ],
   "source": [
    "X = pd.concat([flight_data_num_scaled,flight_data_dummies],axis=1)\n",
    "X.shape"
   ]
  },
  {
   "cell_type": "code",
   "execution_count": 341,
   "metadata": {},
   "outputs": [
    {
     "data": {
      "text/plain": [
       "(10682, 32)"
      ]
     },
     "execution_count": 341,
     "metadata": {},
     "output_type": "execute_result"
    }
   ],
   "source": [
    "X = pd.DataFrame(np.hstack([flight_data_num_scaled,flight_data_dummies]),columns= ['Total_Stops', 'Dep_Hour', 'Dep_Minute', 'Arrival_Hour',\n",
    "       'Arrival_Minute', 'Journey_Weekday', 'Journey_Month', 'Journey_Date',\n",
    "        'Duration_mins','Airline_Air Asia', 'Airline_Air India', 'Airline_GoAir',\n",
    "       'Airline_IndiGo', 'Airline_Jet Airways', 'Airline_Jet Airways Business',\n",
    "       'Airline_Multiple carriers',\n",
    "       'Airline_Multiple carriers Premium economy', 'Airline_SpiceJet',\n",
    "       'Airline_Trujet', 'Airline_Vistara', 'Airline_Vistara Premium economy',\n",
    "       'Source_Banglore', 'Source_Chennai', 'Source_Delhi', 'Source_Kolkata',\n",
    "       'Source_Mumbai', 'Destination_Banglore', 'Destination_Cochin',\n",
    "       'Destination_Delhi', 'Destination_Hyderabad', 'Destination_Kolkata',\n",
    "       'Destination_New Delhi'])\n",
    "X.shape"
   ]
  },
  {
   "cell_type": "code",
   "execution_count": 342,
   "metadata": {},
   "outputs": [
    {
     "data": {
      "text/plain": [
       "0    3897.000000\n",
       "1    7662.000000\n",
       "2   13882.000000\n",
       "3    6218.000000\n",
       "4   13302.000000\n",
       "Name: Price, dtype: float64"
      ]
     },
     "execution_count": 342,
     "metadata": {},
     "output_type": "execute_result"
    }
   ],
   "source": [
    "y.head()"
   ]
  },
  {
   "cell_type": "code",
   "execution_count": 346,
   "metadata": {},
   "outputs": [
    {
     "data": {
      "text/plain": [
       "<AxesSubplot:xlabel='Price', ylabel='Density'>"
      ]
     },
     "execution_count": 346,
     "metadata": {},
     "output_type": "execute_result"
    },
    {
     "data": {
      "image/png": "[encoded data removed]",
      "text/plain": [
       "<Figure size 1080x576 with 1 Axes>"
      ]
     },
     "metadata": {
      "needs_background": "light"
     },
     "output_type": "display_data"
    }
   ],
   "source": [
    "sns.distplot(y)"
   ]
  },
  {
   "cell_type": "code",
   "execution_count": 343,
   "metadata": {},
   "outputs": [
    {
     "data": {
      "text/plain": [
       "0   -1.125482\n",
       "1   -0.309053\n",
       "2    1.039734\n",
       "3   -0.622180\n",
       "4    0.913963\n",
       "Name: Price, dtype: float64"
      ]
     },
     "execution_count": 343,
     "metadata": {},
     "output_type": "execute_result"
    }
   ],
   "source": [
    "y_scaled = (y - y.mean()) / y.std()\n",
    "y_scaled.head()"
   ]
  },
  {
   "cell_type": "code",
   "execution_count": 347,
   "metadata": {},
   "outputs": [
    {
     "data": {
      "text/plain": [
       "<AxesSubplot:xlabel='Price', ylabel='Density'>"
      ]
     },
     "execution_count": 347,
     "metadata": {},
     "output_type": "execute_result"
    },
    {
     "data": {
      "image/png": "[encoded data removed]",
      "text/plain": [
       "<Figure size 1080x576 with 1 Axes>"
      ]
     },
     "metadata": {
      "needs_background": "light"
     },
     "output_type": "display_data"
    }
   ],
   "source": [
    "sns.distplot(y_scaled)"
   ]
  },
  {
   "cell_type": "code",
   "execution_count": 344,
   "metadata": {},
   "outputs": [
    {
     "data": {
      "text/plain": [
       "0   8.267962\n",
       "1   8.944028\n",
       "2   9.538348\n",
       "3   8.735204\n",
       "4   9.495670\n",
       "Name: Price, dtype: float64"
      ]
     },
     "execution_count": 344,
     "metadata": {},
     "output_type": "execute_result"
    }
   ],
   "source": [
    "y_log = np.log(y)\n",
    "y_log.head()"
   ]
  },
  {
   "cell_type": "code",
   "execution_count": 348,
   "metadata": {},
   "outputs": [
    {
     "data": {
      "text/plain": [
       "<AxesSubplot:xlabel='Price', ylabel='Density'>"
      ]
     },
     "execution_count": 348,
     "metadata": {},
     "output_type": "execute_result"
    },
    {
     "data": {
      "image/png": "[encoded data removed]",
      "text/plain": [
       "<Figure size 1080x576 with 1 Axes>"
      ]
     },
     "metadata": {
      "needs_background": "light"
     },
     "output_type": "display_data"
    }
   ],
   "source": [
    "sns.distplot(y_log)"
   ]
  },
  {
   "cell_type": "code",
   "execution_count": 345,
   "metadata": {},
   "outputs": [
    {
     "data": {
      "text/plain": [
       "(10682, 34)"
      ]
     },
     "execution_count": 345,
     "metadata": {},
     "output_type": "execute_result"
    }
   ],
   "source": [
    "df_final = pd.concat([X,y],axis=1).reset_index()\n",
    "df_final.shape"
   ]
  },
  {
   "cell_type": "code",
   "execution_count": 349,
   "metadata": {},
   "outputs": [
    {
     "data": {
      "text/plain": [
       "(10682,)"
      ]
     },
     "execution_count": 349,
     "metadata": {},
     "output_type": "execute_result"
    }
   ],
   "source": [
    "y.shape"
   ]
  },
  {
   "cell_type": "code",
   "execution_count": 351,
   "metadata": {},
   "outputs": [
    {
     "data": {
      "text/html": [
       "<div>\n",
       "<style scoped>\n",
       "    .dataframe tbody tr th:only-of-type {\n",
       "        vertical-align: middle;\n",
       "    }\n",
       "\n",
       "    .dataframe tbody tr th {\n",
       "        vertical-align: top;\n",
       "    }\n",
       "\n",
       "    .dataframe thead th {\n",
       "        text-align: right;\n",
       "    }\n",
       "</style>\n",
       "<table border=\"1\" class=\"dataframe\">\n",
       "  <thead>\n",
       "    <tr style=\"text-align: right;\">\n",
       "      <th></th>\n",
       "      <th>Total_Stops</th>\n",
       "      <th>Dep_Hour</th>\n",
       "      <th>Dep_Minute</th>\n",
       "      <th>Arrival_Hour</th>\n",
       "      <th>Arrival_Minute</th>\n",
       "      <th>Journey_Weekday</th>\n",
       "      <th>Journey_Month</th>\n",
       "      <th>Journey_Date</th>\n",
       "      <th>Duration_mins</th>\n",
       "      <th>Airline_Air Asia</th>\n",
       "      <th>Airline_Air India</th>\n",
       "      <th>Airline_GoAir</th>\n",
       "      <th>Airline_IndiGo</th>\n",
       "      <th>Airline_Jet Airways</th>\n",
       "      <th>Airline_Jet Airways Business</th>\n",
       "      <th>Airline_Multiple carriers</th>\n",
       "      <th>Airline_Multiple carriers Premium economy</th>\n",
       "      <th>Airline_SpiceJet</th>\n",
       "      <th>Airline_Trujet</th>\n",
       "      <th>Airline_Vistara</th>\n",
       "      <th>Airline_Vistara Premium economy</th>\n",
       "      <th>Source_Banglore</th>\n",
       "      <th>Source_Chennai</th>\n",
       "      <th>Source_Delhi</th>\n",
       "      <th>Source_Kolkata</th>\n",
       "      <th>Source_Mumbai</th>\n",
       "      <th>Destination_Banglore</th>\n",
       "      <th>Destination_Cochin</th>\n",
       "      <th>Destination_Delhi</th>\n",
       "      <th>Destination_Hyderabad</th>\n",
       "      <th>Destination_Kolkata</th>\n",
       "      <th>Destination_New Delhi</th>\n",
       "    </tr>\n",
       "  </thead>\n",
       "  <tbody>\n",
       "    <tr>\n",
       "      <th>0</th>\n",
       "      <td>-1.220666</td>\n",
       "      <td>1.654154</td>\n",
       "      <td>-0.234950</td>\n",
       "      <td>-1.800436</td>\n",
       "      <td>-0.890014</td>\n",
       "      <td>1.692538</td>\n",
       "      <td>-0.848450</td>\n",
       "      <td>1.285536</td>\n",
       "      <td>1.279041</td>\n",
       "      <td>0.000000</td>\n",
       "      <td>0.000000</td>\n",
       "      <td>0.000000</td>\n",
       "      <td>1.000000</td>\n",
       "      <td>0.000000</td>\n",
       "      <td>0.000000</td>\n",
       "      <td>0.000000</td>\n",
       "      <td>0.000000</td>\n",
       "      <td>0.000000</td>\n",
       "      <td>0.000000</td>\n",
       "      <td>0.000000</td>\n",
       "      <td>0.000000</td>\n",
       "      <td>1.000000</td>\n",
       "      <td>0.000000</td>\n",
       "      <td>0.000000</td>\n",
       "      <td>0.000000</td>\n",
       "      <td>0.000000</td>\n",
       "      <td>0.000000</td>\n",
       "      <td>0.000000</td>\n",
       "      <td>0.000000</td>\n",
       "      <td>0.000000</td>\n",
       "      <td>0.000000</td>\n",
       "      <td>1.000000</td>\n",
       "    </tr>\n",
       "    <tr>\n",
       "      <th>1</th>\n",
       "      <td>1.741432</td>\n",
       "      <td>-1.303113</td>\n",
       "      <td>1.363607</td>\n",
       "      <td>-0.050909</td>\n",
       "      <td>-0.587094</td>\n",
       "      <td>1.147887</td>\n",
       "      <td>-1.517909</td>\n",
       "      <td>-0.872724</td>\n",
       "      <td>-0.196319</td>\n",
       "      <td>0.000000</td>\n",
       "      <td>1.000000</td>\n",
       "      <td>0.000000</td>\n",
       "      <td>0.000000</td>\n",
       "      <td>0.000000</td>\n",
       "      <td>0.000000</td>\n",
       "      <td>0.000000</td>\n",
       "      <td>0.000000</td>\n",
       "      <td>0.000000</td>\n",
       "      <td>0.000000</td>\n",
       "      <td>0.000000</td>\n",
       "      <td>0.000000</td>\n",
       "      <td>0.000000</td>\n",
       "      <td>0.000000</td>\n",
       "      <td>0.000000</td>\n",
       "      <td>1.000000</td>\n",
       "      <td>0.000000</td>\n",
       "      <td>1.000000</td>\n",
       "      <td>0.000000</td>\n",
       "      <td>0.000000</td>\n",
       "      <td>0.000000</td>\n",
       "      <td>0.000000</td>\n",
       "      <td>0.000000</td>\n",
       "    </tr>\n",
       "    <tr>\n",
       "      <th>2</th>\n",
       "      <td>1.741432</td>\n",
       "      <td>-0.607286</td>\n",
       "      <td>0.031476</td>\n",
       "      <td>-1.363054</td>\n",
       "      <td>0.018745</td>\n",
       "      <td>0.603236</td>\n",
       "      <td>1.159928</td>\n",
       "      <td>-0.759131</td>\n",
       "      <td>-1.671678</td>\n",
       "      <td>0.000000</td>\n",
       "      <td>0.000000</td>\n",
       "      <td>0.000000</td>\n",
       "      <td>0.000000</td>\n",
       "      <td>1.000000</td>\n",
       "      <td>0.000000</td>\n",
       "      <td>0.000000</td>\n",
       "      <td>0.000000</td>\n",
       "      <td>0.000000</td>\n",
       "      <td>0.000000</td>\n",
       "      <td>0.000000</td>\n",
       "      <td>0.000000</td>\n",
       "      <td>0.000000</td>\n",
       "      <td>0.000000</td>\n",
       "      <td>1.000000</td>\n",
       "      <td>0.000000</td>\n",
       "      <td>0.000000</td>\n",
       "      <td>0.000000</td>\n",
       "      <td>1.000000</td>\n",
       "      <td>0.000000</td>\n",
       "      <td>0.000000</td>\n",
       "      <td>0.000000</td>\n",
       "      <td>0.000000</td>\n",
       "    </tr>\n",
       "    <tr>\n",
       "      <th>3</th>\n",
       "      <td>0.260383</td>\n",
       "      <td>0.958326</td>\n",
       "      <td>-1.034229</td>\n",
       "      <td>1.407030</td>\n",
       "      <td>0.321664</td>\n",
       "      <td>0.058585</td>\n",
       "      <td>2.164117</td>\n",
       "      <td>-0.872724</td>\n",
       "      <td>-0.196319</td>\n",
       "      <td>0.000000</td>\n",
       "      <td>0.000000</td>\n",
       "      <td>0.000000</td>\n",
       "      <td>1.000000</td>\n",
       "      <td>0.000000</td>\n",
       "      <td>0.000000</td>\n",
       "      <td>0.000000</td>\n",
       "      <td>0.000000</td>\n",
       "      <td>0.000000</td>\n",
       "      <td>0.000000</td>\n",
       "      <td>0.000000</td>\n",
       "      <td>0.000000</td>\n",
       "      <td>0.000000</td>\n",
       "      <td>0.000000</td>\n",
       "      <td>0.000000</td>\n",
       "      <td>1.000000</td>\n",
       "      <td>0.000000</td>\n",
       "      <td>1.000000</td>\n",
       "      <td>0.000000</td>\n",
       "      <td>0.000000</td>\n",
       "      <td>0.000000</td>\n",
       "      <td>0.000000</td>\n",
       "      <td>0.000000</td>\n",
       "    </tr>\n",
       "    <tr>\n",
       "      <th>4</th>\n",
       "      <td>0.260383</td>\n",
       "      <td>0.610412</td>\n",
       "      <td>1.363607</td>\n",
       "      <td>1.115442</td>\n",
       "      <td>0.624584</td>\n",
       "      <td>0.058585</td>\n",
       "      <td>-1.517909</td>\n",
       "      <td>-1.099909</td>\n",
       "      <td>0.983969</td>\n",
       "      <td>0.000000</td>\n",
       "      <td>0.000000</td>\n",
       "      <td>0.000000</td>\n",
       "      <td>1.000000</td>\n",
       "      <td>0.000000</td>\n",
       "      <td>0.000000</td>\n",
       "      <td>0.000000</td>\n",
       "      <td>0.000000</td>\n",
       "      <td>0.000000</td>\n",
       "      <td>0.000000</td>\n",
       "      <td>0.000000</td>\n",
       "      <td>0.000000</td>\n",
       "      <td>1.000000</td>\n",
       "      <td>0.000000</td>\n",
       "      <td>0.000000</td>\n",
       "      <td>0.000000</td>\n",
       "      <td>0.000000</td>\n",
       "      <td>0.000000</td>\n",
       "      <td>0.000000</td>\n",
       "      <td>0.000000</td>\n",
       "      <td>0.000000</td>\n",
       "      <td>0.000000</td>\n",
       "      <td>1.000000</td>\n",
       "    </tr>\n",
       "  </tbody>\n",
       "</table>\n",
       "</div>"
      ],
      "text/plain": [
       "   Total_Stops  Dep_Hour  Dep_Minute  Arrival_Hour  Arrival_Minute  \\\n",
       "0    -1.220666  1.654154   -0.234950     -1.800436       -0.890014   \n",
       "1     1.741432 -1.303113    1.363607     -0.050909       -0.587094   \n",
       "2     1.741432 -0.607286    0.031476     -1.363054        0.018745   \n",
       "3     0.260383  0.958326   -1.034229      1.407030        0.321664   \n",
       "4     0.260383  0.610412    1.363607      1.115442        0.624584   \n",
       "\n",
       "   Journey_Weekday  Journey_Month  Journey_Date  Duration_mins  \\\n",
       "0         1.692538      -0.848450      1.285536       1.279041   \n",
       "1         1.147887      -1.517909     -0.872724      -0.196319   \n",
       "2         0.603236       1.159928     -0.759131      -1.671678   \n",
       "3         0.058585       2.164117     -0.872724      -0.196319   \n",
       "4         0.058585      -1.517909     -1.099909       0.983969   \n",
       "\n",
       "   Airline_Air Asia  Airline_Air India  Airline_GoAir  Airline_IndiGo  \\\n",
       "0          0.000000           0.000000       0.000000        1.000000   \n",
       "1          0.000000           1.000000       0.000000        0.000000   \n",
       "2          0.000000           0.000000       0.000000        0.000000   \n",
       "3          0.000000           0.000000       0.000000        1.000000   \n",
       "4          0.000000           0.000000       0.000000        1.000000   \n",
       "\n",
       "   Airline_Jet Airways  Airline_Jet Airways Business  \\\n",
       "0             0.000000                      0.000000   \n",
       "1             0.000000                      0.000000   \n",
       "2             1.000000                      0.000000   \n",
       "3             0.000000                      0.000000   \n",
       "4             0.000000                      0.000000   \n",
       "\n",
       "   Airline_Multiple carriers  Airline_Multiple carriers Premium economy  \\\n",
       "0                   0.000000                                   0.000000   \n",
       "1                   0.000000                                   0.000000   \n",
       "2                   0.000000                                   0.000000   \n",
       "3                   0.000000                                   0.000000   \n",
       "4                   0.000000                                   0.000000   \n",
       "\n",
       "   Airline_SpiceJet  Airline_Trujet  Airline_Vistara  \\\n",
       "0          0.000000        0.000000         0.000000   \n",
       "1          0.000000        0.000000         0.000000   \n",
       "2          0.000000        0.000000         0.000000   \n",
       "3          0.000000        0.000000         0.000000   \n",
       "4          0.000000        0.000000         0.000000   \n",
       "\n",
       "   Airline_Vistara Premium economy  Source_Banglore  Source_Chennai  \\\n",
       "0                         0.000000         1.000000        0.000000   \n",
       "1                         0.000000         0.000000        0.000000   \n",
       "2                         0.000000         0.000000        0.000000   \n",
       "3                         0.000000         0.000000        0.000000   \n",
       "4                         0.000000         1.000000        0.000000   \n",
       "\n",
       "   Source_Delhi  Source_Kolkata  Source_Mumbai  Destination_Banglore  \\\n",
       "0      0.000000        0.000000       0.000000              0.000000   \n",
       "1      0.000000        1.000000       0.000000              1.000000   \n",
       "2      1.000000        0.000000       0.000000              0.000000   \n",
       "3      0.000000        1.000000       0.000000              1.000000   \n",
       "4      0.000000        0.000000       0.000000              0.000000   \n",
       "\n",
       "   Destination_Cochin  Destination_Delhi  Destination_Hyderabad  \\\n",
       "0            0.000000           0.000000               0.000000   \n",
       "1            0.000000           0.000000               0.000000   \n",
       "2            1.000000           0.000000               0.000000   \n",
       "3            0.000000           0.000000               0.000000   \n",
       "4            0.000000           0.000000               0.000000   \n",
       "\n",
       "   Destination_Kolkata  Destination_New Delhi  \n",
       "0             0.000000               1.000000  \n",
       "1             0.000000               0.000000  \n",
       "2             0.000000               0.000000  \n",
       "3             0.000000               0.000000  \n",
       "4             0.000000               1.000000  "
      ]
     },
     "execution_count": 351,
     "metadata": {},
     "output_type": "execute_result"
    }
   ],
   "source": [
    "X.head()"
   ]
  },
  {
   "cell_type": "markdown",
   "metadata": {},
   "source": [
    "<a id=\"split\"></a>\n",
    "## 4. Train-Test Split"
   ]
  },
  {
   "cell_type": "code",
   "execution_count": 352,
   "metadata": {},
   "outputs": [
    {
     "name": "stdout",
     "output_type": "stream",
     "text": [
      "X train Shape: (8545, 32)\n",
      "X test Shape: (2137, 32)\n",
      "y train Shape: (8545,)\n",
      "y test Shape: (2137,)\n"
     ]
    }
   ],
   "source": [
    "X_train, X_test, y_train, y_test = train_test_split(X, y_log, test_size=0.2, random_state = 0)\n",
    "print('X train Shape:',X_train.shape)\n",
    "print('X test Shape:',X_test.shape)\n",
    "print('y train Shape:',y_train.shape)\n",
    "print('y test Shape:',y_test.shape)"
   ]
  },
  {
   "cell_type": "code",
   "execution_count": 353,
   "metadata": {},
   "outputs": [],
   "source": [
    "# create the table for all the model performance metrics\n",
    "# metrics considered for model comparision are MSE, RMSE, MAE and MAPE\n",
    "# create a list of column names\n",
    "cols = ['Model_Name', 'R-squared', 'Adj. R-squared', 'MSE', 'RMSE', 'MAE']\n",
    "\n",
    "# creating a empty dataframe of the colums\n",
    "result_table = pd.DataFrame(columns = cols)"
   ]
  },
  {
   "cell_type": "markdown",
   "metadata": {},
   "source": [
    "<a id=\"model\"></a>\n",
    "## 5. Model Building"
   ]
  },
  {
   "cell_type": "markdown",
   "metadata": {},
   "source": [
    "<a id=\"full\"></a>\n",
    "### 5.1 MLR Full Model"
   ]
  },
  {
   "cell_type": "code",
   "execution_count": 354,
   "metadata": {},
   "outputs": [],
   "source": [
    "from sklearn.linear_model import LinearRegression"
   ]
  },
  {
   "cell_type": "code",
   "execution_count": 355,
   "metadata": {},
   "outputs": [
    {
     "data": {
      "text/plain": [
       "LinearRegression()"
      ]
     },
     "execution_count": 355,
     "metadata": {},
     "output_type": "execute_result"
    }
   ],
   "source": [
    "base_model = LinearRegression()\n",
    "base_model.fit(X_train,y_train)"
   ]
  },
  {
   "cell_type": "code",
   "execution_count": 356,
   "metadata": {},
   "outputs": [],
   "source": [
    "base_model_r2 = base_model.score(X_train,y_train)\n",
    "base_model_Adj_r2 = 1 - (1-base_model_r2)*(len(y_train)-1)/(len(y_train)- X_train.shape[1]-1)\n",
    "base_model_mse = mean_squared_error(y_train,base_model.predict(X_train))\n",
    "base_model_mae = mean_absolute_error(y_train,base_model.predict(X_train))\n",
    "base_model_rmse = np.sqrt(base_model_mse)\n",
    "base_model_mape = (np.mean(np.abs((y_train - base_model.predict(X_train)) / y_train)) * 100)"
   ]
  },
  {
   "cell_type": "code",
   "execution_count": 357,
   "metadata": {},
   "outputs": [
    {
     "data": {
      "text/html": [
       "<div>\n",
       "<style scoped>\n",
       "    .dataframe tbody tr th:only-of-type {\n",
       "        vertical-align: middle;\n",
       "    }\n",
       "\n",
       "    .dataframe tbody tr th {\n",
       "        vertical-align: top;\n",
       "    }\n",
       "\n",
       "    .dataframe thead th {\n",
       "        text-align: right;\n",
       "    }\n",
       "</style>\n",
       "<table border=\"1\" class=\"dataframe\">\n",
       "  <thead>\n",
       "    <tr style=\"text-align: right;\">\n",
       "      <th></th>\n",
       "      <th>Model_Name</th>\n",
       "      <th>R-squared</th>\n",
       "      <th>Adj. R-squared</th>\n",
       "      <th>MSE</th>\n",
       "      <th>RMSE</th>\n",
       "      <th>MAE</th>\n",
       "      <th>MAPE</th>\n",
       "    </tr>\n",
       "  </thead>\n",
       "  <tbody>\n",
       "    <tr>\n",
       "      <th>0</th>\n",
       "      <td>MLR Base Model</td>\n",
       "      <td>0.723102</td>\n",
       "      <td>0.722061</td>\n",
       "      <td>0.072086</td>\n",
       "      <td>0.268488</td>\n",
       "      <td>0.204462</td>\n",
       "      <td>2.271043</td>\n",
       "    </tr>\n",
       "  </tbody>\n",
       "</table>\n",
       "</div>"
      ],
      "text/plain": [
       "       Model_Name  R-squared  Adj. R-squared      MSE     RMSE      MAE  \\\n",
       "0  MLR Base Model   0.723102        0.722061 0.072086 0.268488 0.204462   \n",
       "\n",
       "      MAPE  \n",
       "0 2.271043  "
      ]
     },
     "execution_count": 357,
     "metadata": {},
     "output_type": "execute_result"
    }
   ],
   "source": [
    "base_model_metrics = pd.Series({'Model_Name': \"MLR Base Model\",\n",
    "                     'R-squared': base_model_r2,\n",
    "                     'Adj. R-squared': base_model_Adj_r2,\n",
    "                     'MSE': base_model_mse,\n",
    "                     'RMSE': base_model_rmse,\n",
    "                     'MAE': base_model_mae,\n",
    "                     'MAPE' :base_model_mape\n",
    "                   })\n",
    "\n",
    "# append the values to the result table\n",
    "result_table = result_table.append(base_model_metrics, ignore_index = True)\n",
    "\n",
    "# print the result table\n",
    "result_table"
   ]
  },
  {
   "cell_type": "code",
   "execution_count": 358,
   "metadata": {},
   "outputs": [],
   "source": [
    "# create the table for all the model performance metrics\n",
    "# metrics considered for model comparision are MSE, RMSE, MAE and MAPE\n",
    "# create a list of column names\n",
    "cols = ['Model_Name', 'R-squared_test', 'Adj. R-squared_test']\n",
    "\n",
    "# creating a empty dataframe of the colums\n",
    "result_table_test = pd.DataFrame(columns = cols)"
   ]
  },
  {
   "cell_type": "code",
   "execution_count": 359,
   "metadata": {},
   "outputs": [
    {
     "data": {
      "text/html": [
       "<div>\n",
       "<style scoped>\n",
       "    .dataframe tbody tr th:only-of-type {\n",
       "        vertical-align: middle;\n",
       "    }\n",
       "\n",
       "    .dataframe tbody tr th {\n",
       "        vertical-align: top;\n",
       "    }\n",
       "\n",
       "    .dataframe thead th {\n",
       "        text-align: right;\n",
       "    }\n",
       "</style>\n",
       "<table border=\"1\" class=\"dataframe\">\n",
       "  <thead>\n",
       "    <tr style=\"text-align: right;\">\n",
       "      <th></th>\n",
       "      <th>Model_Name</th>\n",
       "      <th>R-squared_test</th>\n",
       "      <th>Adj. R-squared_test</th>\n",
       "    </tr>\n",
       "  </thead>\n",
       "  <tbody>\n",
       "    <tr>\n",
       "      <th>0</th>\n",
       "      <td>MLR Base Model</td>\n",
       "      <td>0.721674</td>\n",
       "      <td>0.718891</td>\n",
       "    </tr>\n",
       "  </tbody>\n",
       "</table>\n",
       "</div>"
      ],
      "text/plain": [
       "       Model_Name  R-squared_test  Adj. R-squared_test\n",
       "0  MLR Base Model        0.721674             0.718891"
      ]
     },
     "execution_count": 359,
     "metadata": {},
     "output_type": "execute_result"
    }
   ],
   "source": [
    "base_model_r2_test = base_model.score(X_test,y_test)\n",
    "base_model_Adj_r2_test = 1 - (1-base_model_r2)*(len(y_test)-1)/(len(y_test)- X_test.shape[1]-1)\n",
    "\n",
    "\n",
    "\n",
    "base_model_metrics_test = pd.Series({'Model_Name': \"MLR Base Model\",\n",
    "                     'R-squared_test': base_model_r2_test,\n",
    "                     'Adj. R-squared_test': base_model_Adj_r2_test})\n",
    "                     \n",
    "                                      \n",
    "result_table_test = result_table_test.append(base_model_metrics_test, ignore_index = True)\n",
    "\n",
    "# print the result table\n",
    "result_table_test"
   ]
  },
  {
   "cell_type": "code",
   "execution_count": 360,
   "metadata": {},
   "outputs": [
    {
     "data": {
      "text/plain": [
       "0.7231019275702284"
      ]
     },
     "execution_count": 360,
     "metadata": {},
     "output_type": "execute_result"
    }
   ],
   "source": [
    "from sklearn.metrics import r2_score\n",
    "r2_score(y_train,base_model.predict(X_train))"
   ]
  },
  {
   "cell_type": "code",
   "execution_count": 361,
   "metadata": {},
   "outputs": [],
   "source": [
    "X_train_ols = sm.add_constant(X_train)\n",
    "X_test_ols = sm.add_constant(X_test)"
   ]
  },
  {
   "cell_type": "code",
   "execution_count": 362,
   "metadata": {
    "scrolled": true
   },
   "outputs": [
    {
     "name": "stdout",
     "output_type": "stream",
     "text": [
      "                            OLS Regression Results                            \n",
      "==============================================================================\n",
      "Dep. Variable:                  Price   R-squared:                       0.723\n",
      "Model:                            OLS   Adj. R-squared:                  0.722\n",
      "Method:                 Least Squares   F-statistic:                     889.9\n",
      "Date:                Sat, 22 May 2021   Prob (F-statistic):               0.00\n",
      "Time:                        10:21:57   Log-Likelihood:                -888.60\n",
      "No. Observations:                8545   AIC:                             1829.\n",
      "Df Residuals:                    8519   BIC:                             2013.\n",
      "Df Model:                          25                                         \n",
      "Covariance Type:            nonrobust                                         \n",
      "=============================================================================================================\n",
      "                                                coef    std err          t      P>|t|      [0.025      0.975]\n",
      "-------------------------------------------------------------------------------------------------------------\n",
      "const                                         6.1693      0.021    292.965      0.000       6.128       6.211\n",
      "Total_Stops                                   0.2028      0.005     44.901      0.000       0.194       0.212\n",
      "Dep_Hour                                      0.0027      0.003      0.910      0.363      -0.003       0.009\n",
      "Dep_Minute                                   -0.0033      0.003     -1.068      0.286      -0.009       0.003\n",
      "Arrival_Hour                                  0.0001      0.003      0.040      0.968      -0.006       0.006\n",
      "Arrival_Minute                                0.0062      0.003      2.004      0.045       0.000       0.012\n",
      "Journey_Weekday                              -0.0033      0.003     -1.092      0.275      -0.009       0.003\n",
      "Journey_Month                                -0.0153      0.003     -4.886      0.000      -0.022      -0.009\n",
      "Journey_Date                                 -0.0619      0.003    -19.889      0.000      -0.068      -0.056\n",
      "Duration_mins                                -0.0022      0.003     -0.713      0.476      -0.008       0.004\n",
      "Airline_Air Asia                              0.1356      0.033      4.100      0.000       0.071       0.200\n",
      "Airline_Air India                             0.3872      0.030     13.055      0.000       0.329       0.445\n",
      "Airline_GoAir                                 0.1541      0.035      4.384      0.000       0.085       0.223\n",
      "Airline_IndiGo                                0.1888      0.029      6.404      0.000       0.131       0.247\n",
      "Airline_Jet Airways                           0.6709      0.029     22.978      0.000       0.614       0.728\n",
      "Airline_Jet Airways Business                  2.1333      0.127     16.775      0.000       1.884       2.383\n",
      "Airline_Multiple carriers                     0.5886      0.030     19.462      0.000       0.529       0.648\n",
      "Airline_Multiple carriers Premium economy     0.7345      0.077      9.528      0.000       0.583       0.886\n",
      "Airline_SpiceJet                              0.0249      0.031      0.814      0.416      -0.035       0.085\n",
      "Airline_Trujet                                0.0486      0.249      0.195      0.845      -0.439       0.537\n",
      "Airline_Vistara                               0.4757      0.032     15.029      0.000       0.414       0.538\n",
      "Airline_Vistara Premium economy               0.6270      0.177      3.541      0.000       0.280       0.974\n",
      "Source_Banglore                               1.6107      0.007    239.626      0.000       1.597       1.624\n",
      "Source_Chennai                                1.1510      0.008    141.307      0.000       1.135       1.167\n",
      "Source_Delhi                                  1.2123      0.005    233.273      0.000       1.202       1.223\n",
      "Source_Kolkata                                1.2037      0.005    239.913      0.000       1.194       1.214\n",
      "Source_Mumbai                                 0.9916      0.007    150.329      0.000       0.979       1.005\n",
      "Destination_Banglore                          1.2037      0.005    239.913      0.000       1.194       1.214\n",
      "Destination_Cochin                            1.2123      0.005    233.273      0.000       1.202       1.223\n",
      "Destination_Delhi                             0.6272      0.008     81.577      0.000       0.612       0.642\n",
      "Destination_Hyderabad                         0.9916      0.007    150.329      0.000       0.979       1.005\n",
      "Destination_Kolkata                           1.1510      0.008    141.307      0.000       1.135       1.167\n",
      "Destination_New Delhi                         0.9835      0.008    125.050      0.000       0.968       0.999\n",
      "==============================================================================\n",
      "Omnibus:                      394.116   Durbin-Watson:                   2.043\n",
      "Prob(Omnibus):                  0.000   Jarque-Bera (JB):              931.671\n",
      "Skew:                           0.277   Prob(JB):                    4.90e-203\n",
      "Kurtosis:                       4.520   Cond. No.                     1.41e+16\n",
      "==============================================================================\n",
      "\n",
      "Notes:\n",
      "[1] Standard Errors assume that the covariance matrix of the errors is correctly specified.\n",
      "[2] The smallest eigenvalue is 8.39e-29. This might indicate that there are\n",
      "strong multicollinearity problems or that the design matrix is singular.\n"
     ]
    }
   ],
   "source": [
    "MLR = sm.OLS(y_train,X_train_ols).fit()\n",
    "print(MLR.summary())"
   ]
  },
  {
   "cell_type": "markdown",
   "metadata": {},
   "source": [
    "<a id=\"signi_var\"></a>\n",
    "### 5.2 MLR Model after Removing Insignificant Variables"
   ]
  },
  {
   "cell_type": "code",
   "execution_count": 363,
   "metadata": {},
   "outputs": [
    {
     "data": {
      "text/html": [
       "<div>\n",
       "<style scoped>\n",
       "    .dataframe tbody tr th:only-of-type {\n",
       "        vertical-align: middle;\n",
       "    }\n",
       "\n",
       "    .dataframe tbody tr th {\n",
       "        vertical-align: top;\n",
       "    }\n",
       "\n",
       "    .dataframe thead th {\n",
       "        text-align: right;\n",
       "    }\n",
       "</style>\n",
       "<table border=\"1\" class=\"dataframe\">\n",
       "  <thead>\n",
       "    <tr style=\"text-align: right;\">\n",
       "      <th></th>\n",
       "      <th>P-Value</th>\n",
       "    </tr>\n",
       "  </thead>\n",
       "  <tbody>\n",
       "    <tr>\n",
       "      <th>const</th>\n",
       "      <td>0.000000</td>\n",
       "    </tr>\n",
       "    <tr>\n",
       "      <th>Total_Stops</th>\n",
       "      <td>0.000000</td>\n",
       "    </tr>\n",
       "    <tr>\n",
       "      <th>Dep_Hour</th>\n",
       "      <td>0.362817</td>\n",
       "    </tr>\n",
       "    <tr>\n",
       "      <th>Dep_Minute</th>\n",
       "      <td>0.285753</td>\n",
       "    </tr>\n",
       "    <tr>\n",
       "      <th>Arrival_Hour</th>\n",
       "      <td>0.967823</td>\n",
       "    </tr>\n",
       "    <tr>\n",
       "      <th>Arrival_Minute</th>\n",
       "      <td>0.045083</td>\n",
       "    </tr>\n",
       "    <tr>\n",
       "      <th>Journey_Weekday</th>\n",
       "      <td>0.274854</td>\n",
       "    </tr>\n",
       "    <tr>\n",
       "      <th>Journey_Month</th>\n",
       "      <td>0.000001</td>\n",
       "    </tr>\n",
       "    <tr>\n",
       "      <th>Journey_Date</th>\n",
       "      <td>0.000000</td>\n",
       "    </tr>\n",
       "    <tr>\n",
       "      <th>Duration_mins</th>\n",
       "      <td>0.475777</td>\n",
       "    </tr>\n",
       "    <tr>\n",
       "      <th>Airline_Air Asia</th>\n",
       "      <td>0.000042</td>\n",
       "    </tr>\n",
       "    <tr>\n",
       "      <th>Airline_Air India</th>\n",
       "      <td>0.000000</td>\n",
       "    </tr>\n",
       "    <tr>\n",
       "      <th>Airline_GoAir</th>\n",
       "      <td>0.000012</td>\n",
       "    </tr>\n",
       "    <tr>\n",
       "      <th>Airline_IndiGo</th>\n",
       "      <td>0.000000</td>\n",
       "    </tr>\n",
       "    <tr>\n",
       "      <th>Airline_Jet Airways</th>\n",
       "      <td>0.000000</td>\n",
       "    </tr>\n",
       "    <tr>\n",
       "      <th>Airline_Jet Airways Business</th>\n",
       "      <td>0.000000</td>\n",
       "    </tr>\n",
       "    <tr>\n",
       "      <th>Airline_Multiple carriers</th>\n",
       "      <td>0.000000</td>\n",
       "    </tr>\n",
       "    <tr>\n",
       "      <th>Airline_Multiple carriers Premium economy</th>\n",
       "      <td>0.000000</td>\n",
       "    </tr>\n",
       "    <tr>\n",
       "      <th>Airline_SpiceJet</th>\n",
       "      <td>0.415753</td>\n",
       "    </tr>\n",
       "    <tr>\n",
       "      <th>Airline_Trujet</th>\n",
       "      <td>0.845137</td>\n",
       "    </tr>\n",
       "    <tr>\n",
       "      <th>Airline_Vistara</th>\n",
       "      <td>0.000000</td>\n",
       "    </tr>\n",
       "    <tr>\n",
       "      <th>Airline_Vistara Premium economy</th>\n",
       "      <td>0.000400</td>\n",
       "    </tr>\n",
       "    <tr>\n",
       "      <th>Source_Banglore</th>\n",
       "      <td>0.000000</td>\n",
       "    </tr>\n",
       "    <tr>\n",
       "      <th>Source_Chennai</th>\n",
       "      <td>0.000000</td>\n",
       "    </tr>\n",
       "    <tr>\n",
       "      <th>Source_Delhi</th>\n",
       "      <td>0.000000</td>\n",
       "    </tr>\n",
       "    <tr>\n",
       "      <th>Source_Kolkata</th>\n",
       "      <td>0.000000</td>\n",
       "    </tr>\n",
       "    <tr>\n",
       "      <th>Source_Mumbai</th>\n",
       "      <td>0.000000</td>\n",
       "    </tr>\n",
       "    <tr>\n",
       "      <th>Destination_Banglore</th>\n",
       "      <td>0.000000</td>\n",
       "    </tr>\n",
       "    <tr>\n",
       "      <th>Destination_Cochin</th>\n",
       "      <td>0.000000</td>\n",
       "    </tr>\n",
       "    <tr>\n",
       "      <th>Destination_Delhi</th>\n",
       "      <td>0.000000</td>\n",
       "    </tr>\n",
       "    <tr>\n",
       "      <th>Destination_Hyderabad</th>\n",
       "      <td>0.000000</td>\n",
       "    </tr>\n",
       "    <tr>\n",
       "      <th>Destination_Kolkata</th>\n",
       "      <td>0.000000</td>\n",
       "    </tr>\n",
       "    <tr>\n",
       "      <th>Destination_New Delhi</th>\n",
       "      <td>0.000000</td>\n",
       "    </tr>\n",
       "  </tbody>\n",
       "</table>\n",
       "</div>"
      ],
      "text/plain": [
       "                                           P-Value\n",
       "const                                     0.000000\n",
       "Total_Stops                               0.000000\n",
       "Dep_Hour                                  0.362817\n",
       "Dep_Minute                                0.285753\n",
       "Arrival_Hour                              0.967823\n",
       "Arrival_Minute                            0.045083\n",
       "Journey_Weekday                           0.274854\n",
       "Journey_Month                             0.000001\n",
       "Journey_Date                              0.000000\n",
       "Duration_mins                             0.475777\n",
       "Airline_Air Asia                          0.000042\n",
       "Airline_Air India                         0.000000\n",
       "Airline_GoAir                             0.000012\n",
       "Airline_IndiGo                            0.000000\n",
       "Airline_Jet Airways                       0.000000\n",
       "Airline_Jet Airways Business              0.000000\n",
       "Airline_Multiple carriers                 0.000000\n",
       "Airline_Multiple carriers Premium economy 0.000000\n",
       "Airline_SpiceJet                          0.415753\n",
       "Airline_Trujet                            0.845137\n",
       "Airline_Vistara                           0.000000\n",
       "Airline_Vistara Premium economy           0.000400\n",
       "Source_Banglore                           0.000000\n",
       "Source_Chennai                            0.000000\n",
       "Source_Delhi                              0.000000\n",
       "Source_Kolkata                            0.000000\n",
       "Source_Mumbai                             0.000000\n",
       "Destination_Banglore                      0.000000\n",
       "Destination_Cochin                        0.000000\n",
       "Destination_Delhi                         0.000000\n",
       "Destination_Hyderabad                     0.000000\n",
       "Destination_Kolkata                       0.000000\n",
       "Destination_New Delhi                     0.000000"
      ]
     },
     "execution_count": 363,
     "metadata": {},
     "output_type": "execute_result"
    }
   ],
   "source": [
    "MLR_pvalues = pd.DataFrame(MLR.pvalues, columns = [\"P-Value\"])\n",
    "\n",
    "# print the dataframe\n",
    "MLR_pvalues"
   ]
  },
  {
   "cell_type": "code",
   "execution_count": 364,
   "metadata": {},
   "outputs": [
    {
     "data": {
      "text/plain": [
       "['Dep_Hour',\n",
       " 'Dep_Minute',\n",
       " 'Arrival_Hour',\n",
       " 'Journey_Weekday',\n",
       " 'Duration_mins',\n",
       " 'Airline_SpiceJet',\n",
       " 'Airline_Trujet']"
      ]
     },
     "execution_count": 364,
     "metadata": {},
     "output_type": "execute_result"
    }
   ],
   "source": [
    "# subset the dataframe 'MLR_pvalues' such that the variables will have p-value greater than 0.05\n",
    "# store the subset of a dataframe to a new dataframe 'insignificant_var' \n",
    "insignificant_var = MLR_pvalues[1:][MLR_pvalues[1:]['P-Value'] > 0.05]\n",
    "\n",
    "# get the variable names with p-value greater than 0.05\n",
    "insigni_var = insignificant_var.index\n",
    "\n",
    "# convert the variables to the type 'list' using 'to_list()'\n",
    "insigni_var = insigni_var.to_list()\n",
    "\n",
    "# print the list of insignificant variables\n",
    "insigni_var"
   ]
  },
  {
   "cell_type": "code",
   "execution_count": 365,
   "metadata": {},
   "outputs": [
    {
     "name": "stdout",
     "output_type": "stream",
     "text": [
      "                            OLS Regression Results                            \n",
      "==============================================================================\n",
      "Dep. Variable:                  Price   R-squared:                       0.723\n",
      "Model:                            OLS   Adj. R-squared:                  0.722\n",
      "Method:                 Least Squares   F-statistic:                     1171.\n",
      "Date:                Sat, 22 May 2021   Prob (F-statistic):               0.00\n",
      "Time:                        10:21:57   Log-Likelihood:                -890.64\n",
      "No. Observations:                8545   AIC:                             1821.\n",
      "Df Residuals:                    8525   BIC:                             1962.\n",
      "Df Model:                          19                                         \n",
      "Covariance Type:            nonrobust                                         \n",
      "=============================================================================================================\n",
      "                                                coef    std err          t      P>|t|      [0.025      0.975]\n",
      "-------------------------------------------------------------------------------------------------------------\n",
      "const                                         6.1859      0.008    745.187      0.000       6.170       6.202\n",
      "Total_Stops                                   0.2020      0.004     45.161      0.000       0.193       0.211\n",
      "Arrival_Minute                                0.0063      0.003      2.086      0.037       0.000       0.012\n",
      "Journey_Month                                -0.0146      0.003     -4.749      0.000      -0.021      -0.009\n",
      "Journey_Date                                 -0.0613      0.003    -19.944      0.000      -0.067      -0.055\n",
      "Airline_Air Asia                              0.1088      0.020      5.353      0.000       0.069       0.149\n",
      "Airline_Air India                             0.3650      0.014     25.976      0.000       0.337       0.393\n",
      "Airline_GoAir                                 0.1274      0.025      5.197      0.000       0.079       0.176\n",
      "Airline_IndiGo                                0.1647      0.013     13.083      0.000       0.140       0.189\n",
      "Airline_Jet Airways                           0.6483      0.013     51.601      0.000       0.624       0.673\n",
      "Airline_Jet Airways Business                  2.1063      0.135     15.556      0.000       1.841       2.372\n",
      "Airline_Multiple carriers                     0.5658      0.015     37.501      0.000       0.536       0.595\n",
      "Airline_Multiple carriers Premium economy     0.7092      0.079      9.019      0.000       0.555       0.863\n",
      "Airline_Vistara                               0.4532      0.018     25.479      0.000       0.418       0.488\n",
      "Airline_Vistara Premium economy               0.6043      0.191      3.172      0.002       0.231       0.978\n",
      "Source_Banglore                               1.6141      0.005    330.161      0.000       1.604       1.624\n",
      "Source_Chennai                                1.1542      0.007    164.615      0.000       1.140       1.168\n",
      "Source_Delhi                                  1.2160      0.004    324.702      0.000       1.209       1.223\n",
      "Source_Kolkata                                1.2070      0.003    366.260      0.000       1.201       1.213\n",
      "Source_Mumbai                                 0.9947      0.006    178.991      0.000       0.984       1.006\n",
      "Destination_Banglore                          1.2070      0.003    366.260      0.000       1.201       1.213\n",
      "Destination_Cochin                            1.2160      0.004    324.702      0.000       1.209       1.223\n",
      "Destination_Delhi                             0.6287      0.007     86.328      0.000       0.614       0.643\n",
      "Destination_Hyderabad                         0.9947      0.006    178.991      0.000       0.984       1.006\n",
      "Destination_Kolkata                           1.1542      0.007    164.615      0.000       1.140       1.168\n",
      "Destination_New Delhi                         0.9854      0.008    130.942      0.000       0.971       1.000\n",
      "==============================================================================\n",
      "Omnibus:                      398.253   Durbin-Watson:                   2.042\n",
      "Prob(Omnibus):                  0.000   Jarque-Bera (JB):              937.675\n",
      "Skew:                           0.282   Prob(JB):                    2.43e-204\n",
      "Kurtosis:                       4.522   Cond. No.                     1.38e+16\n",
      "==============================================================================\n",
      "\n",
      "Notes:\n",
      "[1] Standard Errors assume that the covariance matrix of the errors is correctly specified.\n",
      "[2] The smallest eigenvalue is 8.53e-29. This might indicate that there are\n",
      "strong multicollinearity problems or that the design matrix is singular.\n"
     ]
    }
   ],
   "source": [
    "X_train_signi_var = X_train_ols.drop(insigni_var, axis=1)\n",
    "\n",
    "# drop the insignificant variables from the dataframe 'X_test_signi_var'\n",
    "# 'axis = 1' drops the corresponding column(s)\n",
    "X_test_signi_var = X_test_ols.drop(insigni_var, axis=1)\n",
    "\n",
    "# building a model on training dataset\n",
    "# fit() is used to fit the OLS model\n",
    "MLR_model_with_significant_var = sm.OLS(y_train, X_train_signi_var).fit()\n",
    "\n",
    "# print the summary output\n",
    "print(MLR_model_with_significant_var.summary())"
   ]
  },
  {
   "cell_type": "code",
   "execution_count": 366,
   "metadata": {},
   "outputs": [],
   "source": [
    "Signi_var_model = LinearRegression()"
   ]
  },
  {
   "cell_type": "code",
   "execution_count": 367,
   "metadata": {},
   "outputs": [
    {
     "data": {
      "text/plain": [
       "LinearRegression()"
      ]
     },
     "execution_count": 367,
     "metadata": {},
     "output_type": "execute_result"
    }
   ],
   "source": [
    "Signi_var_model.fit(X_train_signi_var,y_train)"
   ]
  },
  {
   "cell_type": "code",
   "execution_count": 368,
   "metadata": {},
   "outputs": [
    {
     "data": {
      "text/plain": [
       "0.7229697135627733"
      ]
     },
     "execution_count": 368,
     "metadata": {},
     "output_type": "execute_result"
    }
   ],
   "source": [
    "Signi_var_model.score(X_train_signi_var,y_train)"
   ]
  },
  {
   "cell_type": "code",
   "execution_count": 369,
   "metadata": {},
   "outputs": [],
   "source": [
    "Signi_var_model_r2 = Signi_var_model.score(X_train_signi_var,y_train)\n",
    "Signi_var_model_Adj_r2 = 1 - (1-Signi_var_model_r2)*(len(y_train)-1)/(len(y_train)- X_train_signi_var.shape[1]-1)\n",
    "Signi_var_model_mse = mean_squared_error(y_train,Signi_var_model.predict(X_train_signi_var))\n",
    "Signi_var_model_mae = mean_absolute_error(y_train,Signi_var_model.predict(X_train_signi_var))\n",
    "Signi_var_model_rmse = np.sqrt(Signi_var_model_mse)\n",
    "Signi_var_model_mape = (np.mean(np.abs((y_train - Signi_var_model.predict(X_train_signi_var)) / y_train)) * 100)"
   ]
  },
  {
   "cell_type": "code",
   "execution_count": 370,
   "metadata": {},
   "outputs": [
    {
     "data": {
      "text/html": [
       "<div>\n",
       "<style scoped>\n",
       "    .dataframe tbody tr th:only-of-type {\n",
       "        vertical-align: middle;\n",
       "    }\n",
       "\n",
       "    .dataframe tbody tr th {\n",
       "        vertical-align: top;\n",
       "    }\n",
       "\n",
       "    .dataframe thead th {\n",
       "        text-align: right;\n",
       "    }\n",
       "</style>\n",
       "<table border=\"1\" class=\"dataframe\">\n",
       "  <thead>\n",
       "    <tr style=\"text-align: right;\">\n",
       "      <th></th>\n",
       "      <th>Model_Name</th>\n",
       "      <th>R-squared</th>\n",
       "      <th>Adj. R-squared</th>\n",
       "      <th>MSE</th>\n",
       "      <th>RMSE</th>\n",
       "      <th>MAE</th>\n",
       "      <th>MAPE</th>\n",
       "    </tr>\n",
       "  </thead>\n",
       "  <tbody>\n",
       "    <tr>\n",
       "      <th>0</th>\n",
       "      <td>MLR Base Model</td>\n",
       "      <td>0.723102</td>\n",
       "      <td>0.722061</td>\n",
       "      <td>0.072086</td>\n",
       "      <td>0.268488</td>\n",
       "      <td>0.204462</td>\n",
       "      <td>2.271043</td>\n",
       "    </tr>\n",
       "    <tr>\n",
       "      <th>1</th>\n",
       "      <td>MLR with Significant variables</td>\n",
       "      <td>0.722970</td>\n",
       "      <td>0.722124</td>\n",
       "      <td>0.072120</td>\n",
       "      <td>0.204511</td>\n",
       "      <td>0.268552</td>\n",
       "      <td>2.271311</td>\n",
       "    </tr>\n",
       "  </tbody>\n",
       "</table>\n",
       "</div>"
      ],
      "text/plain": [
       "                       Model_Name  R-squared  Adj. R-squared      MSE  \\\n",
       "0                  MLR Base Model   0.723102        0.722061 0.072086   \n",
       "1  MLR with Significant variables   0.722970        0.722124 0.072120   \n",
       "\n",
       "      RMSE      MAE     MAPE  \n",
       "0 0.268488 0.204462 2.271043  \n",
       "1 0.204511 0.268552 2.271311  "
      ]
     },
     "execution_count": 370,
     "metadata": {},
     "output_type": "execute_result"
    }
   ],
   "source": [
    "Signi_var_model_metrics = pd.Series({'Model_Name': \"MLR with Significant variables\",\n",
    "                     'R-squared': Signi_var_model_r2,\n",
    "                     'Adj. R-squared' :Signi_var_model_Adj_r2,\n",
    "                     'MSE': Signi_var_model_mse,\n",
    "                     'RMSE': Signi_var_model_mae,\n",
    "                     'MAE': Signi_var_model_rmse,\n",
    "                    'MAPE' :Signi_var_model_mape\n",
    "                   })\n",
    "\n",
    "# append the values to the result table\n",
    "result_table = result_table.append(Signi_var_model_metrics, ignore_index = True)\n",
    "\n",
    "# print the result table\n",
    "result_table"
   ]
  },
  {
   "cell_type": "code",
   "execution_count": 371,
   "metadata": {},
   "outputs": [
    {
     "data": {
      "text/html": [
       "<div>\n",
       "<style scoped>\n",
       "    .dataframe tbody tr th:only-of-type {\n",
       "        vertical-align: middle;\n",
       "    }\n",
       "\n",
       "    .dataframe tbody tr th {\n",
       "        vertical-align: top;\n",
       "    }\n",
       "\n",
       "    .dataframe thead th {\n",
       "        text-align: right;\n",
       "    }\n",
       "</style>\n",
       "<table border=\"1\" class=\"dataframe\">\n",
       "  <thead>\n",
       "    <tr style=\"text-align: right;\">\n",
       "      <th></th>\n",
       "      <th>Model_Name</th>\n",
       "      <th>R-squared_test</th>\n",
       "      <th>Adj. R-squared_test</th>\n",
       "    </tr>\n",
       "  </thead>\n",
       "  <tbody>\n",
       "    <tr>\n",
       "      <th>0</th>\n",
       "      <td>MLR Base Model</td>\n",
       "      <td>0.721674</td>\n",
       "      <td>0.718891</td>\n",
       "    </tr>\n",
       "    <tr>\n",
       "      <th>1</th>\n",
       "      <td>MLR with Significant variables</td>\n",
       "      <td>0.721107</td>\n",
       "      <td>0.717670</td>\n",
       "    </tr>\n",
       "  </tbody>\n",
       "</table>\n",
       "</div>"
      ],
      "text/plain": [
       "                       Model_Name  R-squared_test  Adj. R-squared_test\n",
       "0                  MLR Base Model        0.721674             0.718891\n",
       "1  MLR with Significant variables        0.721107             0.717670"
      ]
     },
     "execution_count": 371,
     "metadata": {},
     "output_type": "execute_result"
    }
   ],
   "source": [
    "Signi_var_model_r2_test = Signi_var_model.score(X_test_signi_var,y_test)\n",
    "Signi_var_model_Adj_r2_test = 1 - (1-Signi_var_model_r2_test)*(len(y_test)-1)/(len(y_test)- X_test_signi_var.shape[1]-1)\n",
    "\n",
    "\n",
    "Signi_var_model_metrics_test = pd.Series({'Model_Name': \"MLR with Significant variables\",\n",
    "                     'R-squared_test': Signi_var_model_r2_test,\n",
    "                     'Adj. R-squared_test': Signi_var_model_Adj_r2_test})\n",
    "                                      \n",
    "result_table_test = result_table_test.append(Signi_var_model_metrics_test, ignore_index = True)\n",
    "\n",
    "# print the result table\n",
    "result_table_test"
   ]
  },
  {
   "cell_type": "code",
   "execution_count": 372,
   "metadata": {},
   "outputs": [
    {
     "data": {
      "text/html": [
       "<div>\n",
       "<style scoped>\n",
       "    .dataframe tbody tr th:only-of-type {\n",
       "        vertical-align: middle;\n",
       "    }\n",
       "\n",
       "    .dataframe tbody tr th {\n",
       "        vertical-align: top;\n",
       "    }\n",
       "\n",
       "    .dataframe thead th {\n",
       "        text-align: right;\n",
       "    }\n",
       "</style>\n",
       "<table border=\"1\" class=\"dataframe\">\n",
       "  <thead>\n",
       "    <tr style=\"text-align: right;\">\n",
       "      <th></th>\n",
       "      <th>Total_Stops</th>\n",
       "      <th>Dep_Hour</th>\n",
       "      <th>Dep_Minute</th>\n",
       "      <th>Arrival_Hour</th>\n",
       "      <th>Arrival_Minute</th>\n",
       "      <th>Journey_Weekday</th>\n",
       "      <th>Journey_Month</th>\n",
       "      <th>Journey_Date</th>\n",
       "      <th>Duration_mins</th>\n",
       "    </tr>\n",
       "  </thead>\n",
       "  <tbody>\n",
       "    <tr>\n",
       "      <th>0</th>\n",
       "      <td>-1.220666</td>\n",
       "      <td>1.654154</td>\n",
       "      <td>-0.234950</td>\n",
       "      <td>-1.800436</td>\n",
       "      <td>-0.890014</td>\n",
       "      <td>1.692538</td>\n",
       "      <td>-0.848450</td>\n",
       "      <td>1.285536</td>\n",
       "      <td>1.279041</td>\n",
       "    </tr>\n",
       "    <tr>\n",
       "      <th>1</th>\n",
       "      <td>1.741432</td>\n",
       "      <td>-1.303113</td>\n",
       "      <td>1.363607</td>\n",
       "      <td>-0.050909</td>\n",
       "      <td>-0.587094</td>\n",
       "      <td>1.147887</td>\n",
       "      <td>-1.517909</td>\n",
       "      <td>-0.872724</td>\n",
       "      <td>-0.196319</td>\n",
       "    </tr>\n",
       "    <tr>\n",
       "      <th>2</th>\n",
       "      <td>1.741432</td>\n",
       "      <td>-0.607286</td>\n",
       "      <td>0.031476</td>\n",
       "      <td>-1.363054</td>\n",
       "      <td>0.018745</td>\n",
       "      <td>0.603236</td>\n",
       "      <td>1.159928</td>\n",
       "      <td>-0.759131</td>\n",
       "      <td>-1.671678</td>\n",
       "    </tr>\n",
       "    <tr>\n",
       "      <th>3</th>\n",
       "      <td>0.260383</td>\n",
       "      <td>0.958326</td>\n",
       "      <td>-1.034229</td>\n",
       "      <td>1.407030</td>\n",
       "      <td>0.321664</td>\n",
       "      <td>0.058585</td>\n",
       "      <td>2.164117</td>\n",
       "      <td>-0.872724</td>\n",
       "      <td>-0.196319</td>\n",
       "    </tr>\n",
       "    <tr>\n",
       "      <th>4</th>\n",
       "      <td>0.260383</td>\n",
       "      <td>0.610412</td>\n",
       "      <td>1.363607</td>\n",
       "      <td>1.115442</td>\n",
       "      <td>0.624584</td>\n",
       "      <td>0.058585</td>\n",
       "      <td>-1.517909</td>\n",
       "      <td>-1.099909</td>\n",
       "      <td>0.983969</td>\n",
       "    </tr>\n",
       "  </tbody>\n",
       "</table>\n",
       "</div>"
      ],
      "text/plain": [
       "   Total_Stops  Dep_Hour  Dep_Minute  Arrival_Hour  Arrival_Minute  \\\n",
       "0    -1.220666  1.654154   -0.234950     -1.800436       -0.890014   \n",
       "1     1.741432 -1.303113    1.363607     -0.050909       -0.587094   \n",
       "2     1.741432 -0.607286    0.031476     -1.363054        0.018745   \n",
       "3     0.260383  0.958326   -1.034229      1.407030        0.321664   \n",
       "4     0.260383  0.610412    1.363607      1.115442        0.624584   \n",
       "\n",
       "   Journey_Weekday  Journey_Month  Journey_Date  Duration_mins  \n",
       "0         1.692538      -0.848450      1.285536       1.279041  \n",
       "1         1.147887      -1.517909     -0.872724      -0.196319  \n",
       "2         0.603236       1.159928     -0.759131      -1.671678  \n",
       "3         0.058585       2.164117     -0.872724      -0.196319  \n",
       "4         0.058585      -1.517909     -1.099909       0.983969  "
      ]
     },
     "execution_count": 372,
     "metadata": {},
     "output_type": "execute_result"
    }
   ],
   "source": [
    "df_numeric_features_vif = flight_data_num_scaled.copy()\n",
    "\n",
    "# display the first five observations\n",
    "df_numeric_features_vif.head()"
   ]
  },
  {
   "cell_type": "code",
   "execution_count": 373,
   "metadata": {},
   "outputs": [
    {
     "data": {
      "text/html": [
       "<div>\n",
       "<style scoped>\n",
       "    .dataframe tbody tr th:only-of-type {\n",
       "        vertical-align: middle;\n",
       "    }\n",
       "\n",
       "    .dataframe tbody tr th {\n",
       "        vertical-align: top;\n",
       "    }\n",
       "\n",
       "    .dataframe thead th {\n",
       "        text-align: right;\n",
       "    }\n",
       "</style>\n",
       "<table border=\"1\" class=\"dataframe\">\n",
       "  <thead>\n",
       "    <tr style=\"text-align: right;\">\n",
       "      <th></th>\n",
       "      <th>VIF_Factor</th>\n",
       "      <th>Features</th>\n",
       "    </tr>\n",
       "  </thead>\n",
       "  <tbody>\n",
       "    <tr>\n",
       "      <th>0</th>\n",
       "      <td>1.127735</td>\n",
       "      <td>Journey_Month</td>\n",
       "    </tr>\n",
       "    <tr>\n",
       "      <th>1</th>\n",
       "      <td>1.101277</td>\n",
       "      <td>Journey_Date</td>\n",
       "    </tr>\n",
       "    <tr>\n",
       "      <th>2</th>\n",
       "      <td>1.062263</td>\n",
       "      <td>Duration_mins</td>\n",
       "    </tr>\n",
       "    <tr>\n",
       "      <th>3</th>\n",
       "      <td>1.058331</td>\n",
       "      <td>Arrival_Minute</td>\n",
       "    </tr>\n",
       "    <tr>\n",
       "      <th>4</th>\n",
       "      <td>1.053790</td>\n",
       "      <td>Journey_Weekday</td>\n",
       "    </tr>\n",
       "    <tr>\n",
       "      <th>5</th>\n",
       "      <td>1.037444</td>\n",
       "      <td>Arrival_Hour</td>\n",
       "    </tr>\n",
       "    <tr>\n",
       "      <th>6</th>\n",
       "      <td>1.035402</td>\n",
       "      <td>Total_Stops</td>\n",
       "    </tr>\n",
       "    <tr>\n",
       "      <th>7</th>\n",
       "      <td>1.013028</td>\n",
       "      <td>Dep_Minute</td>\n",
       "    </tr>\n",
       "    <tr>\n",
       "      <th>8</th>\n",
       "      <td>1.011239</td>\n",
       "      <td>Dep_Hour</td>\n",
       "    </tr>\n",
       "  </tbody>\n",
       "</table>\n",
       "</div>"
      ],
      "text/plain": [
       "   VIF_Factor         Features\n",
       "0    1.127735    Journey_Month\n",
       "1    1.101277     Journey_Date\n",
       "2    1.062263    Duration_mins\n",
       "3    1.058331   Arrival_Minute\n",
       "4    1.053790  Journey_Weekday\n",
       "5    1.037444     Arrival_Hour\n",
       "6    1.035402      Total_Stops\n",
       "7    1.013028       Dep_Minute\n",
       "8    1.011239         Dep_Hour"
      ]
     },
     "execution_count": 373,
     "metadata": {},
     "output_type": "execute_result"
    }
   ],
   "source": [
    "# create an empty dataframe to store the VIF for each variable\n",
    "vif = pd.DataFrame()\n",
    "\n",
    "# calculate VIF using list comprehension \n",
    "# use for loop to access each variable \n",
    "# calculate VIF for each variable and create a column 'VIF_Factor' to store the values \n",
    "vif[\"VIF_Factor\"] = [variance_inflation_factor(df_numeric_features_vif.values, i) for i in range(df_numeric_features_vif.shape[1])]\n",
    "\n",
    "# create a column of variable names\n",
    "vif[\"Features\"] = df_numeric_features_vif.columns\n",
    "\n",
    "# sort the dataframe based on the values of VIF_Factor in descending order\n",
    "# 'ascending = False' sorts the data in descending order\n",
    "# 'reset_index' resets the index of the dataframe\n",
    "# 'drop = True' drops the previous index\n",
    "vif.sort_values('VIF_Factor', ascending = False).reset_index(drop = True)"
   ]
  },
  {
   "cell_type": "markdown",
   "metadata": {},
   "source": [
    "<a id=\"pca\"></a>\n",
    "### 5.3 MLR Model with PCA Technique"
   ]
  },
  {
   "cell_type": "code",
   "execution_count": 374,
   "metadata": {},
   "outputs": [],
   "source": [
    "from sklearn.decomposition import PCA"
   ]
  },
  {
   "cell_type": "code",
   "execution_count": 375,
   "metadata": {},
   "outputs": [],
   "source": [
    "pca = PCA(n_components=24)"
   ]
  },
  {
   "cell_type": "code",
   "execution_count": 376,
   "metadata": {},
   "outputs": [
    {
     "name": "stdout",
     "output_type": "stream",
     "text": [
      "X train Shape: (8545, 32)\n",
      "X test Shape: (2137, 32)\n",
      "y train Shape: (8545,)\n",
      "y test Shape: (2137,)\n"
     ]
    }
   ],
   "source": [
    "X_train, X_test, y_train, y_test = train_test_split(X, y_log, test_size=0.2, random_state = 10)\n",
    "print('X train Shape:',X_train.shape)\n",
    "print('X test Shape:',X_test.shape)\n",
    "print('y train Shape:',y_train.shape)\n",
    "print('y test Shape:',y_test.shape)"
   ]
  },
  {
   "cell_type": "code",
   "execution_count": 377,
   "metadata": {},
   "outputs": [],
   "source": [
    "X_train = pca.fit_transform(X_train)\n",
    "X_test = pca.transform(X_test)"
   ]
  },
  {
   "cell_type": "code",
   "execution_count": 378,
   "metadata": {},
   "outputs": [
    {
     "data": {
      "text/plain": [
       "[<matplotlib.lines.Line2D at 0x25a801e9bb0>]"
      ]
     },
     "execution_count": 378,
     "metadata": {},
     "output_type": "execute_result"
    },
    {
     "data": {
      "image/png": "[encoded data removed]",
      "text/plain": [
       "<Figure size 1080x576 with 1 Axes>"
      ]
     },
     "metadata": {
      "needs_background": "light"
     },
     "output_type": "display_data"
    }
   ],
   "source": [
    "plt.plot(pca.explained_variance_ratio_.cumsum())"
   ]
  },
  {
   "cell_type": "code",
   "execution_count": 379,
   "metadata": {},
   "outputs": [],
   "source": [
    "PCA_model = LinearRegression()"
   ]
  },
  {
   "cell_type": "code",
   "execution_count": 380,
   "metadata": {},
   "outputs": [
    {
     "data": {
      "text/plain": [
       "LinearRegression()"
      ]
     },
     "execution_count": 380,
     "metadata": {},
     "output_type": "execute_result"
    }
   ],
   "source": [
    "PCA_model.fit(X_train,y_train)"
   ]
  },
  {
   "cell_type": "code",
   "execution_count": 381,
   "metadata": {},
   "outputs": [],
   "source": [
    "PCA_model_r2 = PCA_model.score(X_train,y_train)\n",
    "PCA_model_Adj_r2 = 1 - (1-PCA_model_r2)*(len(y_train)-1)/(len(y_train)- X_train.shape[1]-1)\n",
    "PCA_model_mse = mean_squared_error(y_train,PCA_model.predict(X_train))\n",
    "PCA_model_mae = mean_absolute_error(y_train,PCA_model.predict(X_train))\n",
    "PCA_model_rmse = np.sqrt(PCA_model_mse)\n",
    "PCA_model_mape = (np.mean(np.abs((y_train -PCA_model.predict(X_train)) / y_train)) * 100)"
   ]
  },
  {
   "cell_type": "code",
   "execution_count": 382,
   "metadata": {},
   "outputs": [
    {
     "data": {
      "text/html": [
       "<div>\n",
       "<style scoped>\n",
       "    .dataframe tbody tr th:only-of-type {\n",
       "        vertical-align: middle;\n",
       "    }\n",
       "\n",
       "    .dataframe tbody tr th {\n",
       "        vertical-align: top;\n",
       "    }\n",
       "\n",
       "    .dataframe thead th {\n",
       "        text-align: right;\n",
       "    }\n",
       "</style>\n",
       "<table border=\"1\" class=\"dataframe\">\n",
       "  <thead>\n",
       "    <tr style=\"text-align: right;\">\n",
       "      <th></th>\n",
       "      <th>Model_Name</th>\n",
       "      <th>R-squared</th>\n",
       "      <th>Adj. R-squared</th>\n",
       "      <th>MSE</th>\n",
       "      <th>RMSE</th>\n",
       "      <th>MAE</th>\n",
       "      <th>MAPE</th>\n",
       "    </tr>\n",
       "  </thead>\n",
       "  <tbody>\n",
       "    <tr>\n",
       "      <th>0</th>\n",
       "      <td>MLR Base Model</td>\n",
       "      <td>0.723102</td>\n",
       "      <td>0.722061</td>\n",
       "      <td>0.072086</td>\n",
       "      <td>0.268488</td>\n",
       "      <td>0.204462</td>\n",
       "      <td>2.271043</td>\n",
       "    </tr>\n",
       "    <tr>\n",
       "      <th>1</th>\n",
       "      <td>MLR with Significant variables</td>\n",
       "      <td>0.722970</td>\n",
       "      <td>0.722124</td>\n",
       "      <td>0.072120</td>\n",
       "      <td>0.204511</td>\n",
       "      <td>0.268552</td>\n",
       "      <td>2.271311</td>\n",
       "    </tr>\n",
       "    <tr>\n",
       "      <th>2</th>\n",
       "      <td>MLR with PCA Technique</td>\n",
       "      <td>0.722872</td>\n",
       "      <td>0.722092</td>\n",
       "      <td>0.072948</td>\n",
       "      <td>0.205053</td>\n",
       "      <td>0.270088</td>\n",
       "      <td>2.277220</td>\n",
       "    </tr>\n",
       "  </tbody>\n",
       "</table>\n",
       "</div>"
      ],
      "text/plain": [
       "                       Model_Name  R-squared  Adj. R-squared      MSE  \\\n",
       "0                  MLR Base Model   0.723102        0.722061 0.072086   \n",
       "1  MLR with Significant variables   0.722970        0.722124 0.072120   \n",
       "2          MLR with PCA Technique   0.722872        0.722092 0.072948   \n",
       "\n",
       "      RMSE      MAE     MAPE  \n",
       "0 0.268488 0.204462 2.271043  \n",
       "1 0.204511 0.268552 2.271311  \n",
       "2 0.205053 0.270088 2.277220  "
      ]
     },
     "execution_count": 382,
     "metadata": {},
     "output_type": "execute_result"
    }
   ],
   "source": [
    "PCA_model_metrics = pd.Series({'Model_Name': \"MLR with PCA Technique\",\n",
    "                     'R-squared': PCA_model_r2,\n",
    "                     'Adj. R-squared': PCA_model_Adj_r2,\n",
    "                     'MSE': PCA_model_mse,\n",
    "                     'RMSE': PCA_model_mae,\n",
    "                     'MAE': PCA_model_rmse,\n",
    "                    'MAPE':PCA_model_mape,\n",
    "                   })\n",
    "\n",
    "# append the values to the result table\n",
    "result_table = result_table.append(PCA_model_metrics, ignore_index = True)\n",
    "\n",
    "# print the result table\n",
    "result_table"
   ]
  },
  {
   "cell_type": "markdown",
   "metadata": {},
   "source": [
    "<a id=\"rfe\"></a>\n",
    "### 5.4 MLR Model with RFE Technique"
   ]
  },
  {
   "cell_type": "code",
   "execution_count": 383,
   "metadata": {},
   "outputs": [],
   "source": [
    "from mlxtend.feature_selection import SequentialFeatureSelector as sfs\n",
    "from sklearn.feature_selection import RFE"
   ]
  },
  {
   "cell_type": "code",
   "execution_count": 384,
   "metadata": {},
   "outputs": [
    {
     "name": "stdout",
     "output_type": "stream",
     "text": [
      "X train Shape: (8545, 32)\n",
      "X test Shape: (2137, 32)\n",
      "y train Shape: (8545,)\n",
      "y test Shape: (2137,)\n"
     ]
    }
   ],
   "source": [
    "X_train, X_test, y_train, y_test = train_test_split(X, y_log, test_size=0.2, random_state = 10)\n",
    "print('X train Shape:',X_train.shape)\n",
    "print('X test Shape:',X_test.shape)\n",
    "print('y train Shape:',y_train.shape)\n",
    "print('y test Shape:',y_test.shape)"
   ]
  },
  {
   "cell_type": "code",
   "execution_count": 385,
   "metadata": {},
   "outputs": [
    {
     "name": "stdout",
     "output_type": "stream",
     "text": [
      "Index(['Total_Stops', 'Journey_Date', 'Airline_Air Asia', 'Airline_Air India',\n",
      "       'Airline_GoAir', 'Airline_IndiGo', 'Airline_Jet Airways',\n",
      "       'Airline_Jet Airways Business', 'Airline_Multiple carriers',\n",
      "       'Airline_Multiple carriers Premium economy', 'Airline_SpiceJet',\n",
      "       'Airline_Trujet', 'Airline_Vistara', 'Airline_Vistara Premium economy',\n",
      "       'Source_Banglore', 'Source_Delhi', 'Source_Kolkata', 'Source_Mumbai',\n",
      "       'Destination_Banglore', 'Destination_Cochin', 'Destination_Delhi',\n",
      "       'Destination_Hyderabad', 'Destination_New Delhi'],\n",
      "      dtype='object')\n"
     ]
    }
   ],
   "source": [
    "linreg_rfe = LinearRegression()\n",
    "\n",
    "# build the RFE model\n",
    "# pass the regression model to 'estimator'\n",
    "# pass number of required features to 'n_features_to_select'\n",
    "# if we do not pass the number of features, RFE considers half of the features\n",
    "rfe_model = RFE(estimator=linreg_rfe, n_features_to_select = 23)\n",
    "\n",
    "# fit the RFE model on the training dataset using fit()\n",
    "rfe_model = rfe_model.fit(X_train, y_train)\n",
    "\n",
    "# create a series containing feature and its corresponding rank obtained from RFE\n",
    "# 'ranking_' returns the rank of each variable after applying RFE\n",
    "# pass the ranks as the 'data' of a series\n",
    "# 'index' assigns feature names as index of a series \n",
    "feat_index = pd.Series(data = rfe_model.ranking_, index = X.columns)\n",
    "\n",
    "# select the features with rank = 1\n",
    "# 'index' returns the indices of a series (i.e. features with rank=1) \n",
    "signi_feat_rfe = feat_index[feat_index==1].index\n",
    "\n",
    "# print the significant features obtained from RFE\n",
    "print(signi_feat_rfe)"
   ]
  },
  {
   "cell_type": "code",
   "execution_count": 386,
   "metadata": {},
   "outputs": [
    {
     "data": {
      "text/plain": [
       "0.6353978566903886"
      ]
     },
     "execution_count": 386,
     "metadata": {},
     "output_type": "execute_result"
    }
   ],
   "source": [
    "RFE_X_train = X_train[['Airline_Air Asia', 'Airline_Air India', 'Airline_GoAir',\n",
    "       'Airline_IndiGo', 'Airline_Jet Airways', 'Airline_Jet Airways Business',\n",
    "       'Airline_Multiple carriers',\n",
    "       'Airline_Multiple carriers Premium economy', 'Airline_SpiceJet',\n",
    "       'Airline_Trujet', 'Airline_Vistara', 'Airline_Vistara Premium economy',\n",
    "       'Source_Banglore', 'Source_Chennai', 'Source_Delhi', 'Source_Kolkata',\n",
    "       'Source_Mumbai', 'Destination_Banglore', 'Destination_Cochin',\n",
    "       'Destination_Delhi', 'Destination_Hyderabad', 'Destination_Kolkata',\n",
    "       'Destination_New Delhi']]\n",
    "\n",
    "# initiate linear regression\n",
    "RFE_model = LinearRegression()\n",
    "\n",
    "# build the model using new_X_train and y_train\n",
    "RFE_model.fit(RFE_X_train, y_train)\n",
    "\n",
    "# check the score\n",
    "RFE_model.score(RFE_X_train, y_train)"
   ]
  },
  {
   "cell_type": "code",
   "execution_count": 387,
   "metadata": {},
   "outputs": [],
   "source": [
    "RFE_model_r2 = RFE_model.score(RFE_X_train,y_train)\n",
    "RFE_model_Adj_r2 = 1 - (1-RFE_model_r2)*(len(y_train)-1)/(len(y_train)- X_train.shape[1]-1)\n",
    "RFE_model_mse = mean_squared_error(y_train,RFE_model.predict(RFE_X_train))\n",
    "RFE_model_mae = mean_absolute_error(y_train,RFE_model.predict(RFE_X_train))\n",
    "RFE_model_rmse = np.sqrt(RFE_model_mse)\n",
    "RFE_model_mape = (np.mean(np.abs((y_train -RFE_model.predict(RFE_X_train)) / y_train)) * 100)"
   ]
  },
  {
   "cell_type": "code",
   "execution_count": 388,
   "metadata": {},
   "outputs": [
    {
     "data": {
      "text/html": [
       "<div>\n",
       "<style scoped>\n",
       "    .dataframe tbody tr th:only-of-type {\n",
       "        vertical-align: middle;\n",
       "    }\n",
       "\n",
       "    .dataframe tbody tr th {\n",
       "        vertical-align: top;\n",
       "    }\n",
       "\n",
       "    .dataframe thead th {\n",
       "        text-align: right;\n",
       "    }\n",
       "</style>\n",
       "<table border=\"1\" class=\"dataframe\">\n",
       "  <thead>\n",
       "    <tr style=\"text-align: right;\">\n",
       "      <th></th>\n",
       "      <th>Model_Name</th>\n",
       "      <th>R-squared</th>\n",
       "      <th>Adj. R-squared</th>\n",
       "      <th>MSE</th>\n",
       "      <th>RMSE</th>\n",
       "      <th>MAE</th>\n",
       "      <th>MAPE</th>\n",
       "    </tr>\n",
       "  </thead>\n",
       "  <tbody>\n",
       "    <tr>\n",
       "      <th>0</th>\n",
       "      <td>MLR Base Model</td>\n",
       "      <td>0.723102</td>\n",
       "      <td>0.722061</td>\n",
       "      <td>0.072086</td>\n",
       "      <td>0.268488</td>\n",
       "      <td>0.204462</td>\n",
       "      <td>2.271043</td>\n",
       "    </tr>\n",
       "    <tr>\n",
       "      <th>1</th>\n",
       "      <td>MLR with Significant variables</td>\n",
       "      <td>0.722970</td>\n",
       "      <td>0.722124</td>\n",
       "      <td>0.072120</td>\n",
       "      <td>0.204511</td>\n",
       "      <td>0.268552</td>\n",
       "      <td>2.271311</td>\n",
       "    </tr>\n",
       "    <tr>\n",
       "      <th>2</th>\n",
       "      <td>MLR with PCA Technique</td>\n",
       "      <td>0.722872</td>\n",
       "      <td>0.722092</td>\n",
       "      <td>0.072948</td>\n",
       "      <td>0.205053</td>\n",
       "      <td>0.270088</td>\n",
       "      <td>2.277220</td>\n",
       "    </tr>\n",
       "    <tr>\n",
       "      <th>3</th>\n",
       "      <td>RFE Model</td>\n",
       "      <td>0.635398</td>\n",
       "      <td>0.634027</td>\n",
       "      <td>0.095974</td>\n",
       "      <td>0.233257</td>\n",
       "      <td>0.309796</td>\n",
       "      <td>2.598350</td>\n",
       "    </tr>\n",
       "  </tbody>\n",
       "</table>\n",
       "</div>"
      ],
      "text/plain": [
       "                       Model_Name  R-squared  Adj. R-squared      MSE  \\\n",
       "0                  MLR Base Model   0.723102        0.722061 0.072086   \n",
       "1  MLR with Significant variables   0.722970        0.722124 0.072120   \n",
       "2          MLR with PCA Technique   0.722872        0.722092 0.072948   \n",
       "3                       RFE Model   0.635398        0.634027 0.095974   \n",
       "\n",
       "      RMSE      MAE     MAPE  \n",
       "0 0.268488 0.204462 2.271043  \n",
       "1 0.204511 0.268552 2.271311  \n",
       "2 0.205053 0.270088 2.277220  \n",
       "3 0.233257 0.309796 2.598350  "
      ]
     },
     "execution_count": 388,
     "metadata": {},
     "output_type": "execute_result"
    }
   ],
   "source": [
    "RFE_model_metrics = pd.Series({'Model_Name': \"RFE Model\",\n",
    "                     'R-squared': RFE_model_r2,\n",
    "                     'Adj. R-squared': RFE_model_Adj_r2,\n",
    "                     'MSE': RFE_model_mse,\n",
    "                     'RMSE': RFE_model_mae,\n",
    "                     'MAE': RFE_model_rmse,\n",
    "                     'MAPE': RFE_model_mape\n",
    "                   })\n",
    "\n",
    "# append the values to the result table\n",
    "result_table = result_table.append(RFE_model_metrics, ignore_index = True)\n",
    "\n",
    "# print the result table\n",
    "result_table"
   ]
  },
  {
   "cell_type": "markdown",
   "metadata": {},
   "source": [
    "<a id=\"fwd\"></a>\n",
    "### 5.5 MLR Model with Forward selection Technique"
   ]
  },
  {
   "cell_type": "code",
   "execution_count": 389,
   "metadata": {},
   "outputs": [
    {
     "name": "stderr",
     "output_type": "stream",
     "text": [
      "[Parallel(n_jobs=1)]: Using backend SequentialBackend with 1 concurrent workers.\n",
      "[Parallel(n_jobs=1)]: Done   1 out of   1 | elapsed:    0.0s remaining:    0.0s\n",
      "[Parallel(n_jobs=1)]: Done  32 out of  32 | elapsed:    0.2s finished\n",
      "\n",
      "[2021-05-22 10:21:58] Features: 1/32 -- score: 0.48224465497840807[Parallel(n_jobs=1)]: Using backend SequentialBackend with 1 concurrent workers.\n",
      "[Parallel(n_jobs=1)]: Done   1 out of   1 | elapsed:    0.0s remaining:    0.0s\n",
      "[Parallel(n_jobs=1)]: Done  31 out of  31 | elapsed:    0.2s finished\n",
      "\n",
      "[2021-05-22 10:21:58] Features: 2/32 -- score: 0.5719940085976026[Parallel(n_jobs=1)]: Using backend SequentialBackend with 1 concurrent workers.\n",
      "[Parallel(n_jobs=1)]: Done   1 out of   1 | elapsed:    0.0s remaining:    0.0s\n",
      "[Parallel(n_jobs=1)]: Done  30 out of  30 | elapsed:    0.3s finished\n",
      "\n",
      "[2021-05-22 10:21:59] Features: 3/32 -- score: 0.6094161422830261[Parallel(n_jobs=1)]: Using backend SequentialBackend with 1 concurrent workers.\n",
      "[Parallel(n_jobs=1)]: Done   1 out of   1 | elapsed:    0.0s remaining:    0.0s\n",
      "[Parallel(n_jobs=1)]: Done  29 out of  29 | elapsed:    0.2s finished\n",
      "\n",
      "[2021-05-22 10:21:59] Features: 4/32 -- score: 0.6366861188581991[Parallel(n_jobs=1)]: Using backend SequentialBackend with 1 concurrent workers.\n",
      "[Parallel(n_jobs=1)]: Done   1 out of   1 | elapsed:    0.0s remaining:    0.0s\n",
      "[Parallel(n_jobs=1)]: Done  28 out of  28 | elapsed:    0.2s finished\n",
      "\n",
      "[2021-05-22 10:21:59] Features: 5/32 -- score: 0.6592317648705626[Parallel(n_jobs=1)]: Using backend SequentialBackend with 1 concurrent workers.\n",
      "[Parallel(n_jobs=1)]: Done   1 out of   1 | elapsed:    0.0s remaining:    0.0s\n",
      "[Parallel(n_jobs=1)]: Done  27 out of  27 | elapsed:    0.2s finished\n",
      "\n",
      "[2021-05-22 10:22:00] Features: 6/32 -- score: 0.6735238006227392[Parallel(n_jobs=1)]: Using backend SequentialBackend with 1 concurrent workers.\n",
      "[Parallel(n_jobs=1)]: Done   1 out of   1 | elapsed:    0.0s remaining:    0.0s\n",
      "[Parallel(n_jobs=1)]: Done  26 out of  26 | elapsed:    0.2s finished\n",
      "\n",
      "[2021-05-22 10:22:00] Features: 7/32 -- score: 0.6865235586243543[Parallel(n_jobs=1)]: Using backend SequentialBackend with 1 concurrent workers.\n",
      "[Parallel(n_jobs=1)]: Done   1 out of   1 | elapsed:    0.0s remaining:    0.0s\n",
      "[Parallel(n_jobs=1)]: Done  25 out of  25 | elapsed:    0.2s finished\n",
      "\n",
      "[2021-05-22 10:22:00] Features: 8/32 -- score: 0.6948973273784238[Parallel(n_jobs=1)]: Using backend SequentialBackend with 1 concurrent workers.\n",
      "[Parallel(n_jobs=1)]: Done   1 out of   1 | elapsed:    0.0s remaining:    0.0s\n",
      "[Parallel(n_jobs=1)]: Done  24 out of  24 | elapsed:    0.2s finished\n",
      "\n",
      "[2021-05-22 10:22:01] Features: 9/32 -- score: 0.7011553449199175[Parallel(n_jobs=1)]: Using backend SequentialBackend with 1 concurrent workers.\n",
      "[Parallel(n_jobs=1)]: Done   1 out of   1 | elapsed:    0.0s remaining:    0.0s\n",
      "[Parallel(n_jobs=1)]: Done  23 out of  23 | elapsed:    0.2s finished\n",
      "\n",
      "[2021-05-22 10:22:01] Features: 10/32 -- score: 0.7073925521624342[Parallel(n_jobs=1)]: Using backend SequentialBackend with 1 concurrent workers.\n",
      "[Parallel(n_jobs=1)]: Done   1 out of   1 | elapsed:    0.0s remaining:    0.0s\n",
      "[Parallel(n_jobs=1)]: Done  22 out of  22 | elapsed:    0.2s finished\n",
      "\n",
      "[2021-05-22 10:22:01] Features: 11/32 -- score: 0.7136014724338796[Parallel(n_jobs=1)]: Using backend SequentialBackend with 1 concurrent workers.\n",
      "[Parallel(n_jobs=1)]: Done   1 out of   1 | elapsed:    0.0s remaining:    0.0s\n",
      "[Parallel(n_jobs=1)]: Done  21 out of  21 | elapsed:    0.3s finished\n",
      "\n",
      "[2021-05-22 10:22:02] Features: 12/32 -- score: 0.7175285215651379[Parallel(n_jobs=1)]: Using backend SequentialBackend with 1 concurrent workers.\n",
      "[Parallel(n_jobs=1)]: Done   1 out of   1 | elapsed:    0.0s remaining:    0.0s\n",
      "[Parallel(n_jobs=1)]: Done  20 out of  20 | elapsed:    0.2s finished\n",
      "\n",
      "[2021-05-22 10:22:02] Features: 13/32 -- score: 0.7186641103640093[Parallel(n_jobs=1)]: Using backend SequentialBackend with 1 concurrent workers.\n",
      "[Parallel(n_jobs=1)]: Done   1 out of   1 | elapsed:    0.0s remaining:    0.0s\n",
      "[Parallel(n_jobs=1)]: Done  19 out of  19 | elapsed:    0.2s finished\n",
      "\n",
      "[2021-05-22 10:22:02] Features: 14/32 -- score: 0.7197860049937932[Parallel(n_jobs=1)]: Using backend SequentialBackend with 1 concurrent workers.\n",
      "[Parallel(n_jobs=1)]: Done   1 out of   1 | elapsed:    0.0s remaining:    0.0s\n",
      "[Parallel(n_jobs=1)]: Done  18 out of  18 | elapsed:    0.4s finished\n",
      "\n",
      "[2021-05-22 10:22:03] Features: 15/32 -- score: 0.7206074943213591[Parallel(n_jobs=1)]: Using backend SequentialBackend with 1 concurrent workers.\n",
      "[Parallel(n_jobs=1)]: Done   1 out of   1 | elapsed:    0.0s remaining:    0.0s\n",
      "[Parallel(n_jobs=1)]: Done  17 out of  17 | elapsed:    0.2s finished\n",
      "\n",
      "[2021-05-22 10:22:03] Features: 16/32 -- score: 0.7208589613515066[Parallel(n_jobs=1)]: Using backend SequentialBackend with 1 concurrent workers.\n",
      "[Parallel(n_jobs=1)]: Done   1 out of   1 | elapsed:    0.0s remaining:    0.0s\n",
      "[Parallel(n_jobs=1)]: Done  16 out of  16 | elapsed:    0.3s finished\n",
      "\n",
      "[2021-05-22 10:22:03] Features: 17/32 -- score: 0.7210358174920618[Parallel(n_jobs=1)]: Using backend SequentialBackend with 1 concurrent workers.\n",
      "[Parallel(n_jobs=1)]: Done   1 out of   1 | elapsed:    0.0s remaining:    0.0s\n",
      "[Parallel(n_jobs=1)]: Done  15 out of  15 | elapsed:    0.3s finished\n",
      "\n",
      "[2021-05-22 10:22:04] Features: 18/32 -- score: 0.7211074030155452[Parallel(n_jobs=1)]: Using backend SequentialBackend with 1 concurrent workers.\n",
      "[Parallel(n_jobs=1)]: Done   1 out of   1 | elapsed:    0.0s remaining:    0.0s\n",
      "[Parallel(n_jobs=1)]: Done  14 out of  14 | elapsed:    0.2s finished\n",
      "\n",
      "[2021-05-22 10:22:04] Features: 19/32 -- score: 0.7211927212100988[Parallel(n_jobs=1)]: Using backend SequentialBackend with 1 concurrent workers.\n",
      "[Parallel(n_jobs=1)]: Done   1 out of   1 | elapsed:    0.0s remaining:    0.0s\n",
      "[Parallel(n_jobs=1)]: Done  13 out of  13 | elapsed:    0.3s finished\n",
      "\n",
      "[2021-05-22 10:22:04] Features: 20/32 -- score: 0.7212022906793182[Parallel(n_jobs=1)]: Using backend SequentialBackend with 1 concurrent workers.\n",
      "[Parallel(n_jobs=1)]: Done   1 out of   1 | elapsed:    0.0s remaining:    0.0s\n",
      "[Parallel(n_jobs=1)]: Done  12 out of  12 | elapsed:    0.3s finished\n",
      "\n",
      "[2021-05-22 10:22:05] Features: 21/32 -- score: 0.721236544854221[Parallel(n_jobs=1)]: Using backend SequentialBackend with 1 concurrent workers.\n",
      "[Parallel(n_jobs=1)]: Done   1 out of   1 | elapsed:    0.0s remaining:    0.0s\n",
      "[Parallel(n_jobs=1)]: Done  11 out of  11 | elapsed:    0.2s finished\n",
      "\n",
      "[2021-05-22 10:22:05] Features: 22/32 -- score: 0.7212754426904715[Parallel(n_jobs=1)]: Using backend SequentialBackend with 1 concurrent workers.\n",
      "[Parallel(n_jobs=1)]: Done   1 out of   1 | elapsed:    0.0s remaining:    0.0s\n",
      "[Parallel(n_jobs=1)]: Done  10 out of  10 | elapsed:    0.2s finished\n",
      "\n",
      "[2021-05-22 10:22:05] Features: 23/32 -- score: 0.7212300244278111[Parallel(n_jobs=1)]: Using backend SequentialBackend with 1 concurrent workers.\n",
      "[Parallel(n_jobs=1)]: Done   1 out of   1 | elapsed:    0.0s remaining:    0.0s\n",
      "[Parallel(n_jobs=1)]: Done   9 out of   9 | elapsed:    0.2s finished\n",
      "\n",
      "[2021-05-22 10:22:06] Features: 24/32 -- score: 0.7212601142421458[Parallel(n_jobs=1)]: Using backend SequentialBackend with 1 concurrent workers.\n",
      "[Parallel(n_jobs=1)]: Done   1 out of   1 | elapsed:    0.0s remaining:    0.0s\n",
      "[Parallel(n_jobs=1)]: Done   8 out of   8 | elapsed:    0.2s finished\n",
      "\n",
      "[2021-05-22 10:22:06] Features: 25/32 -- score: 0.7212161659535095[Parallel(n_jobs=1)]: Using backend SequentialBackend with 1 concurrent workers.\n",
      "[Parallel(n_jobs=1)]: Done   1 out of   1 | elapsed:    0.0s remaining:    0.0s\n",
      "[Parallel(n_jobs=1)]: Done   7 out of   7 | elapsed:    0.2s finished\n",
      "\n",
      "[2021-05-22 10:22:06] Features: 26/32 -- score: 0.7212072117536981[Parallel(n_jobs=1)]: Using backend SequentialBackend with 1 concurrent workers.\n",
      "[Parallel(n_jobs=1)]: Done   1 out of   1 | elapsed:    0.0s remaining:    0.0s\n",
      "[Parallel(n_jobs=1)]: Done   6 out of   6 | elapsed:    0.1s finished\n",
      "\n",
      "[2021-05-22 10:22:06] Features: 27/32 -- score: 0.7211897865572718[Parallel(n_jobs=1)]: Using backend SequentialBackend with 1 concurrent workers.\n",
      "[Parallel(n_jobs=1)]: Done   1 out of   1 | elapsed:    0.0s remaining:    0.0s\n"
     ]
    },
    {
     "name": "stderr",
     "output_type": "stream",
     "text": [
      "[Parallel(n_jobs=1)]: Done   5 out of   5 | elapsed:    0.1s finished\n",
      "\n",
      "[2021-05-22 10:22:07] Features: 28/32 -- score: 0.7211620939353482[Parallel(n_jobs=1)]: Using backend SequentialBackend with 1 concurrent workers.\n",
      "[Parallel(n_jobs=1)]: Done   1 out of   1 | elapsed:    0.0s remaining:    0.0s\n",
      "[Parallel(n_jobs=1)]: Done   4 out of   4 | elapsed:    0.1s finished\n",
      "\n",
      "[2021-05-22 10:22:07] Features: 29/32 -- score: 0.7211547588158151[Parallel(n_jobs=1)]: Using backend SequentialBackend with 1 concurrent workers.\n",
      "[Parallel(n_jobs=1)]: Done   1 out of   1 | elapsed:    0.0s remaining:    0.0s\n",
      "[Parallel(n_jobs=1)]: Done   3 out of   3 | elapsed:    0.0s finished\n",
      "\n",
      "[2021-05-22 10:22:07] Features: 30/32 -- score: 0.7211218783624197[Parallel(n_jobs=1)]: Using backend SequentialBackend with 1 concurrent workers.\n",
      "[Parallel(n_jobs=1)]: Done   1 out of   1 | elapsed:    0.0s remaining:    0.0s\n",
      "[Parallel(n_jobs=1)]: Done   2 out of   2 | elapsed:    0.0s finished\n",
      "\n",
      "[2021-05-22 10:22:07] Features: 31/32 -- score: 0.7211047854158673[Parallel(n_jobs=1)]: Using backend SequentialBackend with 1 concurrent workers.\n",
      "[Parallel(n_jobs=1)]: Done   1 out of   1 | elapsed:    0.0s remaining:    0.0s\n",
      "[Parallel(n_jobs=1)]: Done   1 out of   1 | elapsed:    0.0s finished\n",
      "\n",
      "[2021-05-22 10:22:07] Features: 32/32 -- score: 0.7210762889488348"
     ]
    }
   ],
   "source": [
    "# initiate linear regression model to use in feature selection\n",
    "model_fwd = LinearRegression()\n",
    "\n",
    "# build step forward selection\n",
    "# pass the regression model to 'estimator'\n",
    "# pass number of required feartures to 'k_features'. 'best' means that a best possible subset will be selected  \n",
    "# 'forward=True' performs forward selection method\n",
    "# 'verbose=1' returns the number of features at the corresponding step\n",
    "# 'verbose=2' returns the R-squared scores and the number of features at the corresponding step\n",
    "# 'scoring=r2' considers R-squared score to select the feature\n",
    "model_forward = sfs(estimator = model_fwd, k_features = 'best', forward = True,\n",
    "                     verbose = 2, scoring = 'r2')\n",
    "\n",
    "# fit the step forward selection on training data using fit()\n",
    "sfs_forward = model_forward.fit(X_train, y_train)"
   ]
  },
  {
   "cell_type": "code",
   "execution_count": 390,
   "metadata": {},
   "outputs": [
    {
     "name": "stdout",
     "output_type": "stream",
     "text": [
      "Features selelected using forward selection are: \n",
      "('Total_Stops', 'Dep_Hour', 'Arrival_Minute', 'Journey_Month', 'Journey_Date', 'Duration_mins', 'Airline_Air Asia', 'Airline_Air India', 'Airline_GoAir', 'Airline_IndiGo', 'Airline_Jet Airways', 'Airline_Jet Airways Business', 'Airline_Multiple carriers', 'Airline_Multiple carriers Premium economy', 'Airline_SpiceJet', 'Source_Banglore', 'Source_Chennai', 'Source_Delhi', 'Source_Mumbai', 'Destination_Cochin', 'Destination_Delhi', 'Destination_New Delhi')\n",
      "22\n",
      "\n",
      "R-Squared:  0.7212754426904715\n"
     ]
    }
   ],
   "source": [
    "print('Features selelected using forward selection are: ')\n",
    "print(sfs_forward.k_feature_names_)\n",
    "print(len(sfs_forward.k_feature_names_))\n",
    "\n",
    "# print the R-squared value\n",
    "print('\\nR-Squared: ', sfs_forward.k_score_)"
   ]
  },
  {
   "cell_type": "code",
   "execution_count": 391,
   "metadata": {},
   "outputs": [],
   "source": [
    "fwd_model_r2 = sfs_forward.k_score_\n",
    "fwd_model_Adj_r2 = 1 - (1-fwd_model_r2)*(len(y_test)-1)/(len(y_test)- X_test.shape[1]-1)\n",
    "#fwd_model_mse = mean_squared_error(y_test,RFE_model.predict(RFE_X_train))\n",
    "#fwd_model_mae = mean_absolute_error(y_train,RFE_model.predict(RFE_X_train))\n",
    "#fwd_model_rmse = np.sqrt(fwd_model_mse)"
   ]
  },
  {
   "cell_type": "code",
   "execution_count": 392,
   "metadata": {},
   "outputs": [
    {
     "data": {
      "text/html": [
       "<div>\n",
       "<style scoped>\n",
       "    .dataframe tbody tr th:only-of-type {\n",
       "        vertical-align: middle;\n",
       "    }\n",
       "\n",
       "    .dataframe tbody tr th {\n",
       "        vertical-align: top;\n",
       "    }\n",
       "\n",
       "    .dataframe thead th {\n",
       "        text-align: right;\n",
       "    }\n",
       "</style>\n",
       "<table border=\"1\" class=\"dataframe\">\n",
       "  <thead>\n",
       "    <tr style=\"text-align: right;\">\n",
       "      <th></th>\n",
       "      <th>Model_Name</th>\n",
       "      <th>R-squared</th>\n",
       "      <th>Adj. R-squared</th>\n",
       "      <th>MSE</th>\n",
       "      <th>RMSE</th>\n",
       "      <th>MAE</th>\n",
       "      <th>MAPE</th>\n",
       "    </tr>\n",
       "  </thead>\n",
       "  <tbody>\n",
       "    <tr>\n",
       "      <th>0</th>\n",
       "      <td>MLR Base Model</td>\n",
       "      <td>0.723102</td>\n",
       "      <td>0.722061</td>\n",
       "      <td>0.072086</td>\n",
       "      <td>0.268488</td>\n",
       "      <td>0.204462</td>\n",
       "      <td>2.271043</td>\n",
       "    </tr>\n",
       "    <tr>\n",
       "      <th>1</th>\n",
       "      <td>MLR with Significant variables</td>\n",
       "      <td>0.722970</td>\n",
       "      <td>0.722124</td>\n",
       "      <td>0.072120</td>\n",
       "      <td>0.204511</td>\n",
       "      <td>0.268552</td>\n",
       "      <td>2.271311</td>\n",
       "    </tr>\n",
       "    <tr>\n",
       "      <th>2</th>\n",
       "      <td>MLR with PCA Technique</td>\n",
       "      <td>0.722872</td>\n",
       "      <td>0.722092</td>\n",
       "      <td>0.072948</td>\n",
       "      <td>0.205053</td>\n",
       "      <td>0.270088</td>\n",
       "      <td>2.277220</td>\n",
       "    </tr>\n",
       "    <tr>\n",
       "      <th>3</th>\n",
       "      <td>RFE Model</td>\n",
       "      <td>0.635398</td>\n",
       "      <td>0.634027</td>\n",
       "      <td>0.095974</td>\n",
       "      <td>0.233257</td>\n",
       "      <td>0.309796</td>\n",
       "      <td>2.598350</td>\n",
       "    </tr>\n",
       "    <tr>\n",
       "      <th>4</th>\n",
       "      <td>Forward</td>\n",
       "      <td>0.721275</td>\n",
       "      <td>0.717036</td>\n",
       "      <td>nan</td>\n",
       "      <td>nan</td>\n",
       "      <td>nan</td>\n",
       "      <td>nan</td>\n",
       "    </tr>\n",
       "  </tbody>\n",
       "</table>\n",
       "</div>"
      ],
      "text/plain": [
       "                       Model_Name  R-squared  Adj. R-squared      MSE  \\\n",
       "0                  MLR Base Model   0.723102        0.722061 0.072086   \n",
       "1  MLR with Significant variables   0.722970        0.722124 0.072120   \n",
       "2          MLR with PCA Technique   0.722872        0.722092 0.072948   \n",
       "3                       RFE Model   0.635398        0.634027 0.095974   \n",
       "4                         Forward   0.721275        0.717036      nan   \n",
       "\n",
       "      RMSE      MAE     MAPE  \n",
       "0 0.268488 0.204462 2.271043  \n",
       "1 0.204511 0.268552 2.271311  \n",
       "2 0.205053 0.270088 2.277220  \n",
       "3 0.233257 0.309796 2.598350  \n",
       "4      nan      nan      nan  "
      ]
     },
     "execution_count": 392,
     "metadata": {},
     "output_type": "execute_result"
    }
   ],
   "source": [
    "Forward_model_metrics = pd.Series({'Model_Name': \"Forward\",\n",
    "                     'R-squared': fwd_model_r2,\n",
    "                     'Adj. R-squared': fwd_model_Adj_r2\n",
    "                   })\n",
    "\n",
    "# append the values to the result table\n",
    "result_table = result_table.append(Forward_model_metrics, ignore_index = True)\n",
    "\n",
    "# print the result table\n",
    "result_table"
   ]
  },
  {
   "cell_type": "markdown",
   "metadata": {},
   "source": [
    "<a id=\"bwd\"></a>\n",
    "### 5.6 MLR Model with Backward selection Technique"
   ]
  },
  {
   "cell_type": "code",
   "execution_count": 393,
   "metadata": {},
   "outputs": [
    {
     "name": "stderr",
     "output_type": "stream",
     "text": [
      "[Parallel(n_jobs=1)]: Using backend SequentialBackend with 1 concurrent workers.\n",
      "[Parallel(n_jobs=1)]: Done   1 out of   1 | elapsed:    0.0s remaining:    0.0s\n",
      "[Parallel(n_jobs=1)]: Done  32 out of  32 | elapsed:    1.2s finished\n",
      "\n",
      "[2021-05-22 10:22:08] Features: 31/1 -- score: 0.7211914508111587[Parallel(n_jobs=1)]: Using backend SequentialBackend with 1 concurrent workers.\n",
      "[Parallel(n_jobs=1)]: Done   1 out of   1 | elapsed:    0.0s remaining:    0.0s\n",
      "[Parallel(n_jobs=1)]: Done  31 out of  31 | elapsed:    1.0s finished\n",
      "\n",
      "[2021-05-22 10:22:09] Features: 30/1 -- score: 0.7211980139078552[Parallel(n_jobs=1)]: Using backend SequentialBackend with 1 concurrent workers.\n",
      "[Parallel(n_jobs=1)]: Done   1 out of   1 | elapsed:    0.0s remaining:    0.0s\n",
      "[Parallel(n_jobs=1)]: Done  30 out of  30 | elapsed:    0.9s finished\n",
      "\n",
      "[2021-05-22 10:22:10] Features: 29/1 -- score: 0.7212354820150013[Parallel(n_jobs=1)]: Using backend SequentialBackend with 1 concurrent workers.\n",
      "[Parallel(n_jobs=1)]: Done   1 out of   1 | elapsed:    0.0s remaining:    0.0s\n",
      "[Parallel(n_jobs=1)]: Done  29 out of  29 | elapsed:    0.9s finished\n",
      "\n",
      "[2021-05-22 10:22:11] Features: 28/1 -- score: 0.7212490364520293[Parallel(n_jobs=1)]: Using backend SequentialBackend with 1 concurrent workers.\n",
      "[Parallel(n_jobs=1)]: Done   1 out of   1 | elapsed:    0.0s remaining:    0.0s\n",
      "[Parallel(n_jobs=1)]: Done  28 out of  28 | elapsed:    0.8s finished\n",
      "\n",
      "[2021-05-22 10:22:12] Features: 27/1 -- score: 0.7212354324152048[Parallel(n_jobs=1)]: Using backend SequentialBackend with 1 concurrent workers.\n",
      "[Parallel(n_jobs=1)]: Done   1 out of   1 | elapsed:    0.0s remaining:    0.0s\n",
      "[Parallel(n_jobs=1)]: Done  27 out of  27 | elapsed:    0.8s finished\n",
      "\n",
      "[2021-05-22 10:22:13] Features: 26/1 -- score: 0.7212366398047158[Parallel(n_jobs=1)]: Using backend SequentialBackend with 1 concurrent workers.\n",
      "[Parallel(n_jobs=1)]: Done   1 out of   1 | elapsed:    0.0s remaining:    0.0s\n",
      "[Parallel(n_jobs=1)]: Done  26 out of  26 | elapsed:    0.8s finished\n",
      "\n",
      "[2021-05-22 10:22:14] Features: 25/1 -- score: 0.7212428713933677[Parallel(n_jobs=1)]: Using backend SequentialBackend with 1 concurrent workers.\n",
      "[Parallel(n_jobs=1)]: Done   1 out of   1 | elapsed:    0.0s remaining:    0.0s\n",
      "[Parallel(n_jobs=1)]: Done  25 out of  25 | elapsed:    0.7s finished\n",
      "\n",
      "[2021-05-22 10:22:15] Features: 24/1 -- score: 0.7212565112802549[Parallel(n_jobs=1)]: Using backend SequentialBackend with 1 concurrent workers.\n",
      "[Parallel(n_jobs=1)]: Done   1 out of   1 | elapsed:    0.0s remaining:    0.0s\n",
      "[Parallel(n_jobs=1)]: Done  24 out of  24 | elapsed:    0.8s finished\n",
      "\n",
      "[2021-05-22 10:22:16] Features: 23/1 -- score: 0.7212651563582103[Parallel(n_jobs=1)]: Using backend SequentialBackend with 1 concurrent workers.\n",
      "[Parallel(n_jobs=1)]: Done   1 out of   1 | elapsed:    0.0s remaining:    0.0s\n",
      "[Parallel(n_jobs=1)]: Done  23 out of  23 | elapsed:    0.5s finished\n",
      "\n",
      "[2021-05-22 10:22:16] Features: 22/1 -- score: 0.7212516617457213[Parallel(n_jobs=1)]: Using backend SequentialBackend with 1 concurrent workers.\n",
      "[Parallel(n_jobs=1)]: Done   1 out of   1 | elapsed:    0.0s remaining:    0.0s\n",
      "[Parallel(n_jobs=1)]: Done  22 out of  22 | elapsed:    0.6s finished\n",
      "\n",
      "[2021-05-22 10:22:17] Features: 21/1 -- score: 0.7212617922110439[Parallel(n_jobs=1)]: Using backend SequentialBackend with 1 concurrent workers.\n",
      "[Parallel(n_jobs=1)]: Done   1 out of   1 | elapsed:    0.0s remaining:    0.0s\n",
      "[Parallel(n_jobs=1)]: Done  21 out of  21 | elapsed:    0.5s finished\n",
      "\n",
      "[2021-05-22 10:22:18] Features: 20/1 -- score: 0.7212396686696103[Parallel(n_jobs=1)]: Using backend SequentialBackend with 1 concurrent workers.\n",
      "[Parallel(n_jobs=1)]: Done   1 out of   1 | elapsed:    0.0s remaining:    0.0s\n",
      "[Parallel(n_jobs=1)]: Done  20 out of  20 | elapsed:    0.5s finished\n",
      "\n",
      "[2021-05-22 10:22:18] Features: 19/1 -- score: 0.721148736755117[Parallel(n_jobs=1)]: Using backend SequentialBackend with 1 concurrent workers.\n",
      "[Parallel(n_jobs=1)]: Done   1 out of   1 | elapsed:    0.0s remaining:    0.0s\n",
      "[Parallel(n_jobs=1)]: Done  19 out of  19 | elapsed:    0.2s finished\n",
      "\n",
      "[2021-05-22 10:22:19] Features: 18/1 -- score: 0.7210748368320209[Parallel(n_jobs=1)]: Using backend SequentialBackend with 1 concurrent workers.\n",
      "[Parallel(n_jobs=1)]: Done   1 out of   1 | elapsed:    0.0s remaining:    0.0s\n",
      "[Parallel(n_jobs=1)]: Done  18 out of  18 | elapsed:    0.4s finished\n",
      "\n",
      "[2021-05-22 10:22:19] Features: 17/1 -- score: 0.7208133730804108[Parallel(n_jobs=1)]: Using backend SequentialBackend with 1 concurrent workers.\n",
      "[Parallel(n_jobs=1)]: Done   1 out of   1 | elapsed:    0.0s remaining:    0.0s\n",
      "[Parallel(n_jobs=1)]: Done  17 out of  17 | elapsed:    0.3s finished\n",
      "\n",
      "[2021-05-22 10:22:20] Features: 16/1 -- score: 0.7200270231457319[Parallel(n_jobs=1)]: Using backend SequentialBackend with 1 concurrent workers.\n",
      "[Parallel(n_jobs=1)]: Done   1 out of   1 | elapsed:    0.0s remaining:    0.0s\n",
      "[Parallel(n_jobs=1)]: Done  16 out of  16 | elapsed:    0.3s finished\n",
      "\n",
      "[2021-05-22 10:22:20] Features: 15/1 -- score: 0.7192094411802149[Parallel(n_jobs=1)]: Using backend SequentialBackend with 1 concurrent workers.\n",
      "[Parallel(n_jobs=1)]: Done   1 out of   1 | elapsed:    0.0s remaining:    0.0s\n",
      "[Parallel(n_jobs=1)]: Done  15 out of  15 | elapsed:    0.2s finished\n",
      "\n",
      "[2021-05-22 10:22:20] Features: 14/1 -- score: 0.7186639952130877[Parallel(n_jobs=1)]: Using backend SequentialBackend with 1 concurrent workers.\n",
      "[Parallel(n_jobs=1)]: Done   1 out of   1 | elapsed:    0.0s remaining:    0.0s\n",
      "[Parallel(n_jobs=1)]: Done  14 out of  14 | elapsed:    0.2s finished\n",
      "\n",
      "[2021-05-22 10:22:21] Features: 13/1 -- score: 0.7169035522272488[Parallel(n_jobs=1)]: Using backend SequentialBackend with 1 concurrent workers.\n",
      "[Parallel(n_jobs=1)]: Done   1 out of   1 | elapsed:    0.0s remaining:    0.0s\n",
      "[Parallel(n_jobs=1)]: Done  13 out of  13 | elapsed:    0.2s finished\n",
      "\n",
      "[2021-05-22 10:22:21] Features: 12/1 -- score: 0.7133322591519494[Parallel(n_jobs=1)]: Using backend SequentialBackend with 1 concurrent workers.\n",
      "[Parallel(n_jobs=1)]: Done   1 out of   1 | elapsed:    0.0s remaining:    0.0s\n",
      "[Parallel(n_jobs=1)]: Done  12 out of  12 | elapsed:    0.2s finished\n",
      "\n",
      "[2021-05-22 10:22:21] Features: 11/1 -- score: 0.7059032070558756[Parallel(n_jobs=1)]: Using backend SequentialBackend with 1 concurrent workers.\n",
      "[Parallel(n_jobs=1)]: Done   1 out of   1 | elapsed:    0.0s remaining:    0.0s\n",
      "[Parallel(n_jobs=1)]: Done  11 out of  11 | elapsed:    0.1s finished\n",
      "\n",
      "[2021-05-22 10:22:21] Features: 10/1 -- score: 0.7011971102276126[Parallel(n_jobs=1)]: Using backend SequentialBackend with 1 concurrent workers.\n",
      "[Parallel(n_jobs=1)]: Done   1 out of   1 | elapsed:    0.0s remaining:    0.0s\n",
      "[Parallel(n_jobs=1)]: Done  10 out of  10 | elapsed:    0.1s finished\n",
      "\n",
      "[2021-05-22 10:22:22] Features: 9/1 -- score: 0.6932458638614699[Parallel(n_jobs=1)]: Using backend SequentialBackend with 1 concurrent workers.\n",
      "[Parallel(n_jobs=1)]: Done   1 out of   1 | elapsed:    0.0s remaining:    0.0s\n",
      "[Parallel(n_jobs=1)]: Done   9 out of   9 | elapsed:    0.1s finished\n",
      "\n",
      "[2021-05-22 10:22:22] Features: 8/1 -- score: 0.6804568163468657[Parallel(n_jobs=1)]: Using backend SequentialBackend with 1 concurrent workers.\n",
      "[Parallel(n_jobs=1)]: Done   1 out of   1 | elapsed:    0.0s remaining:    0.0s\n",
      "[Parallel(n_jobs=1)]: Done   8 out of   8 | elapsed:    0.0s finished\n",
      "\n",
      "[2021-05-22 10:22:22] Features: 7/1 -- score: 0.6645825192449744[Parallel(n_jobs=1)]: Using backend SequentialBackend with 1 concurrent workers.\n",
      "[Parallel(n_jobs=1)]: Done   1 out of   1 | elapsed:    0.0s remaining:    0.0s\n",
      "[Parallel(n_jobs=1)]: Done   7 out of   7 | elapsed:    0.0s finished\n",
      "\n",
      "[2021-05-22 10:22:22] Features: 6/1 -- score: 0.651876105741955[Parallel(n_jobs=1)]: Using backend SequentialBackend with 1 concurrent workers.\n",
      "[Parallel(n_jobs=1)]: Done   1 out of   1 | elapsed:    0.0s remaining:    0.0s\n",
      "[Parallel(n_jobs=1)]: Done   6 out of   6 | elapsed:    0.0s finished\n",
      "\n",
      "[2021-05-22 10:22:22] Features: 5/1 -- score: 0.6482566735779087[Parallel(n_jobs=1)]: Using backend SequentialBackend with 1 concurrent workers.\n",
      "[Parallel(n_jobs=1)]: Done   1 out of   1 | elapsed:    0.0s remaining:    0.0s\n",
      "[Parallel(n_jobs=1)]: Done   5 out of   5 | elapsed:    0.0s finished\n",
      "\n",
      "[2021-05-22 10:22:22] Features: 4/1 -- score: 0.6366712667092432[Parallel(n_jobs=1)]: Using backend SequentialBackend with 1 concurrent workers.\n",
      "[Parallel(n_jobs=1)]: Done   1 out of   1 | elapsed:    0.0s remaining:    0.0s\n",
      "[Parallel(n_jobs=1)]: Done   4 out of   4 | elapsed:    0.0s finished\n"
     ]
    },
    {
     "name": "stderr",
     "output_type": "stream",
     "text": [
      "\n",
      "[2021-05-22 10:22:22] Features: 3/1 -- score: 0.6094161422830261[Parallel(n_jobs=1)]: Using backend SequentialBackend with 1 concurrent workers.\n",
      "[Parallel(n_jobs=1)]: Done   1 out of   1 | elapsed:    0.0s remaining:    0.0s\n",
      "[Parallel(n_jobs=1)]: Done   3 out of   3 | elapsed:    0.0s finished\n",
      "\n",
      "[2021-05-22 10:22:22] Features: 2/1 -- score: 0.5719940085976026[Parallel(n_jobs=1)]: Using backend SequentialBackend with 1 concurrent workers.\n",
      "[Parallel(n_jobs=1)]: Done   1 out of   1 | elapsed:    0.0s remaining:    0.0s\n",
      "[Parallel(n_jobs=1)]: Done   2 out of   2 | elapsed:    0.0s finished\n",
      "\n",
      "[2021-05-22 10:22:22] Features: 1/1 -- score: 0.48224465497840807"
     ]
    }
   ],
   "source": [
    "# initiate linear regression model to use in feature selection\n",
    "linreg = LinearRegression()\n",
    "\n",
    "# build backward feature selection\n",
    "# pass the regression model to 'estimator'\n",
    "# pass number of required feartures to 'k_features'\n",
    "# 'forward=False' performs backward selection method\n",
    "# 'verbose=1' returns the number of features at the corresponding step\n",
    "# 'verbose=2' returns the R-squared scores and the number of features at the corresponding step\n",
    "# 'scoring=r2' considers R-squared score to select the feature\n",
    "linreg_backward = sfs(estimator = linreg, k_features = 'best', forward = False,\n",
    "                     verbose = 2, scoring = 'r2')\n",
    "\n",
    "# fit the backward elimination on training data using fit()\n",
    "sfs_backward = linreg_backward.fit(X_train, y_train)"
   ]
  },
  {
   "cell_type": "code",
   "execution_count": 394,
   "metadata": {},
   "outputs": [
    {
     "name": "stdout",
     "output_type": "stream",
     "text": [
      "Features selelected using backward elimination are: \n",
      "('Total_Stops', 'Dep_Hour', 'Arrival_Minute', 'Journey_Month', 'Journey_Date', 'Duration_mins', 'Airline_Air Asia', 'Airline_Air India', 'Airline_GoAir', 'Airline_IndiGo', 'Airline_Jet Airways', 'Airline_Jet Airways Business', 'Airline_Multiple carriers', 'Airline_Multiple carriers Premium economy', 'Airline_Vistara', 'Airline_Vistara Premium economy', 'Source_Banglore', 'Source_Delhi', 'Source_Kolkata', 'Destination_Cochin', 'Destination_Delhi', 'Destination_Kolkata', 'Destination_New Delhi')\n",
      "23\n",
      "\n",
      "R-Squared:  0.7212651563582103\n"
     ]
    }
   ],
   "source": [
    "# print the selected feature names when k_features = 12\n",
    "print('Features selelected using backward elimination are: ')\n",
    "print(sfs_backward.k_feature_names_)\n",
    "print(len(sfs_backward.k_feature_names_))\n",
    "# print the R-squared value\n",
    "print('\\nR-Squared: ', sfs_backward.k_score_)"
   ]
  },
  {
   "cell_type": "code",
   "execution_count": 395,
   "metadata": {},
   "outputs": [],
   "source": [
    "bwd_model_r2 = sfs_backward.k_score_\n",
    "bwd_model_Adj_r2 = 1 - (1-bwd_model_r2)*(len(y_test)-1)/(len(y_test)- X_test.shape[1]-1)"
   ]
  },
  {
   "cell_type": "code",
   "execution_count": 396,
   "metadata": {},
   "outputs": [
    {
     "data": {
      "text/html": [
       "<div>\n",
       "<style scoped>\n",
       "    .dataframe tbody tr th:only-of-type {\n",
       "        vertical-align: middle;\n",
       "    }\n",
       "\n",
       "    .dataframe tbody tr th {\n",
       "        vertical-align: top;\n",
       "    }\n",
       "\n",
       "    .dataframe thead th {\n",
       "        text-align: right;\n",
       "    }\n",
       "</style>\n",
       "<table border=\"1\" class=\"dataframe\">\n",
       "  <thead>\n",
       "    <tr style=\"text-align: right;\">\n",
       "      <th></th>\n",
       "      <th>Model_Name</th>\n",
       "      <th>R-squared</th>\n",
       "      <th>Adj. R-squared</th>\n",
       "      <th>MSE</th>\n",
       "      <th>RMSE</th>\n",
       "      <th>MAE</th>\n",
       "      <th>MAPE</th>\n",
       "    </tr>\n",
       "  </thead>\n",
       "  <tbody>\n",
       "    <tr>\n",
       "      <th>0</th>\n",
       "      <td>MLR Base Model</td>\n",
       "      <td>0.723102</td>\n",
       "      <td>0.722061</td>\n",
       "      <td>0.072086</td>\n",
       "      <td>0.268488</td>\n",
       "      <td>0.204462</td>\n",
       "      <td>2.271043</td>\n",
       "    </tr>\n",
       "    <tr>\n",
       "      <th>1</th>\n",
       "      <td>MLR with Significant variables</td>\n",
       "      <td>0.722970</td>\n",
       "      <td>0.722124</td>\n",
       "      <td>0.072120</td>\n",
       "      <td>0.204511</td>\n",
       "      <td>0.268552</td>\n",
       "      <td>2.271311</td>\n",
       "    </tr>\n",
       "    <tr>\n",
       "      <th>2</th>\n",
       "      <td>MLR with PCA Technique</td>\n",
       "      <td>0.722872</td>\n",
       "      <td>0.722092</td>\n",
       "      <td>0.072948</td>\n",
       "      <td>0.205053</td>\n",
       "      <td>0.270088</td>\n",
       "      <td>2.277220</td>\n",
       "    </tr>\n",
       "    <tr>\n",
       "      <th>3</th>\n",
       "      <td>RFE Model</td>\n",
       "      <td>0.635398</td>\n",
       "      <td>0.634027</td>\n",
       "      <td>0.095974</td>\n",
       "      <td>0.233257</td>\n",
       "      <td>0.309796</td>\n",
       "      <td>2.598350</td>\n",
       "    </tr>\n",
       "    <tr>\n",
       "      <th>4</th>\n",
       "      <td>Forward</td>\n",
       "      <td>0.721275</td>\n",
       "      <td>0.717036</td>\n",
       "      <td>nan</td>\n",
       "      <td>nan</td>\n",
       "      <td>nan</td>\n",
       "      <td>nan</td>\n",
       "    </tr>\n",
       "    <tr>\n",
       "      <th>5</th>\n",
       "      <td>Backward</td>\n",
       "      <td>0.721265</td>\n",
       "      <td>0.717026</td>\n",
       "      <td>nan</td>\n",
       "      <td>nan</td>\n",
       "      <td>nan</td>\n",
       "      <td>nan</td>\n",
       "    </tr>\n",
       "  </tbody>\n",
       "</table>\n",
       "</div>"
      ],
      "text/plain": [
       "                       Model_Name  R-squared  Adj. R-squared      MSE  \\\n",
       "0                  MLR Base Model   0.723102        0.722061 0.072086   \n",
       "1  MLR with Significant variables   0.722970        0.722124 0.072120   \n",
       "2          MLR with PCA Technique   0.722872        0.722092 0.072948   \n",
       "3                       RFE Model   0.635398        0.634027 0.095974   \n",
       "4                         Forward   0.721275        0.717036      nan   \n",
       "5                        Backward   0.721265        0.717026      nan   \n",
       "\n",
       "      RMSE      MAE     MAPE  \n",
       "0 0.268488 0.204462 2.271043  \n",
       "1 0.204511 0.268552 2.271311  \n",
       "2 0.205053 0.270088 2.277220  \n",
       "3 0.233257 0.309796 2.598350  \n",
       "4      nan      nan      nan  \n",
       "5      nan      nan      nan  "
      ]
     },
     "execution_count": 396,
     "metadata": {},
     "output_type": "execute_result"
    }
   ],
   "source": [
    "Backward_model_metrics = pd.Series({'Model_Name': \"Backward\",\n",
    "                     'R-squared': bwd_model_r2,\n",
    "                     'Adj. R-squared': bwd_model_Adj_r2\n",
    "                   })\n",
    "\n",
    "# append the values to the result table\n",
    "result_table = result_table.append(Backward_model_metrics, ignore_index = True)\n",
    "\n",
    "# print the result table\n",
    "result_table"
   ]
  },
  {
   "cell_type": "markdown",
   "metadata": {},
   "source": [
    "Interpretation : We can conclude from the above table that the model built considering Significant variables perfoms better compared to all other models.\n",
    "\n",
    "Lets go ahead and check if the assumptions of LR are met considring this model"
   ]
  },
  {
   "cell_type": "markdown",
   "metadata": {},
   "source": [
    "<a id=\"assum\"></a>\n",
    "## 6. Assumptions After MLR Model"
   ]
  },
  {
   "cell_type": "markdown",
   "metadata": {},
   "source": [
    "Now, we use the model with significant variabels to check some of the assumptions based on the residuals of linear regression:\n",
    "1. Linear Relationship Between Dependent and Independent Variable\n",
    "2. Autocorrelation\n",
    "3. Heteroscedasticity\n",
    "4. Tests of Normality "
   ]
  },
  {
   "cell_type": "markdown",
   "metadata": {},
   "source": [
    "<a id=\"linear_reln\"></a>\n",
    "### 6.1 Linear Relationship between Dependent and Independent Variable"
   ]
  },
  {
   "cell_type": "markdown",
   "metadata": {},
   "source": [
    "An assumption of linear regression is that it should be linear in the parameter. To check the linearity we plot a graph of residuals and each independent variable. If the plot shows no specific pattern then we can conclude the presence of linearity."
   ]
  },
  {
   "cell_type": "code",
   "execution_count": 397,
   "metadata": {},
   "outputs": [
    {
     "data": {
      "image/png": "[encoded data removed]",
      "text/plain": [
       "<Figure size 1440x1080 with 4 Axes>"
      ]
     },
     "metadata": {
      "needs_background": "light"
     },
     "output_type": "display_data"
    }
   ],
   "source": [
    "# create subplots of scatter plots\n",
    "# pass the number of rows in a subplot to 'nrows'\n",
    "# pass the number of columns in a subplot to 'ncolumns'\n",
    "# set plot size using 'figsize'\n",
    "fig, ax = plt.subplots(nrows = 2, ncols= 2, figsize=(20, 15))\n",
    "\n",
    "# use for loop to create scatter plot for residuals and each independent variable (do not consider the intercept)\n",
    "# 'ax' assigns axes object to draw the plot onto \n",
    "for variable, subplot in zip(X_train_signi_var.columns[1:5], ax.flatten()):\n",
    "    sns.scatterplot(X_train_signi_var[variable],MLR_model_with_significant_var.resid , ax=subplot)\n",
    "\n",
    "# display the plot\n",
    "plt.show()"
   ]
  },
  {
   "cell_type": "markdown",
   "metadata": {},
   "source": [
    "**Interpretation:** The above plots show no specific pattern, implies that there is a linearity present in the data."
   ]
  },
  {
   "cell_type": "markdown",
   "metadata": {},
   "source": [
    "<a id=\"auto\"></a>\n",
    "### 6.2 Autocorrelation"
   ]
  },
  {
   "cell_type": "markdown",
   "metadata": {},
   "source": [
    "We can check the correlation between the residuals using the `Durbin-Watson` test. The value of the test statistic ranges from 0 to 4. The test statistic value near to 2, represents no autocorrelation. The value of the test statistic between 0 and 2 implies positive autocorrelation and the value between 2 and 4 implies negative autocorrelation.\n",
    "\n",
    "Print the summary of the model with significant variables to check the autocorrelation."
   ]
  },
  {
   "cell_type": "code",
   "execution_count": 398,
   "metadata": {},
   "outputs": [
    {
     "name": "stdout",
     "output_type": "stream",
     "text": [
      "                            OLS Regression Results                            \n",
      "==============================================================================\n",
      "Dep. Variable:                  Price   R-squared:                       0.723\n",
      "Model:                            OLS   Adj. R-squared:                  0.722\n",
      "Method:                 Least Squares   F-statistic:                     1171.\n",
      "Date:                Sat, 22 May 2021   Prob (F-statistic):               0.00\n",
      "Time:                        10:22:23   Log-Likelihood:                -890.64\n",
      "No. Observations:                8545   AIC:                             1821.\n",
      "Df Residuals:                    8525   BIC:                             1962.\n",
      "Df Model:                          19                                         \n",
      "Covariance Type:            nonrobust                                         \n",
      "=============================================================================================================\n",
      "                                                coef    std err          t      P>|t|      [0.025      0.975]\n",
      "-------------------------------------------------------------------------------------------------------------\n",
      "const                                         6.1859      0.008    745.187      0.000       6.170       6.202\n",
      "Total_Stops                                   0.2020      0.004     45.161      0.000       0.193       0.211\n",
      "Arrival_Minute                                0.0063      0.003      2.086      0.037       0.000       0.012\n",
      "Journey_Month                                -0.0146      0.003     -4.749      0.000      -0.021      -0.009\n",
      "Journey_Date                                 -0.0613      0.003    -19.944      0.000      -0.067      -0.055\n",
      "Airline_Air Asia                              0.1088      0.020      5.353      0.000       0.069       0.149\n",
      "Airline_Air India                             0.3650      0.014     25.976      0.000       0.337       0.393\n",
      "Airline_GoAir                                 0.1274      0.025      5.197      0.000       0.079       0.176\n",
      "Airline_IndiGo                                0.1647      0.013     13.083      0.000       0.140       0.189\n",
      "Airline_Jet Airways                           0.6483      0.013     51.601      0.000       0.624       0.673\n",
      "Airline_Jet Airways Business                  2.1063      0.135     15.556      0.000       1.841       2.372\n",
      "Airline_Multiple carriers                     0.5658      0.015     37.501      0.000       0.536       0.595\n",
      "Airline_Multiple carriers Premium economy     0.7092      0.079      9.019      0.000       0.555       0.863\n",
      "Airline_Vistara                               0.4532      0.018     25.479      0.000       0.418       0.488\n",
      "Airline_Vistara Premium economy               0.6043      0.191      3.172      0.002       0.231       0.978\n",
      "Source_Banglore                               1.6141      0.005    330.161      0.000       1.604       1.624\n",
      "Source_Chennai                                1.1542      0.007    164.615      0.000       1.140       1.168\n",
      "Source_Delhi                                  1.2160      0.004    324.702      0.000       1.209       1.223\n",
      "Source_Kolkata                                1.2070      0.003    366.260      0.000       1.201       1.213\n",
      "Source_Mumbai                                 0.9947      0.006    178.991      0.000       0.984       1.006\n",
      "Destination_Banglore                          1.2070      0.003    366.260      0.000       1.201       1.213\n",
      "Destination_Cochin                            1.2160      0.004    324.702      0.000       1.209       1.223\n",
      "Destination_Delhi                             0.6287      0.007     86.328      0.000       0.614       0.643\n",
      "Destination_Hyderabad                         0.9947      0.006    178.991      0.000       0.984       1.006\n",
      "Destination_Kolkata                           1.1542      0.007    164.615      0.000       1.140       1.168\n",
      "Destination_New Delhi                         0.9854      0.008    130.942      0.000       0.971       1.000\n",
      "==============================================================================\n",
      "Omnibus:                      398.253   Durbin-Watson:                   2.042\n",
      "Prob(Omnibus):                  0.000   Jarque-Bera (JB):              937.675\n",
      "Skew:                           0.282   Prob(JB):                    2.43e-204\n",
      "Kurtosis:                       4.522   Cond. No.                     1.38e+16\n",
      "==============================================================================\n",
      "\n",
      "Notes:\n",
      "[1] Standard Errors assume that the covariance matrix of the errors is correctly specified.\n",
      "[2] The smallest eigenvalue is 8.53e-29. This might indicate that there are\n",
      "strong multicollinearity problems or that the design matrix is singular.\n"
     ]
    }
   ],
   "source": [
    "print(MLR_model_with_significant_var.summary())"
   ]
  },
  {
   "cell_type": "markdown",
   "metadata": {},
   "source": [
    "**Interpretation:** From the above summary, we can observe that the value obtained from the `Durbin-Watson` test statistic is close to 2 (= 2.042). Thus, we conclude that there is no autocorrelation."
   ]
  },
  {
   "cell_type": "markdown",
   "metadata": {},
   "source": [
    "<a id=\"sked\"></a>\n",
    "### 6.3 Heteroskedasticity"
   ]
  },
  {
   "cell_type": "markdown",
   "metadata": {},
   "source": [
    "If the residuals have constant variance across different values of the predicted values, then it is known as `Homoskedasticity`. The absence of homoskedasticity is known as, heteroskedasticity. One of the assumptions of linear regression is that heteroskedasticity should not be present. Let us study two different tests to check the presence of  heteroskedasticity."
   ]
  },
  {
   "cell_type": "markdown",
   "metadata": {},
   "source": [
    "Breusch-Pagan is one of the tests for detecting heteroskedasticity in the residuals.<br>\n",
    "The test hypothesis for the Breusch-Pagan test is given as:\n",
    "<p style='text-indent:25em'> <strong> H<sub>o</sub>:  There is homoscedasticity present in the data </strong> </p>\n",
    "<p style='text-indent:25em'> <strong> H<sub>1</sub>:  There is a heteroscedasticity present in the data </strong> </p>"
   ]
  },
  {
   "cell_type": "code",
   "execution_count": 406,
   "metadata": {},
   "outputs": [
    {
     "data": {
      "text/plain": [
       "[('f-value', 53.72064688879809), ('p-value', 1.5481764100042411e-192)]"
      ]
     },
     "execution_count": 406,
     "metadata": {},
     "output_type": "execute_result"
    }
   ],
   "source": [
    "# create vector of result parmeters\n",
    "name = ['f-value','p-value']\n",
    "\n",
    "# perform Breusch-Pagan test using residuals and independent variables\n",
    "# compute residuals using 'resid'\n",
    "# 'exog' returns the independent variables in the model alng with the intercept\n",
    "test = sms.het_breuschpagan(MLR_model_with_significant_var.resid, MLR_model_with_significant_var.model.exog)\n",
    "\n",
    "# print the output\n",
    "# use 'lzip' to zip the column names and test results\n",
    "# use 'test[2:]' to retrieve the F-statistic and its corresponding p-value \n",
    "lzip(name, test[2:])"
   ]
  },
  {
   "cell_type": "markdown",
   "metadata": {},
   "source": [
    "<a id=\"normality\"></a>\n",
    "### 6.4 Tests for Normality"
   ]
  },
  {
   "cell_type": "markdown",
   "metadata": {},
   "source": [
    "As per the assumptions of linear regression, residuals should be normally distributed. If the target variable is normally distributed then the residuals are also normally distributed, thus we check the normality only for the target variable."
   ]
  },
  {
   "cell_type": "markdown",
   "metadata": {},
   "source": [
    "<a id=\"qq\"></a>\n",
    "#### 1. Q-Q Plot"
   ]
  },
  {
   "cell_type": "markdown",
   "metadata": {},
   "source": [
    "Q-Q plot is s visualization technique to check the normality of the residuals. It plots the quantiles of observed data versus the quantiles of the standard normal distribution."
   ]
  },
  {
   "cell_type": "code",
   "execution_count": 400,
   "metadata": {},
   "outputs": [
    {
     "data": {
      "image/png": "[encoded data removed]",
      "text/plain": [
       "<Figure size 1080x576 with 1 Axes>"
      ]
     },
     "metadata": {
      "needs_background": "light"
     },
     "output_type": "display_data"
    }
   ],
   "source": [
    "# set the plot size using 'rcParams'\n",
    "# once the plot size is set using 'rcParams', it sets the size of all the forthcoming plots in the file\n",
    "# pass width and height in inches to 'figure.figsize' \n",
    "plt.rcParams['figure.figsize'] = [15,8]\n",
    "\n",
    "# plot the Q-Q plot\n",
    "# 'r' represents the regression line\n",
    "qqplot(MLR_model_with_significant_var.resid, line = 'r')\n",
    "\n",
    "# set plot and axes labels\n",
    "# set text size using 'fontsize'\n",
    "plt.title('Q-Q Plot', fontsize = 15)\n",
    "plt.xlabel('Theoretical Quantiles', fontsize = 15)\n",
    "plt.ylabel('Sample Quantiles', fontsize = 15)\n",
    "\n",
    "# display the plot\n",
    "plt.show()"
   ]
  },
  {
   "cell_type": "markdown",
   "metadata": {},
   "source": [
    "**Interpretation:** The diagonal line (red line) is the regression line and the blue points are the cumulative distribution of the residuals. As some of the points are close to the diagonal line, we conclude that the residuals do not follow a `normal distribution`."
   ]
  },
  {
   "cell_type": "markdown",
   "metadata": {},
   "source": [
    "<a id=\"SWT\"></a>\n",
    "#### 2. Shapiro Wilk Test"
   ]
  },
  {
   "cell_type": "markdown",
   "metadata": {},
   "source": [
    "The Shapiro Wilk test is used to check the normality of the residuals. The test hypothesis is given as:<br>\n",
    "\n",
    "<p style='text-indent:25em'> <strong> H<sub>o</sub>:  Residuals are normally distributed </strong> </p>\n",
    "<p style='text-indent:25em'> <strong> H<sub>1</sub>:  Residuals are not normally distributed </strong> </p>"
   ]
  },
  {
   "cell_type": "code",
   "execution_count": 401,
   "metadata": {},
   "outputs": [
    {
     "name": "stdout",
     "output_type": "stream",
     "text": [
      "Test statistic: 0.9868017435073853\n",
      "P-Value: 1.8573244679082737e-27\n"
     ]
    }
   ],
   "source": [
    "# perform Shapiro Wilk test using 'shapiro()' from scipy library\n",
    "# shapiro() returns a tuple having the values of test statistics and the corresponding p-value\n",
    "# 'resid' returns the residuals in the model\n",
    "# pass the residuals to 'shapiro()'\n",
    "stat, p_value = shapiro(MLR_model_with_significant_var.resid)\n",
    "\n",
    "# print the test statistic and corresponding p-value \n",
    "print('Test statistic:', stat)\n",
    "print('P-Value:', p_value)"
   ]
  },
  {
   "cell_type": "markdown",
   "metadata": {},
   "source": [
    "**Interpretation:** From the above test we can see that the p-value less than 0.05, thus we can say that the residuals are not normally distributed."
   ]
  },
  {
   "cell_type": "markdown",
   "metadata": {},
   "source": [
    "<a id=\"eval\"></a>\n",
    "## 7. Model Evaluation"
   ]
  },
  {
   "cell_type": "markdown",
   "metadata": {},
   "source": [
    "In this section, we evaluate the model containing significant variables. \n",
    "\n",
    "Let us print the summary of the multiple regression model."
   ]
  },
  {
   "cell_type": "code",
   "execution_count": 402,
   "metadata": {},
   "outputs": [
    {
     "name": "stdout",
     "output_type": "stream",
     "text": [
      "                            OLS Regression Results                            \n",
      "==============================================================================\n",
      "Dep. Variable:                  Price   R-squared:                       0.723\n",
      "Model:                            OLS   Adj. R-squared:                  0.722\n",
      "Method:                 Least Squares   F-statistic:                     1171.\n",
      "Date:                Sat, 22 May 2021   Prob (F-statistic):               0.00\n",
      "Time:                        10:22:23   Log-Likelihood:                -890.64\n",
      "No. Observations:                8545   AIC:                             1821.\n",
      "Df Residuals:                    8525   BIC:                             1962.\n",
      "Df Model:                          19                                         \n",
      "Covariance Type:            nonrobust                                         \n",
      "=============================================================================================================\n",
      "                                                coef    std err          t      P>|t|      [0.025      0.975]\n",
      "-------------------------------------------------------------------------------------------------------------\n",
      "const                                         6.1859      0.008    745.187      0.000       6.170       6.202\n",
      "Total_Stops                                   0.2020      0.004     45.161      0.000       0.193       0.211\n",
      "Arrival_Minute                                0.0063      0.003      2.086      0.037       0.000       0.012\n",
      "Journey_Month                                -0.0146      0.003     -4.749      0.000      -0.021      -0.009\n",
      "Journey_Date                                 -0.0613      0.003    -19.944      0.000      -0.067      -0.055\n",
      "Airline_Air Asia                              0.1088      0.020      5.353      0.000       0.069       0.149\n",
      "Airline_Air India                             0.3650      0.014     25.976      0.000       0.337       0.393\n",
      "Airline_GoAir                                 0.1274      0.025      5.197      0.000       0.079       0.176\n",
      "Airline_IndiGo                                0.1647      0.013     13.083      0.000       0.140       0.189\n",
      "Airline_Jet Airways                           0.6483      0.013     51.601      0.000       0.624       0.673\n",
      "Airline_Jet Airways Business                  2.1063      0.135     15.556      0.000       1.841       2.372\n",
      "Airline_Multiple carriers                     0.5658      0.015     37.501      0.000       0.536       0.595\n",
      "Airline_Multiple carriers Premium economy     0.7092      0.079      9.019      0.000       0.555       0.863\n",
      "Airline_Vistara                               0.4532      0.018     25.479      0.000       0.418       0.488\n",
      "Airline_Vistara Premium economy               0.6043      0.191      3.172      0.002       0.231       0.978\n",
      "Source_Banglore                               1.6141      0.005    330.161      0.000       1.604       1.624\n",
      "Source_Chennai                                1.1542      0.007    164.615      0.000       1.140       1.168\n",
      "Source_Delhi                                  1.2160      0.004    324.702      0.000       1.209       1.223\n",
      "Source_Kolkata                                1.2070      0.003    366.260      0.000       1.201       1.213\n",
      "Source_Mumbai                                 0.9947      0.006    178.991      0.000       0.984       1.006\n",
      "Destination_Banglore                          1.2070      0.003    366.260      0.000       1.201       1.213\n",
      "Destination_Cochin                            1.2160      0.004    324.702      0.000       1.209       1.223\n",
      "Destination_Delhi                             0.6287      0.007     86.328      0.000       0.614       0.643\n",
      "Destination_Hyderabad                         0.9947      0.006    178.991      0.000       0.984       1.006\n",
      "Destination_Kolkata                           1.1542      0.007    164.615      0.000       1.140       1.168\n",
      "Destination_New Delhi                         0.9854      0.008    130.942      0.000       0.971       1.000\n",
      "==============================================================================\n",
      "Omnibus:                      398.253   Durbin-Watson:                   2.042\n",
      "Prob(Omnibus):                  0.000   Jarque-Bera (JB):              937.675\n",
      "Skew:                           0.282   Prob(JB):                    2.43e-204\n",
      "Kurtosis:                       4.522   Cond. No.                     1.38e+16\n",
      "==============================================================================\n",
      "\n",
      "Notes:\n",
      "[1] Standard Errors assume that the covariance matrix of the errors is correctly specified.\n",
      "[2] The smallest eigenvalue is 8.53e-29. This might indicate that there are\n",
      "strong multicollinearity problems or that the design matrix is singular.\n"
     ]
    }
   ],
   "source": [
    "print(MLR_model_with_significant_var.summary())"
   ]
  },
  {
   "cell_type": "code",
   "execution_count": 403,
   "metadata": {},
   "outputs": [
    {
     "data": {
      "text/html": [
       "<div>\n",
       "<style scoped>\n",
       "    .dataframe tbody tr th:only-of-type {\n",
       "        vertical-align: middle;\n",
       "    }\n",
       "\n",
       "    .dataframe tbody tr th {\n",
       "        vertical-align: top;\n",
       "    }\n",
       "\n",
       "    .dataframe thead th {\n",
       "        text-align: right;\n",
       "    }\n",
       "</style>\n",
       "<table border=\"1\" class=\"dataframe\">\n",
       "  <thead>\n",
       "    <tr style=\"text-align: right;\">\n",
       "      <th></th>\n",
       "      <th>Model_Name</th>\n",
       "      <th>R-squared_test</th>\n",
       "      <th>Adj. R-squared_test</th>\n",
       "    </tr>\n",
       "  </thead>\n",
       "  <tbody>\n",
       "    <tr>\n",
       "      <th>0</th>\n",
       "      <td>MLR Base Model</td>\n",
       "      <td>0.721674</td>\n",
       "      <td>0.718891</td>\n",
       "    </tr>\n",
       "    <tr>\n",
       "      <th>1</th>\n",
       "      <td>MLR with Significant variables</td>\n",
       "      <td>0.721107</td>\n",
       "      <td>0.717670</td>\n",
       "    </tr>\n",
       "  </tbody>\n",
       "</table>\n",
       "</div>"
      ],
      "text/plain": [
       "                       Model_Name  R-squared_test  Adj. R-squared_test\n",
       "0                  MLR Base Model        0.721674             0.718891\n",
       "1  MLR with Significant variables        0.721107             0.717670"
      ]
     },
     "execution_count": 403,
     "metadata": {},
     "output_type": "execute_result"
    }
   ],
   "source": [
    "result_table_test"
   ]
  },
  {
   "cell_type": "markdown",
   "metadata": {},
   "source": [
    "## 8. K fold Validation"
   ]
  },
  {
   "cell_type": "code",
   "execution_count": 404,
   "metadata": {},
   "outputs": [],
   "source": [
    "# using cross_val_score() for k-fold cross validation\n",
    "# estimator: pass the machine learning function. Here we are performing linear regression\n",
    "# pass the X_train and y_train sets\n",
    "# cv: stands for number of folds. Similar to k in KFold\n",
    "# scoring: pass the scoring parameter e.g. 'r2' for r-squared, 'neg_mean_squared_error' for mean squared error (negative)\n",
    "scores = cross_val_score(estimator = LinearRegression(), \n",
    "                         X = X, \n",
    "                         y = y_log, \n",
    "                         cv = 10, \n",
    "                         scoring = 'r2')"
   ]
  },
  {
   "cell_type": "code",
   "execution_count": 405,
   "metadata": {},
   "outputs": [
    {
     "name": "stdout",
     "output_type": "stream",
     "text": [
      "All scores:  [0.71798703 0.7178028  0.73447378 0.749138   0.72538997 0.70879232\n",
      " 0.71033305 0.68413951 0.72269838 0.7404197 ]\n",
      "\n",
      "Minimum score obtained:  0.6841\n",
      "Maximum score obtained:  0.7491\n",
      "Average score obtained:  0.7211\n"
     ]
    }
   ],
   "source": [
    "# print all scores\n",
    "print('All scores: ', scores)\n",
    "\n",
    "# print the minimum score from the list\n",
    "# use 'round()' to round-off the minimum score upto 4 digits\n",
    "# min() returns minimum score \n",
    "print(\"\\nMinimum score obtained: \", round(np.min(scores), 4))\n",
    "\n",
    "# print the maximum score from the list\n",
    "# use 'round()' to round-off the maximum score upto 4 digits\n",
    "# max() returns maximum score \n",
    "print(\"Maximum score obtained: \", round(np.max(scores), 4))\n",
    "\n",
    "# print the average score from the list\n",
    "# use 'round()' to round-off the average score upto 4 digits\n",
    "# np.mean() returns average score \n",
    "print(\"Average score obtained: \", round(np.mean(scores), 4))"
   ]
  },
  {
   "cell_type": "markdown",
   "metadata": {},
   "source": [
    "References:\n",
    "\n",
    "https://www.kaggle.com/"
   ]
  }
 ],
 "metadata": {
  "kernelspec": {
   "display_name": "Python 3",
   "language": "python",
   "name": "python3"
  },
  "language_info": {
   "codemirror_mode": {
    "name": "ipython",
    "version": 3
   },
   "file_extension": ".py",
   "mimetype": "text/x-python",
   "name": "python",
   "nbconvert_exporter": "python",
   "pygments_lexer": "ipython3",
   "version": "3.8.8"
  }
 },
 "nbformat": 4,
 "nbformat_minor": 4
}
